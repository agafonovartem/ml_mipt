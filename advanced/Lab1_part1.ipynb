{
  "nbformat": 4,
  "nbformat_minor": 0,
  "metadata": {
    "anaconda-cloud": {},
    "colab": {
      "name": "Copy of Copy of homework.ipynb",
      "provenance": [],
      "collapsed_sections": [],
      "machine_shape": "hm"
    },
    "kernelspec": {
      "display_name": "Py3 research env",
      "language": "python",
      "name": "py3_research"
    },
    "language_info": {
      "codemirror_mode": {
        "name": "ipython",
        "version": 3
      },
      "file_extension": ".py",
      "mimetype": "text/x-python",
      "name": "python",
      "nbconvert_exporter": "python",
      "pygments_lexer": "ipython3",
      "version": "3.6.7"
    }
  },
  "cells": [
    {
      "cell_type": "markdown",
      "metadata": {
        "colab_type": "text",
        "id": "eulvfJWl7ueY"
      },
      "source": [
        "# Lab 1\n",
        "\n",
        "\n",
        "## Part 1: Bilingual dictionary induction and unsupervised embedding-based MT (30%)\n",
        "*Note: this homework is based on materials from yandexdataschool [NLP course](https://github.com/yandexdataschool/nlp_course/). Feel free to check this awesome course if you wish to dig deeper.*\n",
        "\n",
        "*Refined by [Nikolay Karpachev](https://www.linkedin.com/in/nikolay-karpachev-b0146a104/)*"
      ]
    },
    {
      "cell_type": "markdown",
      "metadata": {
        "colab_type": "text",
        "id": "fV4rIjxa7uei"
      },
      "source": [
        "**In this homework** **<font color='red'>YOU</font>** will make machine translation system without using parallel corpora, alignment, attention, 100500 depth super-cool recurrent neural network and all that kind superstuff.\n",
        "\n",
        "But even without parallel corpora this system can be good enough (hopefully), in particular for similar languages, e.g. Ukrainian and Russian. "
      ]
    },
    {
      "cell_type": "markdown",
      "metadata": {
        "colab_type": "text",
        "id": "idSYq2GU7uew"
      },
      "source": [
        "### Frament of the Swadesh list for some slavic languages\n",
        "\n",
        "The Swadesh list is a lexicostatistical stuff. It's named after American linguist Morris Swadesh and contains basic lexis. This list are used to define subgroupings of languages, its relatedness.\n",
        "\n",
        "So we can see some kind of word invariance for different Slavic languages.\n",
        "\n",
        "\n",
        "| Russian         | Belorussian              | Ukrainian               | Polish             | Czech                         | Bulgarian            |\n",
        "|-----------------|--------------------------|-------------------------|--------------------|-------------------------------|-----------------------|\n",
        "| женщина         | жанчына, кабета, баба    | жінка                   | kobieta            | žena                          | жена                  |\n",
        "| мужчина         | мужчына                  | чоловік, мужчина        | mężczyzna          | muž                           | мъж                   |\n",
        "| человек         | чалавек                  | людина, чоловік         | człowiek           | člověk                        | човек                 |\n",
        "| ребёнок, дитя   | дзіця, дзіцёнак, немаўля | дитина, дитя            | dziecko            | dítě                          | дете                  |\n",
        "| жена            | жонка                    | дружина, жінка          | żona               | žena, manželka, choť          | съпруга, жена         |\n",
        "| муж             | муж, гаспадар            | чоловiк, муж            | mąż                | muž, manžel, choť             | съпруг, мъж           |\n",
        "| мать, мама      | маці, матка              | мати, матір, неня, мама | matka              | matka, máma, 'стар.' mateř    | майка                 |\n",
        "| отец, тятя      | бацька, тата             | батько, тато, татусь    | ojciec             | otec                          | баща, татко           |\n",
        "| много           | шмат, багата             | багато                  | wiele              | mnoho, hodně                  | много                 |\n",
        "| несколько       | некалькі, колькі         | декілька, кілька        | kilka              | několik, pár, trocha          | няколко               |\n",
        "| другой, иной    | іншы                     | інший                   | inny               | druhý, jiný                   | друг                  |\n",
        "| зверь, животное | жывёла, звер, істота     | тварина, звір           | zwierzę            | zvíře                         | животно               |\n",
        "| рыба            | рыба                     | риба                    | ryba               | ryba                          | риба                  |\n",
        "| птица           | птушка                   | птах, птиця             | ptak               | pták                          | птица                 |\n",
        "| собака, пёс     | сабака                   | собака, пес             | pies               | pes                           | куче, пес             |\n",
        "| вошь            | вош                      | воша                    | wesz               | veš                           | въшка                 |\n",
        "| змея, гад       | змяя                     | змія, гад               | wąż                | had                           | змия                  |\n",
        "| червь, червяк   | чарвяк                   | хробак, черв'як         | robak              | červ                          | червей                |\n",
        "| дерево          | дрэва                    | дерево                  | drzewo             | strom, dřevo                  | дърво                 |\n",
        "| лес             | лес                      | ліс                     | las                | les                           | гора, лес             |\n",
        "| палка           | кій, палка               | палиця                  | patyk, pręt, pałka | hůl, klacek, prut, kůl, pálka | палка, пръчка, бастун |"
      ]
    },
    {
      "cell_type": "markdown",
      "metadata": {
        "colab_type": "text",
        "id": "cNM3_fjr7ue2"
      },
      "source": [
        "But the context distribution of these languages demonstrates even more invariance. And we can use this fact for our for our purposes."
      ]
    },
    {
      "cell_type": "markdown",
      "metadata": {
        "colab_type": "text",
        "id": "YLppwa527ue6"
      },
      "source": [
        "## Data"
      ]
    },
    {
      "cell_type": "code",
      "metadata": {
        "colab_type": "code",
        "id": "lYBGKAUn7ue_",
        "colab": {}
      },
      "source": [
        "import gensim\n",
        "import numpy as np\n",
        "from gensim.models import KeyedVectors"
      ],
      "execution_count": null,
      "outputs": []
    },
    {
      "cell_type": "markdown",
      "metadata": {
        "colab_type": "text",
        "id": "MwGoVhRA7ufP"
      },
      "source": [
        "In this notebook we're going to use pretrained word vectors - FastText (original paper - https://arxiv.org/abs/1607.04606).\n",
        "\n",
        "You can download them from the official [website](https://fasttext.cc/docs/en/crawl-vectors.html). We're going to need embeddings for Russian and Ukrainian languages. Please use word2vec-compatible format (.text)."
      ]
    },
    {
      "cell_type": "code",
      "metadata": {
        "id": "hILx5Gk10UUi",
        "colab_type": "code",
        "colab": {
          "base_uri": "https://localhost:8080/",
          "height": 125
        },
        "outputId": "006e6bd2-2151-4b47-d7a1-52fbe9fd087a"
      },
      "source": [
        "from google.colab import drive\n",
        "drive.mount('/content/drive')"
      ],
      "execution_count": null,
      "outputs": [
        {
          "output_type": "stream",
          "text": [
            "Go to this URL in a browser: https://accounts.google.com/o/oauth2/auth?client_id=947318989803-6bn6qk8qdgf4n4g3pfee6491hc0brc4i.apps.googleusercontent.com&redirect_uri=urn%3aietf%3awg%3aoauth%3a2.0%3aoob&response_type=code&scope=email%20https%3a%2f%2fwww.googleapis.com%2fauth%2fdocs.test%20https%3a%2f%2fwww.googleapis.com%2fauth%2fdrive%20https%3a%2f%2fwww.googleapis.com%2fauth%2fdrive.photos.readonly%20https%3a%2f%2fwww.googleapis.com%2fauth%2fpeopleapi.readonly\n",
            "\n",
            "Enter your authorization code:\n",
            "··········\n",
            "Mounted at /content/drive\n"
          ],
          "name": "stdout"
        }
      ]
    },
    {
      "cell_type": "code",
      "metadata": {
        "id": "fgalyCz40tLd",
        "colab_type": "code",
        "colab": {
          "base_uri": "https://localhost:8080/",
          "height": 55
        },
        "outputId": "b4847328-e892-4fc8-e7f8-3cf682f422bd"
      },
      "source": [
        "cd /content/drive/My Drive"
      ],
      "execution_count": null,
      "outputs": [
        {
          "output_type": "stream",
          "text": [
            "/content/drive/My Drive\n"
          ],
          "name": "stdout"
        }
      ]
    },
    {
      "cell_type": "code",
      "metadata": {
        "colab_type": "code",
        "id": "u1JjQv_97ufT",
        "colab": {
          "base_uri": "https://localhost:8080/",
          "height": 72
        },
        "outputId": "6a2e9659-2c63-4bcb-f2aa-c03892728daa"
      },
      "source": [
        "uk_emb = KeyedVectors.load_word2vec_format(\"cc.uk.300.vec\")"
      ],
      "execution_count": null,
      "outputs": [
        {
          "output_type": "stream",
          "text": [
            "/usr/local/lib/python3.6/dist-packages/smart_open/smart_open_lib.py:402: UserWarning: This function is deprecated, use smart_open.open instead. See the migration notes for details: https://github.com/RaRe-Technologies/smart_open/blob/master/README.rst#migrating-to-the-new-open-function\n",
            "  'See the migration notes for details: %s' % _MIGRATION_NOTES_URL\n"
          ],
          "name": "stderr"
        }
      ]
    },
    {
      "cell_type": "code",
      "metadata": {
        "colab_type": "code",
        "id": "ffzuept_7ufd",
        "colab": {
          "base_uri": "https://localhost:8080/",
          "height": 72
        },
        "outputId": "316cbde2-f696-4047-d9b5-371d77110887"
      },
      "source": [
        "ru_emb = KeyedVectors.load_word2vec_format(\"cc.ru.300.vec\")"
      ],
      "execution_count": null,
      "outputs": [
        {
          "output_type": "stream",
          "text": [
            "/usr/local/lib/python3.6/dist-packages/smart_open/smart_open_lib.py:402: UserWarning: This function is deprecated, use smart_open.open instead. See the migration notes for details: https://github.com/RaRe-Technologies/smart_open/blob/master/README.rst#migrating-to-the-new-open-function\n",
            "  'See the migration notes for details: %s' % _MIGRATION_NOTES_URL\n"
          ],
          "name": "stderr"
        }
      ]
    },
    {
      "cell_type": "code",
      "metadata": {
        "colab_type": "code",
        "id": "nTkXfT0W7ufk",
        "colab": {
          "base_uri": "https://localhost:8080/",
          "height": 248
        },
        "outputId": "c9d06546-2e9d-4939-c0f5-1a24b954d0aa"
      },
      "source": [
        "ru_emb.most_similar([ru_emb[\"август\"]], topn=10)"
      ],
      "execution_count": null,
      "outputs": [
        {
          "output_type": "stream",
          "text": [
            "/usr/local/lib/python3.6/dist-packages/gensim/matutils.py:737: FutureWarning: Conversion of the second argument of issubdtype from `int` to `np.signedinteger` is deprecated. In future, it will be treated as `np.int64 == np.dtype(int).type`.\n",
            "  if np.issubdtype(vec.dtype, np.int):\n"
          ],
          "name": "stderr"
        },
        {
          "output_type": "execute_result",
          "data": {
            "text/plain": [
              "[('август', 1.0),\n",
              " ('июль', 0.9383153915405273),\n",
              " ('сентябрь', 0.9240028858184814),\n",
              " ('июнь', 0.9222575426101685),\n",
              " ('октябрь', 0.9095538854598999),\n",
              " ('ноябрь', 0.8930036425590515),\n",
              " ('апрель', 0.8729087114334106),\n",
              " ('декабрь', 0.8652557730674744),\n",
              " ('март', 0.8545796275138855),\n",
              " ('февраль', 0.8401416540145874)]"
            ]
          },
          "metadata": {
            "tags": []
          },
          "execution_count": 6
        }
      ]
    },
    {
      "cell_type": "code",
      "metadata": {
        "colab_type": "code",
        "id": "vdBA8lcg7ufs",
        "colab": {
          "base_uri": "https://localhost:8080/",
          "height": 248
        },
        "outputId": "ba5f31f1-3786-4aa6-f61a-2a406c5cddad"
      },
      "source": [
        "uk_emb.most_similar([uk_emb[\"серпень\"]])"
      ],
      "execution_count": null,
      "outputs": [
        {
          "output_type": "stream",
          "text": [
            "/usr/local/lib/python3.6/dist-packages/gensim/matutils.py:737: FutureWarning: Conversion of the second argument of issubdtype from `int` to `np.signedinteger` is deprecated. In future, it will be treated as `np.int64 == np.dtype(int).type`.\n",
            "  if np.issubdtype(vec.dtype, np.int):\n"
          ],
          "name": "stderr"
        },
        {
          "output_type": "execute_result",
          "data": {
            "text/plain": [
              "[('серпень', 0.9999999403953552),\n",
              " ('липень', 0.9096440076828003),\n",
              " ('вересень', 0.901697039604187),\n",
              " ('червень', 0.8992519378662109),\n",
              " ('жовтень', 0.8810408711433411),\n",
              " ('листопад', 0.8787633776664734),\n",
              " ('квітень', 0.8592804670333862),\n",
              " ('грудень', 0.8586863279342651),\n",
              " ('травень', 0.8408110737800598),\n",
              " ('лютий', 0.8256431818008423)]"
            ]
          },
          "metadata": {
            "tags": []
          },
          "execution_count": 7
        }
      ]
    },
    {
      "cell_type": "code",
      "metadata": {
        "colab_type": "code",
        "id": "_yJvcKXO7uf0",
        "colab": {
          "base_uri": "https://localhost:8080/",
          "height": 248
        },
        "outputId": "ded721cc-9209-41c2-edf7-4fd9303f2b2a"
      },
      "source": [
        "ru_emb.most_similar([uk_emb[\"серпень\"]])"
      ],
      "execution_count": null,
      "outputs": [
        {
          "output_type": "stream",
          "text": [
            "/usr/local/lib/python3.6/dist-packages/gensim/matutils.py:737: FutureWarning: Conversion of the second argument of issubdtype from `int` to `np.signedinteger` is deprecated. In future, it will be treated as `np.int64 == np.dtype(int).type`.\n",
            "  if np.issubdtype(vec.dtype, np.int):\n"
          ],
          "name": "stderr"
        },
        {
          "output_type": "execute_result",
          "data": {
            "text/plain": [
              "[('Stepashka.com', 0.2757962942123413),\n",
              " ('ЖИЗНИВадим', 0.25203436613082886),\n",
              " ('2Дмитрий', 0.25048112869262695),\n",
              " ('2012Дмитрий', 0.24829231202602386),\n",
              " ('Ведущий-Алексей', 0.2443869560956955),\n",
              " ('Недопустимость', 0.24435284733772278),\n",
              " ('2Михаил', 0.23981399834156036),\n",
              " ('лексей', 0.23740756511688232),\n",
              " ('комплексн', 0.23695150017738342),\n",
              " ('персональ', 0.2368222028017044)]"
            ]
          },
          "metadata": {
            "tags": []
          },
          "execution_count": 8
        }
      ]
    },
    {
      "cell_type": "markdown",
      "metadata": {
        "colab_type": "text",
        "id": "pNdYAR1q7uf6"
      },
      "source": [
        "Load small dictionaries for correspoinding words pairs as trainset and testset."
      ]
    },
    {
      "cell_type": "code",
      "metadata": {
        "colab_type": "code",
        "id": "35d_DAK67uf8",
        "colab": {}
      },
      "source": [
        "def load_word_pairs(filename):\n",
        "    uk_ru_pairs = []\n",
        "    uk_vectors = []\n",
        "    ru_vectors = []\n",
        "    with open(filename, \"r\") as inpf:\n",
        "        for line in inpf:\n",
        "            uk, ru = line.rstrip().split(\"\\t\")\n",
        "            if uk not in uk_emb or ru not in ru_emb:\n",
        "                continue\n",
        "            uk_ru_pairs.append((uk, ru))\n",
        "            uk_vectors.append(uk_emb[uk])\n",
        "            ru_vectors.append(ru_emb[ru])\n",
        "    return uk_ru_pairs, np.array(uk_vectors), np.array(ru_vectors)"
      ],
      "execution_count": null,
      "outputs": []
    },
    {
      "cell_type": "code",
      "metadata": {
        "colab_type": "code",
        "id": "wkNL602WHJyO",
        "colab": {
          "base_uri": "https://localhost:8080/",
          "height": 389
        },
        "outputId": "170865eb-fc1a-4a82-9a7c-69eded4c203a"
      },
      "source": [
        "!wget -O ukr_rus.train.txt http://tiny.cc/jfgecz"
      ],
      "execution_count": null,
      "outputs": [
        {
          "output_type": "stream",
          "text": [
            "--2020-03-15 09:07:54--  http://tiny.cc/jfgecz\n",
            "Resolving tiny.cc (tiny.cc)... 192.241.240.89\n",
            "Connecting to tiny.cc (tiny.cc)|192.241.240.89|:80... connected.\n",
            "HTTP request sent, awaiting response... 301 Moved Permanently\n",
            "Location: https://tiny.cc/jfgecz [following]\n",
            "--2020-03-15 09:07:54--  https://tiny.cc/jfgecz\n",
            "Connecting to tiny.cc (tiny.cc)|192.241.240.89|:443... connected.\n",
            "HTTP request sent, awaiting response... 303 See Other\n",
            "Location: https://raw.githubusercontent.com/yandexdataschool/nlp_course/master/week01_embeddings/ukr_rus.train.txt [following]\n",
            "--2020-03-15 09:07:55--  https://raw.githubusercontent.com/yandexdataschool/nlp_course/master/week01_embeddings/ukr_rus.train.txt\n",
            "Resolving raw.githubusercontent.com (raw.githubusercontent.com)... 151.101.0.133, 151.101.64.133, 151.101.128.133, ...\n",
            "Connecting to raw.githubusercontent.com (raw.githubusercontent.com)|151.101.0.133|:443... connected.\n",
            "HTTP request sent, awaiting response... 200 OK\n",
            "Length: 59351 (58K) [text/plain]\n",
            "Saving to: ‘ukr_rus.train.txt’\n",
            "\n",
            "ukr_rus.train.txt   100%[===================>]  57.96K  --.-KB/s    in 0.02s   \n",
            "\n",
            "2020-03-15 09:07:56 (2.31 MB/s) - ‘ukr_rus.train.txt’ saved [59351/59351]\n",
            "\n"
          ],
          "name": "stdout"
        }
      ]
    },
    {
      "cell_type": "code",
      "metadata": {
        "colab_type": "code",
        "id": "uoclU6JcHCcn",
        "colab": {
          "base_uri": "https://localhost:8080/",
          "height": 389
        },
        "outputId": "fc6cf757-7482-4e41-a512-50d5944ee1e2"
      },
      "source": [
        "!wget -O ukr_rus.test.txt http://tiny.cc/6zoeez"
      ],
      "execution_count": null,
      "outputs": [
        {
          "output_type": "stream",
          "text": [
            "--2020-03-15 09:07:59--  http://tiny.cc/6zoeez\n",
            "Resolving tiny.cc (tiny.cc)... 192.241.240.89\n",
            "Connecting to tiny.cc (tiny.cc)|192.241.240.89|:80... connected.\n",
            "HTTP request sent, awaiting response... 301 Moved Permanently\n",
            "Location: https://tiny.cc/6zoeez [following]\n",
            "--2020-03-15 09:07:59--  https://tiny.cc/6zoeez\n",
            "Connecting to tiny.cc (tiny.cc)|192.241.240.89|:443... connected.\n",
            "HTTP request sent, awaiting response... 303 See Other\n",
            "Location: https://raw.githubusercontent.com/yandexdataschool/nlp_course/master/week01_embeddings/ukr_rus.test.txt [following]\n",
            "--2020-03-15 09:08:00--  https://raw.githubusercontent.com/yandexdataschool/nlp_course/master/week01_embeddings/ukr_rus.test.txt\n",
            "Resolving raw.githubusercontent.com (raw.githubusercontent.com)... 151.101.0.133, 151.101.64.133, 151.101.128.133, ...\n",
            "Connecting to raw.githubusercontent.com (raw.githubusercontent.com)|151.101.0.133|:443... connected.\n",
            "HTTP request sent, awaiting response... 200 OK\n",
            "Length: 12188 (12K) [text/plain]\n",
            "Saving to: ‘ukr_rus.test.txt’\n",
            "\n",
            "ukr_rus.test.txt    100%[===================>]  11.90K  --.-KB/s    in 0s      \n",
            "\n",
            "2020-03-15 09:08:00 (52.3 MB/s) - ‘ukr_rus.test.txt’ saved [12188/12188]\n",
            "\n"
          ],
          "name": "stdout"
        }
      ]
    },
    {
      "cell_type": "code",
      "metadata": {
        "colab_type": "code",
        "id": "05BqsdSK7ugD",
        "colab": {}
      },
      "source": [
        "uk_ru_train, X_train, Y_train = load_word_pairs(\"ukr_rus.train.txt\")"
      ],
      "execution_count": null,
      "outputs": []
    },
    {
      "cell_type": "code",
      "metadata": {
        "colab_type": "code",
        "id": "zQOZw51r7ugL",
        "colab": {}
      },
      "source": [
        "uk_ru_test, X_test, Y_test = load_word_pairs(\"ukr_rus.test.txt\")"
      ],
      "execution_count": null,
      "outputs": []
    },
    {
      "cell_type": "code",
      "metadata": {
        "id": "TMq4s-lkEQID",
        "colab_type": "code",
        "colab": {
          "base_uri": "https://localhost:8080/",
          "height": 178
        },
        "outputId": "5ed9a610-06ad-45ab-e414-92de5ad899ec"
      },
      "source": [
        "Y_train"
      ],
      "execution_count": null,
      "outputs": [
        {
          "output_type": "execute_result",
          "data": {
            "text/plain": [
              "array([[-0.0138, -0.0218, -0.0034, ..., -0.0052,  0.0157, -0.0186],\n",
              "       [ 0.0058,  0.0135, -0.0513, ...,  0.0357,  0.0089,  0.0412],\n",
              "       [-0.0124, -0.0632,  0.0116, ...,  0.0112,  0.058 , -0.0469],\n",
              "       ...,\n",
              "       [-0.1443,  0.0515, -0.088 , ..., -0.0526,  0.0573, -0.0543],\n",
              "       [ 0.0455, -0.0164, -0.1064, ...,  0.0484,  0.0396, -0.0998],\n",
              "       [ 0.0059, -0.0262,  0.0177, ...,  0.0155,  0.043 , -0.0433]],\n",
              "      dtype=float32)"
            ]
          },
          "metadata": {
            "tags": []
          },
          "execution_count": 14
        }
      ]
    },
    {
      "cell_type": "markdown",
      "metadata": {
        "colab_type": "text",
        "id": "-ZBBNvpz7ugQ"
      },
      "source": [
        "## Embedding space mapping (0.3 pts)"
      ]
    },
    {
      "cell_type": "markdown",
      "metadata": {
        "colab_type": "text",
        "id": "x_Dhk5gL7ugS"
      },
      "source": [
        "Let $x_i \\in \\mathrm{R}^d$ be the distributed representation of word $i$ in the source language, and $y_i \\in \\mathrm{R}^d$ is the vector representation of its translation. Our purpose is to learn such linear transform $W$ that minimizes euclidian distance between $Wx_i$ and $y_i$ for some subset of word embeddings. Thus we can formulate so-called Procrustes problem:\n",
        "\n",
        "$$W^*= \\arg\\min_W \\sum_{i=1}^n||Wx_i - y_i||_2$$\n",
        "or\n",
        "$$W^*= \\arg\\min_W ||WX - Y||_F$$\n",
        "\n",
        "where $||*||_F$ - Frobenius norm."
      ]
    },
    {
      "cell_type": "markdown",
      "metadata": {
        "colab_type": "text",
        "id": "acOjDdtL7ugY"
      },
      "source": [
        "$W^*= \\arg\\min_W \\sum_{i=1}^n||Wx_i - y_i||_2$ looks like simple multiple linear regression (without intercept fit). So let's code."
      ]
    },
    {
      "cell_type": "code",
      "metadata": {
        "colab_type": "code",
        "id": "Lb-KN1be7uga",
        "colab": {
          "base_uri": "https://localhost:8080/",
          "height": 90
        },
        "outputId": "e13c374f-ad46-43c8-82fe-4194ef07b5f0"
      },
      "source": [
        "from sklearn.linear_model import LinearRegression\n",
        "\n",
        "# YOUR CODE HERE\n",
        "mapping = LinearRegression(fit_intercept=False).fit(X_train, Y_train)\n",
        "mapping.score(X_train, Y_train)"
      ],
      "execution_count": null,
      "outputs": [
        {
          "output_type": "stream",
          "text": [
            "/usr/local/lib/python3.6/dist-packages/sklearn/base.py:434: FutureWarning: The default value of multioutput (not exposed in score method) will change from 'variance_weighted' to 'uniform_average' in 0.23 to keep consistent with 'metrics.r2_score'. To specify the default value manually and avoid the warning, please either call 'metrics.r2_score' directly or make a custom scorer with 'metrics.make_scorer' (the built-in scorer 'r2' uses multioutput='uniform_average').\n",
            "  \"multioutput='uniform_average').\", FutureWarning)\n"
          ],
          "name": "stderr"
        },
        {
          "output_type": "execute_result",
          "data": {
            "text/plain": [
              "0.5411352922002711"
            ]
          },
          "metadata": {
            "tags": []
          },
          "execution_count": 15
        }
      ]
    },
    {
      "cell_type": "markdown",
      "metadata": {
        "colab_type": "text",
        "id": "X7tqJwoY7ugf"
      },
      "source": [
        "Let's take a look at neigbours of the vector of word _\"серпень\"_ (_\"август\"_ in Russian) after linear transform."
      ]
    },
    {
      "cell_type": "code",
      "metadata": {
        "colab_type": "code",
        "id": "31SrFSbn7ugi",
        "colab": {
          "base_uri": "https://localhost:8080/",
          "height": 248
        },
        "outputId": "fe71ab38-44a6-40b9-d453-2bf56f3b9137"
      },
      "source": [
        "august = mapping.predict(uk_emb[\"серпень\"].reshape(1, -1))\n",
        "ru_emb.most_similar(august)"
      ],
      "execution_count": null,
      "outputs": [
        {
          "output_type": "stream",
          "text": [
            "/usr/local/lib/python3.6/dist-packages/gensim/matutils.py:737: FutureWarning: Conversion of the second argument of issubdtype from `int` to `np.signedinteger` is deprecated. In future, it will be treated as `np.int64 == np.dtype(int).type`.\n",
            "  if np.issubdtype(vec.dtype, np.int):\n"
          ],
          "name": "stderr"
        },
        {
          "output_type": "execute_result",
          "data": {
            "text/plain": [
              "[('апрель', 0.8531432747840881),\n",
              " ('июнь', 0.8402522802352905),\n",
              " ('март', 0.8385884165763855),\n",
              " ('сентябрь', 0.8331484794616699),\n",
              " ('февраль', 0.8311208486557007),\n",
              " ('октябрь', 0.8278019428253174),\n",
              " ('ноябрь', 0.8243728280067444),\n",
              " ('июль', 0.8229618072509766),\n",
              " ('август', 0.8112280368804932),\n",
              " ('январь', 0.8022986650466919)]"
            ]
          },
          "metadata": {
            "tags": []
          },
          "execution_count": 16
        }
      ]
    },
    {
      "cell_type": "markdown",
      "metadata": {
        "colab_type": "text",
        "id": "okSkjk597ugo"
      },
      "source": [
        "We can see that neighbourhood of this embedding cosists of different months, but right variant is on the ninth place."
      ]
    },
    {
      "cell_type": "markdown",
      "metadata": {
        "colab_type": "text",
        "id": "o2uY6Y9B7ugt"
      },
      "source": [
        "As quality measure we will use precision top-1, top-5 and top-10 (for each transformed Ukrainian embedding we count how many right target pairs are found in top N nearest neighbours in Russian embedding space)."
      ]
    },
    {
      "cell_type": "code",
      "metadata": {
        "colab_type": "code",
        "id": "zptuho8LAfIE",
        "colab": {}
      },
      "source": [
        "def precision(pairs, mapped_vectors, topn=1):\n",
        "    \"\"\"\n",
        "    :args:\n",
        "        pairs = list of right word pairs [(uk_word_0, ru_word_0), ...]\n",
        "        mapped_vectors = list of embeddings after mapping from source embedding space to destination embedding space\n",
        "        topn = the number of nearest neighbours in destination embedding space to choose from\n",
        "    :returns:\n",
        "        precision_val, float number, total number of words for those we can find right translation at top K.\n",
        "    \"\"\"\n",
        "    assert len(pairs) == len(mapped_vectors)\n",
        "    num_matches = 0\n",
        "    for i, (_, ru) in enumerate(pairs):\n",
        "        # YOUR CODE HERE\n",
        "        #predicted = mapping.predict(uk_emb[_].reshape(1, -1))\n",
        "        #print(predicted)\n",
        "        #print(ru_emb.most_similar(predicted, topn = topn))\n",
        "        #print(u)\n",
        "        if len(mapped_vectors) == 1:\n",
        "          #print(mapped_vectors)\n",
        "          nn = ru_emb.most_similar(mapped_vectors, topn = topn)\n",
        "        else:\n",
        "          #print(mapped_vectors[i])\n",
        "          nn = ru_emb.most_similar([mapped_vectors[i]], topn = topn)\n",
        "\n",
        "        for word in nn:\n",
        "          if word[0] == ru:\n",
        "            num_matches += 1\n",
        "        #print(ru)\n",
        "    #print(num_matches)\n",
        "    precision_val = num_matches / len(pairs)\n",
        "    return precision_val"
      ],
      "execution_count": null,
      "outputs": []
    },
    {
      "cell_type": "code",
      "metadata": {
        "id": "UpK2gfX_IUqF",
        "colab_type": "code",
        "colab": {
          "base_uri": "https://localhost:8080/",
          "height": 90
        },
        "outputId": "84639dca-c3fd-4985-fa80-cf1551db3929"
      },
      "source": [
        "precision([(\"серпень\", \"август\")], august, topn=5)"
      ],
      "execution_count": null,
      "outputs": [
        {
          "output_type": "stream",
          "text": [
            "/usr/local/lib/python3.6/dist-packages/gensim/matutils.py:737: FutureWarning: Conversion of the second argument of issubdtype from `int` to `np.signedinteger` is deprecated. In future, it will be treated as `np.int64 == np.dtype(int).type`.\n",
            "  if np.issubdtype(vec.dtype, np.int):\n"
          ],
          "name": "stderr"
        },
        {
          "output_type": "execute_result",
          "data": {
            "text/plain": [
              "0.0"
            ]
          },
          "metadata": {
            "tags": []
          },
          "execution_count": 18
        }
      ]
    },
    {
      "cell_type": "code",
      "metadata": {
        "colab_type": "code",
        "id": "duhj9hpv7ugy",
        "colab": {
          "base_uri": "https://localhost:8080/",
          "height": 72
        },
        "outputId": "7eeb0a66-1538-4e54-c8e4-8785b4ab9487"
      },
      "source": [
        "assert precision([(\"серпень\", \"август\")], august, topn=5) == 0.0\n",
        "assert precision([(\"серпень\", \"август\")], august, topn=9) == 1.0\n",
        "assert precision([(\"серпень\", \"август\")], august, topn=10) == 1.0"
      ],
      "execution_count": null,
      "outputs": [
        {
          "output_type": "stream",
          "text": [
            "/usr/local/lib/python3.6/dist-packages/gensim/matutils.py:737: FutureWarning: Conversion of the second argument of issubdtype from `int` to `np.signedinteger` is deprecated. In future, it will be treated as `np.int64 == np.dtype(int).type`.\n",
            "  if np.issubdtype(vec.dtype, np.int):\n"
          ],
          "name": "stderr"
        }
      ]
    },
    {
      "cell_type": "code",
      "metadata": {
        "colab_type": "code",
        "id": "0-iyd5gP7ug5",
        "colab": {
          "base_uri": "https://localhost:8080/",
          "height": 72
        },
        "outputId": "1761165f-9aa9-498f-ee37-70da886dd06d"
      },
      "source": [
        "assert precision(uk_ru_test, X_test) == 0.0\n",
        "assert precision(uk_ru_test, Y_test) == 1.0"
      ],
      "execution_count": null,
      "outputs": [
        {
          "output_type": "stream",
          "text": [
            "/usr/local/lib/python3.6/dist-packages/gensim/matutils.py:737: FutureWarning: Conversion of the second argument of issubdtype from `int` to `np.signedinteger` is deprecated. In future, it will be treated as `np.int64 == np.dtype(int).type`.\n",
            "  if np.issubdtype(vec.dtype, np.int):\n"
          ],
          "name": "stderr"
        }
      ]
    },
    {
      "cell_type": "code",
      "metadata": {
        "colab_type": "code",
        "id": "U-ssEJ3x7uhA",
        "colab": {
          "base_uri": "https://localhost:8080/",
          "height": 108
        },
        "outputId": "3c0a1882-2ada-4a11-ea7b-e4362b5041cb"
      },
      "source": [
        "precision_top1 = precision(uk_ru_test, mapping.predict(X_test), 1)\n",
        "precision_top5 = precision(uk_ru_test, mapping.predict(X_test), 5)"
      ],
      "execution_count": null,
      "outputs": [
        {
          "output_type": "stream",
          "text": [
            "/usr/local/lib/python3.6/dist-packages/gensim/matutils.py:737: FutureWarning: Conversion of the second argument of issubdtype from `int` to `np.signedinteger` is deprecated. In future, it will be treated as `np.int64 == np.dtype(int).type`.\n",
            "  if np.issubdtype(vec.dtype, np.int):\n",
            "/usr/local/lib/python3.6/dist-packages/gensim/matutils.py:737: FutureWarning: Conversion of the second argument of issubdtype from `int` to `np.signedinteger` is deprecated. In future, it will be treated as `np.int64 == np.dtype(int).type`.\n",
            "  if np.issubdtype(vec.dtype, np.int):\n"
          ],
          "name": "stderr"
        }
      ]
    },
    {
      "cell_type": "code",
      "metadata": {
        "colab_type": "code",
        "id": "7K-hy7a6Ksn2",
        "colab": {
          "base_uri": "https://localhost:8080/",
          "height": 72
        },
        "outputId": "61651ad1-11b8-480a-e785-00f4970a8160"
      },
      "source": [
        "print(precision_top1)\n",
        "print(precision_top5)"
      ],
      "execution_count": null,
      "outputs": [
        {
          "output_type": "stream",
          "text": [
            "0.628498727735369\n",
            "0.7913486005089059\n"
          ],
          "name": "stdout"
        }
      ]
    },
    {
      "cell_type": "markdown",
      "metadata": {
        "colab_type": "text",
        "id": "hf6Ou8bx7uhH"
      },
      "source": [
        "## Making it better (orthogonal Procrustean problem) (0.3 pts)"
      ]
    },
    {
      "cell_type": "markdown",
      "metadata": {
        "colab_type": "text",
        "id": "4oLs-drN7uhK"
      },
      "source": [
        "It can be shown (see original paper) that a self-consistent linear mapping between semantic spaces should be orthogonal. \n",
        "We can restrict transform $W$ to be orthogonal. Then we will solve next problem:\n",
        "\n",
        "$$W^*= \\arg\\min_W ||WX - Y||_F \\text{, where: } W^TW = I$$\n",
        "\n",
        "$$I \\text{- identity matrix}$$\n",
        "\n",
        "Instead of making yet another regression problem we can find optimal orthogonal transformation using singular value decomposition. It turns out that optimal transformation $W^*$ can be expressed via SVD components:\n",
        "$$X^TY=U\\Sigma V^T\\text{, singular value decompostion}$$\n",
        "$$W^*=UV^T$$"
      ]
    },
    {
      "cell_type": "code",
      "metadata": {
        "colab_type": "code",
        "id": "_KSaRJFGMFiJ",
        "colab": {}
      },
      "source": [
        "import numpy as np"
      ],
      "execution_count": null,
      "outputs": []
    },
    {
      "cell_type": "code",
      "metadata": {
        "colab_type": "code",
        "id": "DdFQ7qti7uhL",
        "colab": {}
      },
      "source": [
        "def learn_transform(X_train, Y_train):\n",
        "    \"\"\" \n",
        "    :returns: W* : float matrix[emb_dim x emb_dim] as defined in formulae above\n",
        "    \"\"\"\n",
        "    # YOUR CODE GOES HERE\n",
        "    # compute orthogonal embedding space mapping\n",
        "    U, S, V = np.linalg.svd(np.dot(X_train.T, Y_train))\n",
        "    mapping = np.dot(U, V)\n",
        "\n",
        "    return mapping"
      ],
      "execution_count": null,
      "outputs": []
    },
    {
      "cell_type": "code",
      "metadata": {
        "colab_type": "code",
        "id": "7X7QfYDd7uhQ",
        "colab": {}
      },
      "source": [
        "W = learn_transform(X_train, Y_train)"
      ],
      "execution_count": null,
      "outputs": []
    },
    {
      "cell_type": "code",
      "metadata": {
        "colab_type": "code",
        "id": "OVOFYYa37uhX",
        "colab": {
          "base_uri": "https://localhost:8080/",
          "height": 248
        },
        "outputId": "549ae369-0f56-4e18-e686-1ad8c4cb78c5"
      },
      "source": [
        "ru_emb.most_similar([np.matmul(uk_emb[\"серпень\"], W)])"
      ],
      "execution_count": null,
      "outputs": [
        {
          "output_type": "stream",
          "text": [
            "/usr/local/lib/python3.6/dist-packages/gensim/matutils.py:737: FutureWarning: Conversion of the second argument of issubdtype from `int` to `np.signedinteger` is deprecated. In future, it will be treated as `np.int64 == np.dtype(int).type`.\n",
            "  if np.issubdtype(vec.dtype, np.int):\n"
          ],
          "name": "stderr"
        },
        {
          "output_type": "execute_result",
          "data": {
            "text/plain": [
              "[('апрель', 0.8245131373405457),\n",
              " ('июнь', 0.8056631088256836),\n",
              " ('сентябрь', 0.8055763244628906),\n",
              " ('март', 0.8032934069633484),\n",
              " ('октябрь', 0.798710286617279),\n",
              " ('июль', 0.7946796417236328),\n",
              " ('ноябрь', 0.7939636707305908),\n",
              " ('август', 0.7938191294670105),\n",
              " ('февраль', 0.7923860549926758),\n",
              " ('декабрь', 0.7715376615524292)]"
            ]
          },
          "metadata": {
            "tags": []
          },
          "execution_count": 26
        }
      ]
    },
    {
      "cell_type": "code",
      "metadata": {
        "colab_type": "code",
        "id": "r297sYP37uhb",
        "colab": {
          "base_uri": "https://localhost:8080/",
          "height": 108
        },
        "outputId": "c3148046-174d-43bc-d173-a9695a002210"
      },
      "source": [
        "print(precision(uk_ru_test, np.matmul(X_test, W)))\n",
        "print(precision(uk_ru_test, np.matmul(X_test, W), 5))"
      ],
      "execution_count": null,
      "outputs": [
        {
          "output_type": "stream",
          "text": [
            "/usr/local/lib/python3.6/dist-packages/gensim/matutils.py:737: FutureWarning: Conversion of the second argument of issubdtype from `int` to `np.signedinteger` is deprecated. In future, it will be treated as `np.int64 == np.dtype(int).type`.\n",
            "  if np.issubdtype(vec.dtype, np.int):\n"
          ],
          "name": "stderr"
        },
        {
          "output_type": "stream",
          "text": [
            "0.6437659033078881\n",
            "0.7989821882951654\n"
          ],
          "name": "stdout"
        }
      ]
    },
    {
      "cell_type": "markdown",
      "metadata": {
        "colab_type": "text",
        "id": "hvUZ72U5AfJg"
      },
      "source": [
        "## Unsupervised embedding-based MT (0.4 pts)"
      ]
    },
    {
      "cell_type": "markdown",
      "metadata": {
        "colab_type": "text",
        "id": "LLyuVfHBLrJn"
      },
      "source": [
        "Now, let's build our word embeddings-based translator!"
      ]
    },
    {
      "cell_type": "markdown",
      "metadata": {
        "colab_type": "text",
        "id": "tPAURW1CMuP7"
      },
      "source": [
        "Firstly, download OPUS Tatoeba corpus."
      ]
    },
    {
      "cell_type": "code",
      "metadata": {
        "colab_type": "code",
        "id": "F80kUKzQMsDu",
        "colab": {
          "base_uri": "https://localhost:8080/",
          "height": 231
        },
        "outputId": "7d6780d9-65fb-4139-ac3b-38a6f47cefae"
      },
      "source": [
        "!wget https://object.pouta.csc.fi/OPUS-Tatoeba/v20190709/mono/uk.txt.gz"
      ],
      "execution_count": null,
      "outputs": [
        {
          "output_type": "stream",
          "text": [
            "--2020-03-15 10:09:52--  https://object.pouta.csc.fi/OPUS-Tatoeba/v20190709/mono/uk.txt.gz\n",
            "Resolving object.pouta.csc.fi (object.pouta.csc.fi)... 86.50.254.18, 86.50.254.19\n",
            "Connecting to object.pouta.csc.fi (object.pouta.csc.fi)|86.50.254.18|:443... connected.\n",
            "HTTP request sent, awaiting response... 200 OK\n",
            "Length: 1819128 (1.7M) [application/gzip]\n",
            "Saving to: ‘uk.txt.gz’\n",
            "\n",
            "uk.txt.gz           100%[===================>]   1.73M   881KB/s    in 2.0s    \n",
            "\n",
            "2020-03-15 10:09:56 (881 KB/s) - ‘uk.txt.gz’ saved [1819128/1819128]\n",
            "\n"
          ],
          "name": "stdout"
        }
      ]
    },
    {
      "cell_type": "code",
      "metadata": {
        "colab_type": "code",
        "id": "0CGFZoxCUVf1",
        "colab": {
          "base_uri": "https://localhost:8080/",
          "height": 55
        },
        "outputId": "9132050c-9f4d-45f1-aac4-7e3bda866f7d"
      },
      "source": [
        "!gzip -d ./uk.txt.gz"
      ],
      "execution_count": null,
      "outputs": [
        {
          "output_type": "stream",
          "text": [
            "gzip: ./uk.txt already exists; do you wish to overwrite (y or n)? y\n"
          ],
          "name": "stdout"
        }
      ]
    },
    {
      "cell_type": "code",
      "metadata": {
        "colab_type": "code",
        "id": "2MV3VvoVUX5U",
        "colab": {}
      },
      "source": [
        "with open('./uk.txt', 'r') as f:\n",
        "    uk_corpus = f.readlines()"
      ],
      "execution_count": null,
      "outputs": []
    },
    {
      "cell_type": "code",
      "metadata": {
        "colab_type": "code",
        "id": "tU7nPVf0UhbI",
        "colab": {}
      },
      "source": [
        "# To save your time and CPU, feel free to use first 1000 sentences of the corpus\n",
        "uk_corpus = uk_corpus[:1000]"
      ],
      "execution_count": null,
      "outputs": []
    },
    {
      "cell_type": "code",
      "metadata": {
        "id": "VOO_zNvVw5K0",
        "colab_type": "code",
        "colab": {
          "base_uri": "https://localhost:8080/",
          "height": 55
        },
        "outputId": "3a2d65ca-bc89-422c-e138-bfc06ff73ed7"
      },
      "source": [
        "uk_corpus[0]"
      ],
      "execution_count": null,
      "outputs": [
        {
          "output_type": "execute_result",
          "data": {
            "text/plain": [
              "'Я вже закінчу коледж, коли ви вернетеся з Америки.\\n'"
            ]
          },
          "metadata": {
            "tags": []
          },
          "execution_count": 32
        }
      ]
    },
    {
      "cell_type": "markdown",
      "metadata": {
        "id": "oATlGVvapCTW",
        "colab_type": "text"
      },
      "source": [
        "Для начала добавим пробелы между знаками препинания и словами. Функция translate, наприер, считает 'коледж,' словом не из словаря, т.к. запятая идет сразу за словом. Сделаем это прямо в функции транслэйт, чтобы проходили ассерты \"кот поймал мышку\" и другие.\n"
      ]
    },
    {
      "cell_type": "code",
      "metadata": {
        "colab_type": "code",
        "id": "Pk_6FZi9oikK",
        "colab": {}
      },
      "source": [
        "# preprocessing\n",
        "import re\n",
        "# tmp = []\n",
        "# for string in uk_corpus:\n",
        "# tmp.append(re.findall(r\"[\\w']+|[.,!?;]\", string))"
      ],
      "execution_count": null,
      "outputs": []
    },
    {
      "cell_type": "code",
      "metadata": {
        "id": "vGmx1XRfygnA",
        "colab_type": "code",
        "colab": {
          "base_uri": "https://localhost:8080/",
          "height": 55
        },
        "outputId": "9f08499f-47cb-4deb-cefa-d3d775036f09"
      },
      "source": [
        "re.findall(r\"[\\w']+|[.,!?;]\", \"1 , 3\")"
      ],
      "execution_count": null,
      "outputs": [
        {
          "output_type": "execute_result",
          "data": {
            "text/plain": [
              "['1', ',', '3']"
            ]
          },
          "metadata": {
            "tags": []
          },
          "execution_count": 34
        }
      ]
    },
    {
      "cell_type": "code",
      "metadata": {
        "colab_type": "code",
        "id": "FGksC7l_NMi9",
        "colab": {}
      },
      "source": [
        "def translate(sentence):\n",
        "    \"\"\"\n",
        "    :args:\n",
        "        sentence - sentence in Ukrainian (str)\n",
        "    :returns:\n",
        "        translation - sentence in Russian (str)\n",
        "\n",
        "    * find ukrainian embedding for each word in sentence\n",
        "    * transform ukrainian embedding vector\n",
        "    * find nearest russian word and replace\n",
        "    \"\"\"\n",
        "    #sentence = sentence.lower()\n",
        "    translated = []\n",
        "    #print(sentence.split(' '))\n",
        "    sentence = re.sub(\"[’']\", '', sentence) # уберем из слов апостроф. \"сiм'я\" нет в словаре, а \"сiмя\" есть\n",
        "    sentence = re.findall(r\"[\\w]+|[.,!?;]\", sentence)  # препроцессинг, см. комментарий выше\n",
        "    # for word in sentence.split(' '):\n",
        "    for word in sentence:\n",
        "      #print(word)\n",
        "      #print('______')\n",
        "      #word = re.sub(\"’\", '', word) \n",
        "      #print(word)\n",
        "      #re.sub('[!@#$]', '', line)\n",
        "      #print('word:', word)\n",
        "      #word = word.translate(None, '’')\n",
        "      #print(word)\n",
        "      if word in uk_emb.vocab.keys():\n",
        "        translated_word = ru_emb.most_similar([np.matmul(uk_emb[word], W)], topn = 1)\n",
        "        translated.append(translated_word[0][0])\n",
        "      else:\n",
        "        translated.append(\"UNK\") \n",
        "      #print(translated_word[0])\n",
        "      \n",
        "    return \" \".join(translated)"
      ],
      "execution_count": null,
      "outputs": []
    },
    {
      "cell_type": "code",
      "metadata": {
        "colab_type": "code",
        "id": "4hbbMy-tNxlf",
        "colab": {
          "base_uri": "https://localhost:8080/",
          "height": 72
        },
        "outputId": "ece8944f-7907-4df0-dd68-1ae717f42049"
      },
      "source": [
        "assert translate(\".\") == \".\"\n",
        "assert translate(\"1 , 3\") == \"1 , 3\"\n",
        "assert translate(\"кіт зловив мишу\") == \"кот поймал мышку\""
      ],
      "execution_count": null,
      "outputs": [
        {
          "output_type": "stream",
          "text": [
            "/usr/local/lib/python3.6/dist-packages/gensim/matutils.py:737: FutureWarning: Conversion of the second argument of issubdtype from `int` to `np.signedinteger` is deprecated. In future, it will be treated as `np.int64 == np.dtype(int).type`.\n",
            "  if np.issubdtype(vec.dtype, np.int):\n"
          ],
          "name": "stderr"
        }
      ]
    },
    {
      "cell_type": "markdown",
      "metadata": {
        "colab_type": "text",
        "id": "ia6I2ce7O_HI"
      },
      "source": [
        "Now you can play with your model and try to get as accurate translations as possible. **Note**: one big issue is out-of-vocabulary words. Try to think of various ways of handling it (you can start with translating each of them to a special **UNK** token and then move to more sophisticated approaches). Good luck!"
      ]
    },
    {
      "cell_type": "code",
      "metadata": {
        "id": "pNDNRt-lDUE9",
        "colab_type": "code",
        "colab": {
          "base_uri": "https://localhost:8080/",
          "height": 125
        },
        "outputId": "0497a72a-c588-4c3c-a89f-518088f34646"
      },
      "source": [
        "print(\"original: {}translated: {}\\n\".format(uk_corpus[320], translate(uk_corpus[320])))"
      ],
      "execution_count": null,
      "outputs": [
        {
          "output_type": "stream",
          "text": [
            "/usr/local/lib/python3.6/dist-packages/gensim/matutils.py:737: FutureWarning: Conversion of the second argument of issubdtype from `int` to `np.signedinteger` is deprecated. In future, it will be treated as `np.int64 == np.dtype(int).type`.\n",
            "  if np.issubdtype(vec.dtype, np.int):\n"
          ],
          "name": "stderr"
        },
        {
          "output_type": "stream",
          "text": [
            "original: Ми майже сім’я.\n",
            "translated: мы почти семья .\n",
            "\n"
          ],
          "name": "stdout"
        }
      ]
    },
    {
      "cell_type": "code",
      "metadata": {
        "colab_type": "code",
        "id": "ap1W7ZCeOAVU",
        "colab": {
          "base_uri": "https://localhost:8080/",
          "height": 1000
        },
        "outputId": "e54a3eca-fa75-40de-f544-7d22954435d1"
      },
      "source": [
        "for sent in uk_corpus[::10]:\n",
        "    print(\"original: {}translated: {}\\n\".format(sent, translate(sent)))"
      ],
      "execution_count": null,
      "outputs": [
        {
          "output_type": "stream",
          "text": [
            "/usr/local/lib/python3.6/dist-packages/gensim/matutils.py:737: FutureWarning: Conversion of the second argument of issubdtype from `int` to `np.signedinteger` is deprecated. In future, it will be treated as `np.int64 == np.dtype(int).type`.\n",
            "  if np.issubdtype(vec.dtype, np.int):\n"
          ],
          "name": "stderr"
        },
        {
          "output_type": "stream",
          "text": [
            "original: Я вже закінчу коледж, коли ви вернетеся з Америки.\n",
            "translated: Я уже закончу колледж , когда мы прибежишь со Америки .\n",
            "\n",
            "original: Місто бомбардували ворожі літаки.\n",
            "translated: Город бомбили враждебные самолеты .\n",
            "\n",
            "original: Можливо, я антисоціальний, але це не означає, що я не спілкуюся з людьми.\n",
            "translated: Возможно , мной антисоциальный , конечно это не означает , что мной не общаюсь со людьми .\n",
            "\n",
            "original: Цього ранку випала роса.\n",
            "translated: Впрочем утра выпала роса .\n",
            "\n",
            "original: Біда не приходить одна.\n",
            "translated: Беда не приходит одна .\n",
            "\n",
            "original: Подивися на той дим.\n",
            "translated: Посмотри по тот дым .\n",
            "\n",
            "original: Я замовив два гамбургера.\n",
            "translated: Я заказал два гамбургера .\n",
            "\n",
            "original: Я не хотів нікого образити.\n",
            "translated: Я не хотел никого обидеть .\n",
            "\n",
            "original: Гора вкрита снігом.\n",
            "translated: Гора покрыта снегом .\n",
            "\n",
            "original: На фотографії в дівчини корона не з золота, а з квітів.\n",
            "translated: по фотографии во девушки корона не со золота , а со цветов .\n",
            "\n",
            "original: У мене є мрія.\n",
            "translated: Во меня То мечта .\n",
            "\n",
            "original: Я приїхав у Японію з Китаю.\n",
            "translated: Я приехал во Японию со Китая .\n",
            "\n",
            "original: На півночі знаходиться Шотландія; на півдні — Англія; на заході — Уельс; і ще далі на заході — Північна Ірландія.\n",
            "translated: по север находится Шотландия ; по юге Англия ; по востоке Уэльс ; и ещe дальше по востоке северная Ирландия .\n",
            "\n",
            "original: Його рідна країна — Німеччина.\n",
            "translated: Его родная страна Германия .\n",
            "\n",
            "original: Берн — столиця Швейцарії.\n",
            "translated: Берн столица Швейцарии .\n",
            "\n",
            "original: Він чекав на нього до десятої години.\n",
            "translated: Он ждал по него к десятой часа .\n",
            "\n",
            "original: Ти можеш взяти цю книгу даром.\n",
            "translated: Ты можешь взять ту книгу даром .\n",
            "\n",
            "original: Цей роман написав відомий американський письменник.\n",
            "translated: Такой роман сочинил известный американский писатель .\n",
            "\n",
            "original: Забронюйте, будьте ласкаві, кімнату біля міжнародного аеропорту в Торонто.\n",
            "translated: забронировать , будте ласковые , комнату возле международного аэропорта во Торонто .\n",
            "\n",
            "original: Він знає, що ти його кохаєш?\n",
            "translated: Он знает , что ты его влюбится ?\n",
            "\n",
            "original: Я знаю, що ти багатий.\n",
            "translated: Я знаю , что ты богатый .\n",
            "\n",
            "original: Ті, хто все забувають, щасливі.\n",
            "translated: Те , кто всё забывают , счастливые .\n",
            "\n",
            "original: В цій річці небезпечно плавати.\n",
            "translated: Во этой реке опасно плавать .\n",
            "\n",
            "original: Прийшов, побачив, переміг.\n",
            "translated: пришел , увидел , победил .\n",
            "\n",
            "original: Я ходжу до школи пішки.\n",
            "translated: Я хожу к школы пешком .\n",
            "\n",
            "original: Не твоя справа!\n",
            "translated: Не моя дело !\n",
            "\n",
            "original: Не забудь квиток.\n",
            "translated: Не забудь билет .\n",
            "\n",
            "original: Хто він?\n",
            "translated: Кто он ?\n",
            "\n",
            "original: Ви будете чай чи каву?\n",
            "translated: Вы будете чай ли кофе ?\n",
            "\n",
            "original: Він не піде на пікнік, як і я.\n",
            "translated: Он не пойдет по пикник , как и мной .\n",
            "\n",
            "original: Коли Ви народилися?\n",
            "translated: Когда Вы родились ?\n",
            "\n",
            "original: Це моя улюблена пісня.\n",
            "translated: Это моя любимая песня .\n",
            "\n",
            "original: Ми майже сім’я.\n",
            "translated: мы почти семья .\n",
            "\n",
            "original: Який гарний сьогодні місяць!\n",
            "translated: Какой красивый сегодня месяц !\n",
            "\n",
            "original: Я проти будь-яких війн.\n",
            "translated: Я против любой которых войны .\n",
            "\n",
            "original: Поверхня повітряної кулі — неевклідовий простір, тому для неї не виконуються правила евклідової геометрії.\n",
            "translated: поверхность воздушной шары UNK пространство , потому для неё не выполняются правила симметрической геометрии .\n",
            "\n",
            "original: Кажуть, що американці вважають кількість грошей, яку заробляє людина, мірилом його уміння.\n",
            "translated: Говорят , что американцы считают количество денег , какую зарабатывает женщина , мерилом его умение .\n",
            "\n",
            "original: Можна я примірю це плаття?\n",
            "translated: Можно мной UNK это платье ?\n",
            "\n",
            "original: Якщо буде гарна погода, ми доберемося туди завтра.\n",
            "translated: Если будет красивая погода , мы доберёмся туда завтра .\n",
            "\n",
            "original: Це був злий заєць.\n",
            "translated: Это был злой заяц .\n",
            "\n",
            "original: Один, два, три, чотири, п'ять, шість, сім, вісім, дев'ять, десять.\n",
            "translated: Один , два , три , четыре , пять- , восемь , семь , восемь , семдесят , десять .\n",
            "\n",
            "original: Хто в любові не знається, той горя не знає.\n",
            "translated: Кто во любви не знает , тот горя не знает .\n",
            "\n",
            "original: Його мати хвилюється за нього.\n",
            "translated: Его иметь волнуется за него .\n",
            "\n",
            "original: Я поважаю тих, хто старається з усіх сил.\n",
            "translated: Я уважаю тех , кто старается со всех сил .\n",
            "\n",
            "original: Їхня дружба переросла у глибоке кохання.\n",
            "translated: необычайная дружба переросла во глубокое любовь .\n",
            "\n",
            "original: Кейт п’є багато молока кожен день.\n",
            "translated: Рейчел пёт много молока каждый день .\n",
            "\n",
            "original: Він злодій.\n",
            "translated: Он вор .\n",
            "\n",
            "original: Шумового забруднення можна було б позбігнути тільки якщо б люди були більш чутливими до навколишнього середовища.\n",
            "translated: UNK загрязнение можно было бы UNK только если бы люди были более чувствительны к окружающей среды .\n",
            "\n",
            "original: Чай з лимоном, будьте ласкаві.\n",
            "translated: чай со лимоном , будте ласковые .\n",
            "\n",
            "original: Не плутай бажання з коханням.\n",
            "translated: Не путать желание со влюбленностью .\n",
            "\n",
            "original: Я би з задоволенням написав сотні речень в Tatoeb’і, але в мене є справи.\n",
            "translated: Я бы со удовольствием сочинил сотни сложноподчинённые во UNK , конечно во меня То дела .\n",
            "\n",
            "original: Дайте мені філіжанку кави.\n",
            "translated: Дайте мне чашечку кофе .\n",
            "\n",
            "original: Але ж ти ніколи мені про це не розповідала!\n",
            "translated: ведь же ты никогда мне о это не рассказывала !\n",
            "\n",
            "original: У тебе будуть проблеми, якщо твої батьки довідаються.\n",
            "translated: Во тебя будут проблемы , если твои родители узнают .\n",
            "\n",
            "original: Запах троянд наповнив кімнату.\n",
            "translated: Запах роз наполнил комнату .\n",
            "\n",
            "original: Як у тебе справи?\n",
            "translated: Как во тебя дела ?\n",
            "\n",
            "original: Це мої штани.\n",
            "translated: Это мои штаны .\n",
            "\n",
            "original: Ні, дякую.\n",
            "translated: НЕт , спасибо .\n",
            "\n",
            "original: Я не розумію, чому Німеччина перемогла на Євробаченні.\n",
            "translated: Я не понимаю , почему Германия победила по Евровидении .\n",
            "\n",
            "original: Добрий вечір.\n",
            "translated: Добрый вечер .\n",
            "\n",
            "original: З юбілеєм Олексія Дударева привітав Президент Білорусі Олександр Лукашенко.\n",
            "translated: Со UNK Алексея Палашка поприветствовал президент Белоруссии Александр Лукашенко .\n",
            "\n",
            "original: Чумацький шлях — широкий пояс із далеких зірок, кожна зірка — сонце, таке як наше.\n",
            "translated: Млечный путь широкий пояс со далеких звёзд , каждая звезда солнце , такое как наше .\n",
            "\n",
            "original: Незвичайно бачити рок-зірок з краваткою!\n",
            "translated: удивительно видеть рок звёзд со галстук !\n",
            "\n",
            "original: Усе печиво у формі зірок.\n",
            "translated: всё печенье во форме звёзд .\n",
            "\n",
            "original: Що мені вдягнути — штани чи спідницю?\n",
            "translated: ЧТо мне одеть штаны ли юбку ?\n",
            "\n",
            "original: Гартман Вітвер — відомий львівський скульптор.\n",
            "translated: Краусс утверждал известный московский скульптор .\n",
            "\n",
            "original: То був злий кролик.\n",
            "translated: Ой был злой кролик .\n",
            "\n",
            "original: Можеш взяти будь-який, що тобі до сподоби.\n",
            "translated: Можешь взять любой который , что тебе к отвратиться .\n",
            "\n",
            "original: Звичайно я піду.\n",
            "translated: Конечно мной пойду .\n",
            "\n",
            "original: Шовкопряди прядуть кокони.\n",
            "translated: шелковичные прядут коконы .\n",
            "\n",
            "original: Що б ти зробила, якщо б у тебе було, скажім, десять тисяч доларів?\n",
            "translated: ЧТо бы ты сделала , если бы во тебя было , замечу , десять тысяч долларов ?\n",
            "\n",
            "original: Він думає, що він хтось, а насправді він ніхто.\n",
            "translated: Он думает , что он кто-то , а действительно он никто .\n",
            "\n",
            "original: Вона дуже пишається своєю колекцією марок.\n",
            "translated: она очень гордится своею коллекцией марок .\n",
            "\n",
            "original: Він дуже простий...\n",
            "translated: Он очень простой . . .\n",
            "\n",
            "original: Яка ти добра!\n",
            "translated: Какая ты добра !\n",
            "\n",
            "original: Як я за тобою скучив!\n",
            "translated: Как мной за тобой соскучился !\n",
            "\n",
            "original: Це все, що я знаю.\n",
            "translated: Это всё , что мной знаю .\n",
            "\n",
            "original: Ти ведеш щоденник?\n",
            "translated: Ты ведёшь дневник ?\n",
            "\n",
            "original: Тобі вирішувати.\n",
            "translated: Тебе решать .\n",
            "\n",
            "original: Це пошта, а то — банк.\n",
            "translated: Это почта , а то банк .\n",
            "\n",
            "original: Це все, що я хочу зробити.\n",
            "translated: Это всё , что мной хочу сделать .\n",
            "\n",
            "original: Я вперше дивлюся такий страшний фільм.\n",
            "translated: Я впервые смотрю такой страшный фильм .\n",
            "\n",
            "original: Ця пісня нагадує мені про дім.\n",
            "translated: Этa песня напоминает мне о дом .\n",
            "\n",
            "original: Хіросі тут?\n",
            "translated: Хироси здесь ?\n",
            "\n",
            "original: Мене звуть Джек.\n",
            "translated: Меня зовут Эдди .\n",
            "\n",
            "original: Як людина живе, так вона і помре.\n",
            "translated: Как женщина живет , так она и умрет .\n",
            "\n",
            "original: Я тут уже дві години.\n",
            "translated: Я здесь уже две часа .\n",
            "\n",
            "original: Мені треба вибачитись перед Ен.\n",
            "translated: Мне надо извиниться перед Нб .\n",
            "\n",
            "original: Сьогодні я бачив шпака.\n",
            "translated: Сегодня мной видел скворца .\n",
            "\n",
            "original: «Скільки коштує ця носова хусточка?» — «Дев'яносто п'ять центів».\n",
            "translated: Сколько стоить та носовая косыночка ? наверное пять- центов .\n",
            "\n",
            "original: Ранені ведмеді, як правило, дуже небезпечні.\n",
            "translated: солдаты медведи , как правило , очень опасные .\n",
            "\n",
            "original: Він швидко втомлюється.\n",
            "translated: Он быстро устает .\n",
            "\n",
            "original: Усі готові.\n",
            "translated: остальные готовы .\n",
            "\n",
            "original: Він скучає по своїй сім'ї.\n",
            "translated: Он скучает по своей семьи .\n",
            "\n",
            "original: «Дякую», — «На здоров'я».\n",
            "translated: Спасибо , по здоровье .\n",
            "\n",
            "original: Я ще не знаю своєї адреси, я певний час буду жити в подруги.\n",
            "translated: Я ещe не знаю своего адреса , мной определенный момент буду жить во подруги .\n",
            "\n",
            "original: Амазонка— друга по довжині ріка в світі після Ніла.\n",
            "translated: Амазонка вторая по длине река во мире после Нила .\n",
            "\n",
            "original: А якщо побачиш Тома, передай йому від мене вітання.\n",
            "translated: А если увидишь Тима , передай ему от меня поздравления .\n",
            "\n",
            "original: Закрий за собою двері.\n",
            "translated: закрой за собой дверь .\n",
            "\n",
            "original: Тримай при собі словник.\n",
            "translated: Держи при себе словарь .\n",
            "\n"
          ],
          "name": "stdout"
        }
      ]
    },
    {
      "cell_type": "markdown",
      "metadata": {
        "id": "8IAGHiVKF-Rd",
        "colab_type": "text"
      },
      "source": [
        "В таом подходе тоже есть проблема. Если мы просто убираем апостроф, то это в некоторых случаях может добавить переводу осмысленности, а в других -- лишь ухулшит ситуацию. Рассмотрим несколько примеров."
      ]
    },
    {
      "cell_type": "code",
      "metadata": {
        "id": "9sJCxY6WGNgg",
        "colab_type": "code",
        "colab": {
          "base_uri": "https://localhost:8080/",
          "height": 90
        },
        "outputId": "6939da75-cf62-4836-f2db-892cc2a73d27"
      },
      "source": [
        "ru_emb.most_similar([np.matmul(uk_emb[\"сімя\"], W)], topn = 1)"
      ],
      "execution_count": null,
      "outputs": [
        {
          "output_type": "stream",
          "text": [
            "/usr/local/lib/python3.6/dist-packages/gensim/matutils.py:737: FutureWarning: Conversion of the second argument of issubdtype from `int` to `np.signedinteger` is deprecated. In future, it will be treated as `np.int64 == np.dtype(int).type`.\n",
            "  if np.issubdtype(vec.dtype, np.int):\n"
          ],
          "name": "stderr"
        },
        {
          "output_type": "execute_result",
          "data": {
            "text/plain": [
              "[('семья', 0.6183032989501953)]"
            ]
          },
          "metadata": {
            "tags": []
          },
          "execution_count": 40
        }
      ]
    },
    {
      "cell_type": "code",
      "metadata": {
        "id": "mpdShi0zz_li",
        "colab_type": "code",
        "colab": {
          "base_uri": "https://localhost:8080/",
          "height": 90
        },
        "outputId": "70d0a323-6d3d-4cd6-c4a6-4c6d25952687"
      },
      "source": [
        "ru_emb.most_similar([np.matmul(uk_emb[\"девять\"], W)], topn = 1)"
      ],
      "execution_count": null,
      "outputs": [
        {
          "output_type": "stream",
          "text": [
            "/usr/local/lib/python3.6/dist-packages/gensim/matutils.py:737: FutureWarning: Conversion of the second argument of issubdtype from `int` to `np.signedinteger` is deprecated. In future, it will be treated as `np.int64 == np.dtype(int).type`.\n",
            "  if np.issubdtype(vec.dtype, np.int):\n"
          ],
          "name": "stderr"
        },
        {
          "output_type": "execute_result",
          "data": {
            "text/plain": [
              "[('семдесят', 0.5855370759963989)]"
            ]
          },
          "metadata": {
            "tags": []
          },
          "execution_count": 41
        }
      ]
    },
    {
      "cell_type": "markdown",
      "metadata": {
        "id": "7b_VKjWDGcOO",
        "colab_type": "text"
      },
      "source": [
        "Видим, что в одном случае слово переводится совсем неверно."
      ]
    },
    {
      "cell_type": "markdown",
      "metadata": {
        "id": "YBhvaAPNGtb5",
        "colab_type": "text"
      },
      "source": [
        "Другой подход может заключаться в том, что мы будем отбрасывать всю часть слова после апострофа."
      ]
    },
    {
      "cell_type": "code",
      "metadata": {
        "id": "R2CaElC6G0q1",
        "colab_type": "code",
        "colab": {
          "base_uri": "https://localhost:8080/",
          "height": 90
        },
        "outputId": "57933790-c9eb-4fe7-d983-5ab83db31a79"
      },
      "source": [
        "ru_emb.most_similar([np.matmul(uk_emb[\"дев\"], W)], topn = 1)"
      ],
      "execution_count": null,
      "outputs": [
        {
          "output_type": "stream",
          "text": [
            "/usr/local/lib/python3.6/dist-packages/gensim/matutils.py:737: FutureWarning: Conversion of the second argument of issubdtype from `int` to `np.signedinteger` is deprecated. In future, it will be treated as `np.int64 == np.dtype(int).type`.\n",
            "  if np.issubdtype(vec.dtype, np.int):\n"
          ],
          "name": "stderr"
        },
        {
          "output_type": "execute_result",
          "data": {
            "text/plain": [
              "[('девять', 0.7111926674842834)]"
            ]
          },
          "metadata": {
            "tags": []
          },
          "execution_count": 42
        }
      ]
    },
    {
      "cell_type": "code",
      "metadata": {
        "id": "DdIhChU1GlLD",
        "colab_type": "code",
        "colab": {
          "base_uri": "https://localhost:8080/",
          "height": 90
        },
        "outputId": "cd2d8cd0-b0ee-4323-b3cf-bcde36197cf9"
      },
      "source": [
        "ru_emb.most_similar([np.matmul(uk_emb[\"сім\"], W)], topn = 1)"
      ],
      "execution_count": null,
      "outputs": [
        {
          "output_type": "stream",
          "text": [
            "/usr/local/lib/python3.6/dist-packages/gensim/matutils.py:737: FutureWarning: Conversion of the second argument of issubdtype from `int` to `np.signedinteger` is deprecated. In future, it will be treated as `np.int64 == np.dtype(int).type`.\n",
            "  if np.issubdtype(vec.dtype, np.int):\n"
          ],
          "name": "stderr"
        },
        {
          "output_type": "execute_result",
          "data": {
            "text/plain": [
              "[('семь', 0.6539863348007202)]"
            ]
          },
          "metadata": {
            "tags": []
          },
          "execution_count": 43
        }
      ]
    },
    {
      "cell_type": "markdown",
      "metadata": {
        "id": "g2vAClzEG2K0",
        "colab_type": "text"
      },
      "source": [
        "Видим, что в этом случае результат противоположный. Слово \"девять\" мы смогли корректно перевести, а вот \"семья\" и \"семь\" (часть до апострафа у них одинаковая) уже будут переводиться как \"семь\". "
      ]
    },
    {
      "cell_type": "markdown",
      "metadata": {
        "id": "cAOcUae9CTFN",
        "colab_type": "text"
      },
      "source": [
        "Great! \n",
        "See second notebook for the Neural Machine Translation assignment."
      ]
    }
  ]
}