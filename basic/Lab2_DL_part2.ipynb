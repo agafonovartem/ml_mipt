{
  "nbformat": 4,
  "nbformat_minor": 0,
  "metadata": {
    "anaconda-cloud": {},
    "kernelspec": {
      "name": "python3",
      "display_name": "Python 3"
    },
    "language_info": {
      "codemirror_mode": {
        "name": "ipython",
        "version": 3
      },
      "file_extension": ".py",
      "mimetype": "text/x-python",
      "name": "python",
      "nbconvert_exporter": "python",
      "pygments_lexer": "ipython3",
      "version": "3.6.4"
    },
    "colab": {
      "name": "Copy of agafonov Lab2_DL_part2.ipynb",
      "provenance": [],
      "collapsed_sections": [],
      "toc_visible": true
    }
  },
  "cells": [
    {
      "cell_type": "markdown",
      "metadata": {
        "id": "V0zoiNccZmvU",
        "colab_type": "text"
      },
      "source": [
        "## Lab 3"
      ]
    },
    {
      "cell_type": "markdown",
      "metadata": {
        "id": "_4-xND_mZmvW",
        "colab_type": "text"
      },
      "source": [
        "### Part 2. Almost Shakespeare (2.0 points)\n",
        "\n",
        "В этой части задания мы научимся генерировать текст с помощью нейронных сетей. Конкретнее, обучим нейронную сеть на сонетах Шекспира и попросим нейросеть написать свой сонет.\n",
        "\n",
        "Генерация текста обычно включает в себя следующие шаги:\n",
        "    \n",
        "1. Загрузка данных.\n",
        "2. Создание словарей слов/символов.\n",
        "3. Препроцессинг данных.\n",
        "4. Обучение модели (нейросети).\n",
        "5. Генерация нового текста.\n"
      ]
    },
    {
      "cell_type": "markdown",
      "metadata": {
        "id": "8BIbnfvCZmvX",
        "colab_type": "text"
      },
      "source": [
        "#### Часть 1. Предобработка данных"
      ]
    },
    {
      "cell_type": "markdown",
      "metadata": {
        "id": "_mOSyjkuZmvY",
        "colab_type": "text"
      },
      "source": [
        "Для начала загрузим данные. Файл с сонетами Шекспира доступен по [ссылке](http://www.gutenberg.org/ebooks/1041?msg=welcome_stranger). Кроме того, он находится рядом с этим ноутбуком (`sonnetes.txt`).\n",
        "\n",
        "Базовая предобработка уже сделана: текст состоит непосредственно из поэм Шекспира и названий/номеров глав, все техническая информация удалена."
      ]
    },
    {
      "cell_type": "code",
      "metadata": {
        "id": "LCw0DB13ZmvZ",
        "colab_type": "code",
        "colab": {}
      },
      "source": [
        "import string"
      ],
      "execution_count": null,
      "outputs": []
    },
    {
      "cell_type": "code",
      "metadata": {
        "id": "913byJ93Zmvb",
        "colab_type": "code",
        "colab": {}
      },
      "source": [
        "with open('sonnets.txt', 'r') as iofile:\n",
        "    text = iofile.readlines()\n",
        "  \n",
        "TEXT_START = 45\n",
        "TEXT_END = -368\n",
        "text = text[TEXT_START:TEXT_END]\n",
        "assert len(text) == 2616"
      ],
      "execution_count": null,
      "outputs": []
    },
    {
      "cell_type": "markdown",
      "metadata": {
        "id": "-J1yYlpVZmvd",
        "colab_type": "text"
      },
      "source": [
        "Так как в этот раз мы хотим научиться предсказывать текст, понизим сложность задачи и приведем текст к нижнему регистру.\n",
        "\n",
        "В настоящий момент переменная `text` представляет собой список из строк. Объедините все строки в одну и приведите к нижнему регистру. "
      ]
    },
    {
      "cell_type": "code",
      "metadata": {
        "id": "lLnklVDdZmve",
        "colab_type": "code",
        "colab": {
          "base_uri": "https://localhost:8080/",
          "height": 51
        },
        "outputId": "0176653b-75ef-4f7e-88df-ffba721561c1"
      },
      "source": [
        "# Объедините все строки в одну и приведите к нижнему регистру.\n",
        "# Результат запишите в переменную text.\n",
        "import numpy as np\n",
        "\n",
        "res = ''\n",
        "print(type(res))\n",
        "for line in text:\n",
        "  res += line\n",
        "text = res.lower()\n",
        "\n",
        "\n",
        "\n",
        "assert len(text) == 100225, 'Are you sure you have concatenated all the strings?'\n",
        "assert not any([x in set(text) for x in string.ascii_uppercase]), 'Uppercase letters are present'\n",
        "print('Отлично!')"
      ],
      "execution_count": null,
      "outputs": [
        {
          "output_type": "stream",
          "text": [
            "<class 'str'>\n",
            "Отлично!\n"
          ],
          "name": "stdout"
        }
      ]
    },
    {
      "cell_type": "markdown",
      "metadata": {
        "id": "sm2nqJuiZmvg",
        "colab_type": "text"
      },
      "source": [
        "Выделите множество всех символов, с которыми нам довелось встретиться в переменную `tokens`."
      ]
    },
    {
      "cell_type": "code",
      "metadata": {
        "id": "ZwRBXqgvZmvh",
        "colab_type": "code",
        "colab": {}
      },
      "source": [
        "tokens = sorted(set(text))"
      ],
      "execution_count": null,
      "outputs": []
    },
    {
      "cell_type": "markdown",
      "metadata": {
        "id": "RB7p-woUZmvj",
        "colab_type": "text"
      },
      "source": [
        "Постройте словарь `token_to_idx` вида <символ>: <индекс> и словарь `idx_to_token` вида <индекс>: <символ>."
      ]
    },
    {
      "cell_type": "code",
      "metadata": {
        "id": "OHdrI1vKZmvj",
        "colab_type": "code",
        "colab": {}
      },
      "source": [
        "# словарь вида <индекс>:<символ>\n",
        "token_to_idx = {}\n",
        "i = 0\n",
        "for symbol in tokens:\n",
        "  token_to_idx[symbol] = i\n",
        "  i += 1\n",
        "\n",
        "# словарь вида <символ>:<индекс>\n",
        "idx_to_token = {y:x for x,y in token_to_idx.items()}\n",
        "\n",
        "num_tokens = len(tokens) "
      ],
      "execution_count": null,
      "outputs": []
    },
    {
      "cell_type": "markdown",
      "metadata": {
        "id": "gsZKsWESZmvl",
        "colab_type": "text"
      },
      "source": [
        "*Комментарий: т.к. у нас всего 38 различных токенов, в этот раз воспользуемся one-hot encoding'ом.*\n"
      ]
    },
    {
      "cell_type": "markdown",
      "metadata": {
        "id": "RA_X-7HxZmvm",
        "colab_type": "text"
      },
      "source": [
        "## Построение модели."
      ]
    },
    {
      "cell_type": "markdown",
      "metadata": {
        "id": "ZOzizWkuZmvm",
        "colab_type": "text"
      },
      "source": [
        "Теперь наша задача - создать и обучить рекуррентную нейронную сеть, которая сможет генерировать что-то похожее на поэзию Шекспира.\n",
        "\n",
        "Для начала воспользуемся классической RNN, аналогичной построенной на семинаре. "
      ]
    },
    {
      "cell_type": "code",
      "metadata": {
        "id": "XGc9GolUZmvn",
        "colab_type": "code",
        "colab": {}
      },
      "source": [
        "import torch, torch.nn as nn\n",
        "import torch.nn.functional as F"
      ],
      "execution_count": null,
      "outputs": []
    },
    {
      "cell_type": "code",
      "metadata": {
        "id": "jqYz1UvvaopD",
        "colab_type": "code",
        "colab": {}
      },
      "source": [
        "class CharRNNLoop(nn.Module):\n",
        "    def __init__(self, num_tokens=num_tokens, emb_size=16, rnn_num_units=64):\n",
        "        super(self.__class__, self).__init__()\n",
        "        self.emb = nn.Embedding(num_tokens, emb_size)\n",
        "        self.rnn = nn.RNN(emb_size, rnn_num_units, batch_first=True)\n",
        "        self.hid_to_logits = nn.Linear(rnn_num_units, num_tokens)\n",
        "        \n",
        "    def forward(self, x):\n",
        "        assert isinstance(x.data, torch.LongTensor)\n",
        "        h_seq, _ = self.rnn(self.emb(x))\n",
        "        next_logits = self.hid_to_logits(h_seq)\n",
        "        next_logp = F.log_softmax(next_logits, dim=-1)\n",
        "        return next_logp\n",
        "    \n",
        "model = CharRNNLoop()\n",
        "opt = torch.optim.Adam(model.parameters())"
      ],
      "execution_count": null,
      "outputs": []
    },
    {
      "cell_type": "code",
      "metadata": {
        "id": "-dKj4XFvHlZI",
        "colab_type": "code",
        "colab": {}
      },
      "source": [
        "seq_size=32\n",
        "batch_size=16\n",
        "\n",
        "\n",
        "idx_text = [token_to_idx[w] for w in text]\n",
        "num_batches = len(idx_text) // (seq_size * batch_size)\n",
        "in_text = idx_text[:num_batches * batch_size * seq_size]\n",
        "out_text = np.zeros_like(in_text)\n",
        "out_text[:-1] = in_text[1:]\n",
        "out_text[-1] = in_text[0]\n",
        "\n",
        "in_text = np.reshape(in_text, (batch_size, -1))\n",
        "out_text = np.reshape(out_text, (batch_size, -1))"
      ],
      "execution_count": null,
      "outputs": []
    },
    {
      "cell_type": "code",
      "metadata": {
        "id": "OObI5v7fK86L",
        "colab_type": "code",
        "colab": {}
      },
      "source": [
        "in_text = torch.LongTensor(in_text)\n",
        "logp_seq = model(in_text)\n",
        "\n",
        "loss = F.nll_loss(logp_seq[:, 1:].contiguous().view(-1, num_tokens), \n",
        "                  in_text[:, :-1].contiguous().view(-1))\n",
        "\n",
        "loss.backward()"
      ],
      "execution_count": null,
      "outputs": []
    },
    {
      "cell_type": "code",
      "metadata": {
        "id": "NqGTK7jdLurC",
        "colab_type": "code",
        "colab": {
          "base_uri": "https://localhost:8080/",
          "height": 34
        },
        "outputId": "7f2d92fb-85c5-4218-a031-03b245ea3c3a"
      },
      "source": [
        "in_text.size()"
      ],
      "execution_count": null,
      "outputs": [
        {
          "output_type": "execute_result",
          "data": {
            "text/plain": [
              "torch.Size([16, 6240])"
            ]
          },
          "metadata": {
            "tags": []
          },
          "execution_count": 29
        }
      ]
    },
    {
      "cell_type": "code",
      "metadata": {
        "id": "yn-W9A-iLQ2X",
        "colab_type": "code",
        "colab": {
          "base_uri": "https://localhost:8080/",
          "height": 265
        },
        "outputId": "64e5e020-a993-4ea7-adb0-ff8a6f2e5d67"
      },
      "source": [
        "history = []\n",
        "import random\n",
        "from IPython.display import clear_output\n",
        "import matplotlib.pyplot as plt\n",
        "%matplotlib inline\n",
        "\n",
        "for i in range(200000):\n",
        "    i = random.randint(0, num_batches)\n",
        "    batch_ix = in_text[:, i:i+seq_size]\n",
        "    batch_ix = torch.tensor(batch_ix, dtype=torch.int64)\n",
        "    \n",
        "    # print(batch_ix.size())\n",
        "    logp_seq = model(batch_ix)\n",
        "\n",
        "\n",
        "    \n",
        "    # compute loss\n",
        "\n",
        "    predictions_logp = logp_seq[:, :-1]\n",
        "    actual_next_tokens = batch_ix[:, 1:]\n",
        "\n",
        "    \n",
        "    \n",
        "    # train with backprop\n",
        "\n",
        "    logp_next = torch.gather(predictions_logp, dim=2, index=actual_next_tokens[:,:,None])\n",
        "\n",
        "    loss = -logp_next.mean()\n",
        "    loss.backward()\n",
        "    opt.step()\n",
        "    opt.zero_grad()\n",
        "    \n",
        "    history.append(loss.data.numpy())\n",
        "    if (i+1)%100==0:\n",
        "        clear_output(True)\n",
        "        plt.plot(history,label='loss')\n",
        "        plt.legend()\n",
        "        plt.show()\n",
        "        torch.save(model.state_dict(), 'model.pth')\n",
        "        torch.save(opt.state_dict(), 'optimizer.pth')\n",
        "\n",
        "assert np.mean(history[:10]) > np.mean(history[-10:]), \"RNN didn't converge.\""
      ],
      "execution_count": null,
      "outputs": [
        {
          "output_type": "display_data",
          "data": {
            "image/png": "[encoded data removed]",
            "text/plain": [
              "<Figure size 432x288 with 1 Axes>"
            ]
          },
          "metadata": {
            "tags": []
          }
        }
      ]
    },
    {
      "cell_type": "markdown",
      "metadata": {
        "id": "edfg2eheZmvo",
        "colab_type": "text"
      },
      "source": [
        "Постройте график функции потерь в зависимости от номера эпохи."
      ]
    },
    {
      "cell_type": "code",
      "metadata": {
        "id": "mFrcuutcZmvq",
        "colab_type": "code",
        "colab": {}
      },
      "source": [
        "# Пример сгенерированного текста. Функция `generate_text` отсутствует в коде выше. Реализуйте ее самостоятельно.\n",
        "# print(generate_text(length=500, temperature=0.2))"
      ],
      "execution_count": null,
      "outputs": []
    },
    {
      "cell_type": "code",
      "metadata": {
        "id": "g36f9CKXcuJq",
        "colab_type": "code",
        "colab": {}
      },
      "source": [
        "def generate_text(length, initial = ' ', temperature=1.0):\n",
        "    '''\n",
        "    The function generates text given a phrase of length at least SEQ_LENGTH.\n",
        "    :param seed_phrase: prefix characters. The RNN is asked to continue the phrase\n",
        "    :param max_length: maximum output length, including seed_phrase\n",
        "    :param temperature: coefficient for sampling.  higher temperature produces more chaotic outputs,\n",
        "                        smaller temperature converges to the single most likely output\n",
        "    '''\n",
        "    \n",
        "    x_sequence = [token_to_idx[token] for token in initial]\n",
        "    \n",
        "    x_sequence = torch.tensor([x_sequence], dtype=torch.int64).unsqueeze(0)\n",
        "    #print( x_sequence.data.numpy()[0])\n",
        "\n",
        "\n",
        "    #start generating\n",
        "    for _ in range(length):\n",
        "\n",
        "\n",
        "        # NOTE THAT  x_sequence[ :, -1] is NOT the last symbol, it's the whole sequence\n",
        "        # u can easily check it with print fuction\n",
        "        # it is used to reduce dimention\n",
        "\n",
        "\n",
        "        logp_next = model(x_sequence[ :, -1])\n",
        "        #print( x_sequence.data.numpy()[0]) \n",
        "        #print( x_sequence[ :, -1].data.numpy()[0]) \n",
        "        \n",
        "        p_next = F.softmax(logp_next / temperature, dim=-1).data.numpy()[0][-1]\n",
        "\n",
        "        #print(str(p_next)+ '\\n' )\n",
        "        \n",
        "        # sample next token and push it back into x_sequence\n",
        "        next_ix = np.random.choice(num_tokens, p = p_next)\n",
        "        next_ix = torch.tensor([[next_ix]], dtype=torch.int64)\n",
        "        #print( x_sequence.data.numpy()[0]) \n",
        "        x_sequence = torch.cat([x_sequence[:, -1], next_ix], dim=1)\n",
        "        x_sequence = x_sequence.unsqueeze(0)\n",
        "    \n",
        "    #print( x_sequence.data.numpy()[0]) \n",
        "    return ''.join([tokens[ix] for ix in x_sequence.data.numpy()[0][0]])"
      ],
      "execution_count": null,
      "outputs": []
    },
    {
      "cell_type": "code",
      "metadata": {
        "id": "NxCJOwReeSdj",
        "colab_type": "code",
        "colab": {
          "base_uri": "https://localhost:8080/",
          "height": 54
        },
        "outputId": "23f4b436-ada1-4655-8382-297e7a62af90"
      },
      "source": [
        "generate_text(length=500)"
      ],
      "execution_count": null,
      "outputs": [
        {
          "output_type": "execute_result",
          "data": {
            "text/plain": [
              "\" may, yet not directly th praintond in of thy praise thee?\\n  even for this shall have xvi\\n\\n  thin the se healter heir mind:\\n  shall hate be fairer lodg'd than gentle lovery'sprogn,\\n  when beauty lived and deen my will beautiful old rime,\\n  in praise of ladies dead and lovely knights,\\n  then, in the blazon of sweet beauty's best,\\n  of hand, of everyoot, of holth not both to evel,\\n  within the gentle closure of lade,  of at,\\n  ecoue thiners beauty's but being both from me, in the blazon of sweet be\""
            ]
          },
          "metadata": {
            "tags": []
          },
          "execution_count": 31
        }
      ]
    },
    {
      "cell_type": "markdown",
      "metadata": {
        "id": "l0hnwfDdZmvr",
        "colab_type": "text"
      },
      "source": [
        "### Более поэтичная модель\n",
        "\n",
        "Теперь давайте воспользуемся LSTM слоем вместо классической RNN и сравним результаты."
      ]
    },
    {
      "cell_type": "markdown",
      "metadata": {
        "id": "n62P2O7MZmvs",
        "colab_type": "text"
      },
      "source": [
        "Снова постройте график функции потерь от числа эпох. Стал ли финальный loss лучше?"
      ]
    },
    {
      "cell_type": "code",
      "metadata": {
        "id": "-w84HJNMZmvs",
        "colab_type": "code",
        "colab": {}
      },
      "source": [
        "class CharLSTMLoop(nn.Module):\n",
        "    def __init__(self, num_tokens=num_tokens, emb_size=16, rnn_num_units=64):\n",
        "        super(self.__class__, self).__init__()\n",
        "        self.emb = nn.Embedding(num_tokens, emb_size)\n",
        "        self.lstm = nn.LSTM(emb_size, rnn_num_units, batch_first=True)\n",
        "        self.hid_to_logits = nn.Linear(rnn_num_units, num_tokens)\n",
        "        \n",
        "    def forward(self, x):\n",
        "        assert isinstance(x.data, torch.LongTensor)\n",
        "        h_seq, _ = self.lstm(self.emb(x))\n",
        "        next_logits = self.hid_to_logits(h_seq)\n",
        "        next_logp = F.log_softmax(next_logits, dim=-1)\n",
        "        return next_logp\n",
        "    \n",
        "model = CharLSTMLoop()\n",
        "opt = torch.optim.Adam(model.parameters())"
      ],
      "execution_count": null,
      "outputs": []
    },
    {
      "cell_type": "code",
      "metadata": {
        "id": "M5XXfWj8aXbB",
        "colab_type": "code",
        "colab": {}
      },
      "source": [
        "seq_size=32\n",
        "batch_size=16\n",
        "\n",
        "\n",
        "idx_text = [token_to_idx[w] for w in text]\n",
        "num_batches = len(idx_text) // (seq_size * batch_size)\n",
        "in_text = idx_text[:num_batches * batch_size * seq_size]\n",
        "out_text = np.zeros_like(in_text)\n",
        "out_text[:-1] = in_text[1:]\n",
        "out_text[-1] = in_text[0]\n",
        "\n",
        "in_text = np.reshape(in_text, (batch_size, -1))\n",
        "out_text = np.reshape(out_text, (batch_size, -1))"
      ],
      "execution_count": null,
      "outputs": []
    },
    {
      "cell_type": "code",
      "metadata": {
        "id": "n2zNuFJkaetV",
        "colab_type": "code",
        "colab": {
          "base_uri": "https://localhost:8080/",
          "height": 265
        },
        "outputId": "cff7dfd2-9302-4a5b-c7ec-27d922e73394"
      },
      "source": [
        "history = []\n",
        "import random\n",
        "from IPython.display import clear_output\n",
        "import matplotlib.pyplot as plt\n",
        "%matplotlib inline\n",
        "\n",
        "for i in range(200000):\n",
        "    i = random.randint(0, num_batches)\n",
        "    batch_ix = in_text[:, i:i+seq_size]\n",
        "    batch_ix = torch.tensor(batch_ix, dtype=torch.int64)\n",
        "    \n",
        "    # print(batch_ix.size())\n",
        "    logp_seq = model(batch_ix)\n",
        "\n",
        "\n",
        "    \n",
        "    # compute loss\n",
        "\n",
        "    predictions_logp = logp_seq[:, :-1]\n",
        "    actual_next_tokens = batch_ix[:, 1:]\n",
        "\n",
        "    \n",
        "    \n",
        "    # train with backprop\n",
        "\n",
        "    logp_next = torch.gather(predictions_logp, dim=2, index=actual_next_tokens[:,:,None])\n",
        "\n",
        "    loss = -logp_next.mean()\n",
        "    loss.backward()\n",
        "    opt.step()\n",
        "    opt.zero_grad()\n",
        "    \n",
        "    history.append(loss.data.numpy())\n",
        "    if (i+1)%100==0:\n",
        "        clear_output(True)\n",
        "        plt.plot(history,label='loss')\n",
        "        plt.legend()\n",
        "        plt.show()\n",
        "        torch.save(model.state_dict(), 'model_lstm.pth')\n",
        "        torch.save(opt.state_dict(), 'optimizer_lstm.pth')\n",
        "\n",
        "assert np.mean(history[:10]) > np.mean(history[-10:]), \"LSTM didn't converge.\""
      ],
      "execution_count": null,
      "outputs": [
        {
          "output_type": "display_data",
          "data": {
            "image/png": "[encoded data removed]",
            "text/plain": [
              "<Figure size 432x288 with 1 Axes>"
            ]
          },
          "metadata": {
            "tags": []
          }
        }
      ]
    },
    {
      "cell_type": "markdown",
      "metadata": {
        "id": "jaQrLYnmnj_x",
        "colab_type": "text"
      },
      "source": [
        "Видим по графику, что лосс стал  меньше, также он убывает гораздо быстрее, чем в случае RNN. Можно было обучать меньшее число эпох, т.к. лосс вышел на стационарынй уровень на ~ 75000 итерации."
      ]
    },
    {
      "cell_type": "markdown",
      "metadata": {
        "id": "yxbT09_sZmvt",
        "colab_type": "text"
      },
      "source": [
        "Сгенерируйте текст с помощью обученной сети для различных значений параметра `temperature`: `[0.1, 0.2, 0.5, 1.0, 2.0]` (\"температуры\" при генерации). Оцените результаты визуально, попробуйте их проинтерпретировать."
      ]
    },
    {
      "cell_type": "code",
      "metadata": {
        "id": "yb4KGWinmyfn",
        "colab_type": "code",
        "colab": {
          "base_uri": "https://localhost:8080/",
          "height": 411
        },
        "outputId": "b56cf694-6e18-4d5c-e06a-06aaeadeeaa2"
      },
      "source": [
        "generate_text(length=500)"
      ],
      "execution_count": null,
      "outputs": [
        {
          "output_type": "stream",
          "text": [
            "[[ 1 14 29 16 12 31 32 29 16 30  1 34 16  1 15 16 30 20 29 16  1 20 25 14\n",
            "  29 16 12 30 16  6  0  1  1 31 19 12 31  1 31 19 16 29 16 13 36  1 13 16\n",
            "  12 32 31 36  3 30  1 29 26 30 16  1 24 20 18 19 31  1 25 16 33 16 29  1\n",
            "  15 20 16  6  0  1  1 13 32 31  1 12 30  1 31 19 16  1 29 20 27 16 29  1\n",
            "  30 19 26 32 23 15  1 13 36  1 31 20 24 16  1 15 16 14 16 12 30 16  6  0\n",
            "   1  1 19 20 30  1 31 16 25 15 16 29  1 19 16 20 29  1 24 20 18 19 31  1\n",
            "  13 16 12 29  1 19 20 30  1 24 16 24 26 29 36  9  0  1  1 13 32 31  1 31\n",
            "  19 26 32  6  1 14 26 25 31 29 12 14 31 16 15  1 31 26  1 31 19 20 25 16\n",
            "   1 26 34 25  1 13 29 20 18 19 31  1 16 36 16 30  6  0  1  1 17 29 26 24\n",
            "   1 34 19 16 25 14 16  1 12 31  1 27 23 16 12 30 32 29 16  1 31 19 26 32\n",
            "   1 24 12 36 30 31  1 14 26 24 16  1 12 25 15  1 27 12 29 31  1 26 17  1\n",
            "  24 16 11  0  1  1 34 19 12 31  1 14 12 25  1 24 20 25 16  1 26 34 25  1\n",
            "  27 29 12 20 30 16  1 31 26  1 24 20 25 16  1 26 34 25  1 30 16 23 17  1\n",
            "  13 29 20 25 18 11  0  1  1 12 25 15  1 34 19 12 31  1 20 30  3 15  1 31\n",
            "  19 16 16  1 12 29 16  1 12 23 23  1 15 16 31 16 29 24 20 25 12 31 16  8\n",
            "   0  1  1 17 26 29  1 19 26 34  1 15 26  1 20  1 19 26 23 15  1 31 19 16\n",
            "  16  1 13 32 31  1 13 36  1 31 19 36  1 18 29 12 25 31 20 25 18 11  0  1\n",
            "   1 12 25 15  1 17 26 29  1 31 19 12 31  1 29 20 14 19 16 30  1 34 19 16\n",
            "  29 16  1 20 30  1 24 36  1 15 16 30 16 29 33 20 25 18 11  0  1  1 31 19\n",
            "  16  1 14 12 32 30 16  1 26 17  1 31 19 20 30  1 17 12 20 29  1 18 20 17\n",
            "  31 10  0  1  1 13 32 31  1 25 26 31  1 15 20 29 16 14 31 23 36]]\n"
          ],
          "name": "stdout"
        },
        {
          "output_type": "execute_result",
          "data": {
            "text/plain": [
              "\" creatures we desire increase,\\n  that thereby beauty's rose might never die,\\n  but as the riper should by time decease,\\n  his tender heir might bear his memory:\\n  but thou, contracted to thine own bright eyes,\\n  from whence at pleasure thou mayst come and part of me?\\n  what can mine own praise to mine own self bring?\\n  and what is'd thee are all determinate.\\n  for how do i hold thee but by thy granting?\\n  and for that riches where is my deserving?\\n  the cause of this fair gift;\\n  but not directly\""
            ]
          },
          "metadata": {
            "tags": []
          },
          "execution_count": 19
        }
      ]
    },
    {
      "cell_type": "markdown",
      "metadata": {
        "id": "KHNdaL9WnfV0",
        "colab_type": "text"
      },
      "source": [
        "Сгенерированный текст стал более осмысленным, практически не осталось ошибок в словах, при желании можно даже найти какой-то смысл:)\n"
      ]
    },
    {
      "cell_type": "code",
      "metadata": {
        "id": "WsTZ-mkyZmvt",
        "colab_type": "code",
        "colab": {
          "base_uri": "https://localhost:8080/",
          "height": 1000
        },
        "outputId": "3a453dd1-9611-4fa6-b56a-9e6a8e962c8e"
      },
      "source": [
        "for temp in [0.1, 0.2, 0.5, 1.0, 2.0]:\n",
        "  print('temperature =' + str(temp) + '\\n' + str(generate_text(length=500, temperature = temp)) + '\\n')\n",
        "  print('__________________________________________________________')"
      ],
      "execution_count": null,
      "outputs": [
        {
          "output_type": "stream",
          "text": [
            "temperature =0.1\n",
            " thou lead away,\n",
            "  if thou wouldst use the strength of all thy state!\n",
            "    but do not so; i love thee in such sort,\n",
            "    as, thou being mine, mine is thy good report.\n",
            "\n",
            "  xcvii\n",
            "\n",
            "  hefut neter part of me?\n",
            "  what can mine own praise to mine own self bring?\n",
            "  and what is't but mine own when i praise thee?\n",
            "  even for this, let us divided live,\n",
            "  and our dear lovel deter at being at your beck,\n",
            "  the imprison'd absence of your least;\n",
            "  yet in these thoughts my self almost despising,\n",
            "  haply i think on the\n",
            "\n",
            "__________________________________________________________\n",
            "temperature =0.2\n",
            " the prey of every vulgar thief.\n",
            "  thee have i not lock'd up in any chest,\n",
            "  save where thou art not, though i feel thou art,\n",
            "  within the gentle closure of my breast,\n",
            "  from whence at pleasure thou mayst come and part of me?\n",
            "  what can mine own praise to mine own self bring?\n",
            "  and what is't but mine own when i praise thee?\n",
            "  even for this, let us divided live,\n",
            "  and our dear love will is noth any come then might i not say so,\n",
            "    to give full growth to that which still doth grow?\n",
            "\n",
            "  cxvi\n",
            "\n",
            "  let \n",
            "\n",
            "__________________________________________________________\n",
            "temperature =0.5\n",
            " manners may i sing,\n",
            "  when thou art all the better part of me?\n",
            "  what can mine own praise to mine own self bring?\n",
            "  and what is't but mine own when i praise thee?\n",
            "  even for this, let us divided live,\n",
            "  and our dear love will is noth any come then my state!\n",
            "    but do not so; i love thee in such sort,\n",
            "    as, thou being mine, mine is thy good report.\n",
            "\n",
            "  xcvii\n",
            "\n",
            "  hefut neter at livery vulgar thief.\n",
            "  thee have i not lock'd up in any chest,\n",
            "  save where thou art not, though i feel thou art,\n",
            "  with\n",
            "\n",
            "__________________________________________________________\n",
            "temperature =1.0\n",
            " woman's face with nature's own hand painted,\n",
            "  hast thou, the master mistress of my passion;\n",
            "  a woman's gentle heart, but not acquainted\n",
            "  with shifting change, as is false women's fainted,\n",
            "  hate save where thou art not, though i feel thou art,\n",
            "  within the gentle closure of praise of ladies dead and lovely knights,\n",
            "  then, in the blazon of sweet beauty's best,\n",
            "  of hand, of foot, of lip, of eye, of brow,\n",
            "  i see their antique pen would have express'd\n",
            "  even spising,\n",
            "  haply i think on thee,--\n",
            "\n",
            "__________________________________________________________\n",
            "temperature =2.0\n",
            " hest,\n",
            "   in days long tiqhes my will in thin's your tele,\n",
            "  as thy presence is, gracious of days out in these thoughts my self almoste,\n",
            "   in thour thee,-- and then my ming owthts'd from whence at love thee in such sort,\n",
            "    as, thou being mine, mine is mdising,\n",
            "  whell diee ead and lovey and knot min'k dinder, being at leald rine?\n",
            "  wich ist days'd part ne'er know, bobut thou, in theser veey deraintend,\n",
            "  or to thyself at least, tikn save be in any commn a, before tith nange my mind:\n",
            "  shall ha\n",
            "\n",
            "__________________________________________________________\n"
          ],
          "name": "stdout"
        }
      ]
    },
    {
      "cell_type": "markdown",
      "metadata": {
        "id": "UzqHIGl0Zmvu",
        "colab_type": "text"
      },
      "source": [
        "\n",
        "*   LSTM работает лучше обычной CNN\n",
        "*   Чем больше температура, тем больше случайность. Поэтому при temp = 2.0, текст уже перестает быть понятным, некоторые слова хоть и похожи на настоящие, но таковыми не являются.\n",
        "*   При temp = 1  получилось самое осмысленное стихотворение\n",
        "*   Из-за того, что в датасете была нумерация страниц, модели генерят и ее.\n",
        "*   Работу моих CNN и LSTM можно ускорить: не обрабатовать последовательность на каждой итерации, а выдавать и передавать на следущую итерацию хидден. Тогда можно подавать лишь последний элемент последовательности (вместе с хидденом). \n",
        "\n",
        "### Сделаем LSTM с передаей хиденна.\n",
        "\n"
      ]
    },
    {
      "cell_type": "code",
      "metadata": {
        "id": "iHZdR76IP7AO",
        "colab_type": "code",
        "colab": {}
      },
      "source": [
        "class CharLSTMLoop_hidden(nn.Module):\n",
        "    def __init__(self, num_tokens=num_tokens, emb_size=16, rnn_num_units=64):\n",
        "        super(self.__class__, self).__init__()\n",
        "        self.emb = nn.Embedding(num_tokens, emb_size)\n",
        "        self.lstm = nn.LSTM(emb_size, rnn_num_units, batch_first=True)\n",
        "        self.hid_to_logits = nn.Linear(rnn_num_units, num_tokens)\n",
        "        self.hidden_dim = rnn_num_units\n",
        "        \n",
        "    def forward(self, x, hidden):\n",
        "        assert isinstance(x.data, torch.LongTensor)\n",
        "        h_seq, hidden = self.lstm(self.emb(x), hidden)\n",
        "        next_logits = self.hid_to_logits(h_seq)\n",
        "        next_logp = F.log_softmax(next_logits, dim=-1)\n",
        "        return next_logp, hidden \n",
        "        \n",
        "\n",
        "    def init_hidden(self, batch_size):\n",
        "        weight = next(self.parameters()).data\n",
        "        hidden = (weight.new(1, batch_size, self.hidden_dim).zero_(),\n",
        "                      weight.new(1, batch_size, self.hidden_dim).zero_())\n",
        "        return hidden\n",
        "    \n",
        "model = CharLSTMLoop_hidden()\n",
        "opt = torch.optim.Adam(model.parameters())"
      ],
      "execution_count": null,
      "outputs": []
    },
    {
      "cell_type": "code",
      "metadata": {
        "colab_type": "code",
        "id": "jAQXo3HydMsN",
        "colab": {}
      },
      "source": [
        "seq_size=32\n",
        "batch_size=16\n",
        "\n",
        "\n",
        "idx_text = [token_to_idx[w] for w in text]\n",
        "num_batches = len(idx_text) // (seq_size * batch_size)\n",
        "in_text = idx_text[:num_batches * batch_size * seq_size]\n",
        "out_text = np.zeros_like(in_text)\n",
        "out_text[:-1] = in_text[1:]\n",
        "out_text[-1] = in_text[0]\n",
        "\n",
        "in_text = np.reshape(in_text, (batch_size, -1))\n",
        "out_text = np.reshape(out_text, (batch_size, -1))\n"
      ],
      "execution_count": null,
      "outputs": []
    },
    {
      "cell_type": "code",
      "metadata": {
        "id": "HIxleYsJd7PI",
        "colab_type": "code",
        "colab": {
          "base_uri": "https://localhost:8080/",
          "height": 265
        },
        "outputId": "45c76d0c-e75a-4cc7-a766-7f0995276441"
      },
      "source": [
        "history = []\n",
        "import random\n",
        "from IPython.display import clear_output\n",
        "import matplotlib.pyplot as plt\n",
        "%matplotlib inline\n",
        "\n",
        "h = model.init_hidden(batch_size)\n",
        "for i in range(50000):\n",
        "    i = random.randint(0, num_batches)\n",
        "    batch_ix = in_text[:, i:i+seq_size]\n",
        "    batch_ix = torch.tensor(batch_ix, dtype=torch.int64)\n",
        "    \n",
        "    # print(batch_ix.size())\n",
        "    #h.detach_()\n",
        "    h = tuple([e.data for e in h])\n",
        "\n",
        "\n",
        "    logp_seq, h = model(batch_ix, h)\n",
        "\n",
        "\n",
        "    \n",
        "    # compute loss\n",
        "\n",
        "    predictions_logp = logp_seq[:, :-1]\n",
        "    actual_next_tokens = batch_ix[:, 1:]\n",
        "\n",
        "    \n",
        "    \n",
        "    # train with backprop\n",
        "\n",
        "    logp_next = torch.gather(predictions_logp, dim=2, index=actual_next_tokens[:,:,None])\n",
        "\n",
        "    loss = -logp_next.mean()\n",
        "    loss.backward()\n",
        "    opt.step()\n",
        "    opt.zero_grad()\n",
        "    \n",
        "    history.append(loss.data.numpy())\n",
        "    if (i+1)%100==0:\n",
        "        clear_output(True)\n",
        "        plt.plot(history,label='loss')\n",
        "        plt.legend()\n",
        "        plt.show()\n",
        "        torch.save(model.state_dict(), 'model_lstm_hidden.pth')\n",
        "        torch.save(opt.state_dict(), 'optimizer_lstm_hidden.pth')\n",
        "\n",
        "assert np.mean(history[:10]) > np.mean(history[-10:]), \"LSTM didn't converge.\""
      ],
      "execution_count": null,
      "outputs": [
        {
          "output_type": "display_data",
          "data": {
            "image/png": "[encoded data removed]",
            "text/plain": [
              "<Figure size 432x288 with 1 Axes>"
            ]
          },
          "metadata": {
            "tags": []
          }
        }
      ]
    },
    {
      "cell_type": "code",
      "metadata": {
        "id": "XuT4_vrckyF9",
        "colab_type": "code",
        "colab": {}
      },
      "source": [
        "def generate_text_hidden(length, initial = ' ', temperature=1.0):\n",
        "    '''\n",
        "    The function generates text given a phrase of length at least SEQ_LENGTH.\n",
        "    :param seed_phrase: prefix characters. The RNN is asked to continue the phrase\n",
        "    :param max_length: maximum output length, including seed_phrase\n",
        "    :param temperature: coefficient for sampling.  higher temperature produces more chaotic outputs,\n",
        "                        smaller temperature converges to the single most likely output\n",
        "    '''\n",
        "    \n",
        "    x_sequence = [token_to_idx[token] for token in initial]\n",
        "    \n",
        "    x_sequence = torch.tensor([x_sequence], dtype=torch.int64).unsqueeze(0)\n",
        "    \n",
        "    h = model.init_hidden(1)\n",
        "\n",
        "    #start generating\n",
        "    for _ in range(length):\n",
        "\n",
        "        #________________________________\n",
        "        # NOTE THAT  x_sequence[ :, :, -1] IS the last symbol of the sequence\n",
        "        # u can easily check it with print fuction\n",
        "        #________________________________\n",
        "\n",
        "        h = tuple([e.data for e in h])\n",
        "\n",
        "        logp_next, h = model(x_sequence[ :, :, -1], h)\n",
        "       \n",
        "        #print( x_sequence[ :, :, -1].data.numpy()) \n",
        "        \n",
        "        p_next = F.softmax(logp_next / temperature, dim=-1).data.numpy()[0][-1]\n",
        "\n",
        "        #print(str(p_next)+ '\\n' )\n",
        "        \n",
        "        # sample next token and push it back into x_sequence\n",
        "        next_ix = np.random.choice(num_tokens, p = p_next)\n",
        "        next_ix = torch.tensor([[next_ix]], dtype=torch.int64)\n",
        " \n",
        "        x_sequence = torch.cat([x_sequence[:, -1], next_ix], dim=1)\n",
        "        x_sequence = x_sequence.unsqueeze(0)\n",
        "        #print('_______END_OF_CURRENT_ITER_____________')\n",
        "    \n",
        "    \n",
        "    return ''.join([tokens[ix] for ix in x_sequence.data.numpy()[0][0]])"
      ],
      "execution_count": null,
      "outputs": []
    },
    {
      "cell_type": "code",
      "metadata": {
        "id": "m0Gi1yHnkyMe",
        "colab_type": "code",
        "colab": {
          "base_uri": "https://localhost:8080/",
          "height": 54
        },
        "outputId": "26ae40f5-9158-4b48-ac76-7186892a128e"
      },
      "source": [
        "generate_text_hidden(length = 500)"
      ],
      "execution_count": null,
      "outputs": [
        {
          "output_type": "execute_result",
          "data": {
            "text/plain": [
              "\" i not rost despe,\\n  but do not so; in swhee i  i  art not, though i feel thou art,\\n  within the gentle closure of my bre is my deserving?\\n  then my state,\\n  like to the lark at blazon ofour,\\n  hand the account of hours to crack,\\n  the imprison'd wivef lip, of eyt,\\n  or to thyself at least kind-hearted prove:\\n    make thee another self bring?\\n  and what is't but mine own when i praise thee?\\n  even fi hold bue may i sing,\\n  hand spacious,\\n  notod let us dom me, both to each friend,\\n  i guess one a\""
            ]
          },
          "metadata": {
            "tags": []
          },
          "execution_count": 124
        }
      ]
    },
    {
      "cell_type": "markdown",
      "metadata": {
        "id": "WPSqg2Cr0iPm",
        "colab_type": "text"
      },
      "source": [
        "По ощущуениям стало работать быстрее. \n",
        "\n",
        "К сожалению, не усе"
      ]
    },
    {
      "cell_type": "markdown",
      "metadata": {
        "id": "0Yu_dFmuZmvv",
        "colab_type": "text"
      },
      "source": [
        "#### Сохранение и загрузка модели\n",
        "\n",
        "Сохраните обученную модель на диск, затем загрузите ее и сгенерируйте текст. Примеры доступны по [ссылке](https://pytorch.org/tutorials/beginner/saving_loading_models.html])."
      ]
    },
    {
      "cell_type": "markdown",
      "metadata": {
        "id": "ii-dcPK3ry2A",
        "colab_type": "text"
      },
      "source": [
        "Заметим, что я сохраняю модель на каждом тесте. Загрузим RNN из первого пункта лабы и сгенерируем текст с помощью этой модели. "
      ]
    },
    {
      "cell_type": "code",
      "metadata": {
        "id": "n8v8rlfgZmvv",
        "colab_type": "code",
        "colab": {
          "base_uri": "https://localhost:8080/",
          "height": 54
        },
        "outputId": "163f1a2e-2ffa-4eab-d2a5-ec7a13cad2d8"
      },
      "source": [
        "model = CharRNNLoop()\n",
        "model.load_state_dict(torch.load('/content/model.pth'))\n",
        "model.eval()\n",
        "\n",
        "generate_text(length=500)"
      ],
      "execution_count": null,
      "outputs": [
        {
          "output_type": "execute_result",
          "data": {
            "text/plain": [
              "\" shalt chis.\\n\\n  lxviind\\n  those children nursed, deliver'd from thy brain,\\n  to take a new acquaintance of thy mind.\\n\\n   but do not so; i love thee in such sort,\\n    no; let me suffer, being at your beck,\\n  the imprison'd abs thy progk on thee,-- and then my state,\\n  like to the lark at break of day arising\\n  no; your tich still doth grow?\\n\\n  cxvi\\n\\n  this, gracious and kind,\\n  or to thyself arncinds ilh an of thy to live,\\n  lip, of eye, of brow,\\n  i should pain,\\n  wart,\\n  sut nuty vand thut hish \""
            ]
          },
          "metadata": {
            "tags": []
          },
          "execution_count": 32
        }
      ]
    },
    {
      "cell_type": "markdown",
      "metadata": {
        "id": "bpRrIYUFZmvv",
        "colab_type": "text"
      },
      "source": [
        "Данная часть задания завершена."
      ]
    },
    {
      "cell_type": "markdown",
      "metadata": {
        "id": "9YsCndrEZmvw",
        "colab_type": "text"
      },
      "source": [
        "#### Полезные ссылки\n",
        "1. <a href='http://karpathy.github.io/2015/05/21/rnn-effectiveness/'> Статья Андрея Карпатого про RNN. </a> В качестве примеров рассматриваются задачи генерации Шекспировских текстов, Latex формул, Linux Source Code и детских имен.\n",
        "2. <a href='https://github.com/karpathy/char-rnn'> Репозиторий с кодом по char-rnn </a> (тоже за авторством Андрея Карпатого)\n",
        "3. Полезный репозиторий по PyTorch: [ссылка](https://github.com/spro/practical-pytorch`)"
      ]
    }
  ]
}