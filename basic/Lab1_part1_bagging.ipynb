{
  "nbformat": 4,
  "nbformat_minor": 0,
  "metadata": {
    "celltoolbar": "Create Assignment",
    "kernelspec": {
      "display_name": "Python 3",
      "language": "python",
      "name": "python3"
    },
    "language_info": {
      "codemirror_mode": {
        "name": "ipython",
        "version": 3
      },
      "file_extension": ".py",
      "mimetype": "text/x-python",
      "name": "python",
      "nbconvert_exporter": "python",
      "pygments_lexer": "ipython3",
      "version": "3.6.4"
    },
    "toc": {
      "base_numbering": 1,
      "nav_menu": {},
      "number_sections": false,
      "sideBar": true,
      "skip_h1_title": false,
      "title_cell": "Table of Contents",
      "title_sidebar": "Contents",
      "toc_cell": false,
      "toc_position": {},
      "toc_section_display": true,
      "toc_window_display": false
    },
    "colab": {
      "name": "Copy of Lab1_part1_bagging.ipynb",
      "provenance": [],
      "collapsed_sections": [],
      "toc_visible": true
    }
  },
  "cells": [
    {
      "cell_type": "markdown",
      "metadata": {
        "nbgrader": {
          "grade": false,
          "grade_id": "cell-86e0de040aac317a",
          "locked": true,
          "schema_version": 2,
          "solution": false
        },
        "id": "nMFuLZ0sf763",
        "colab_type": "text"
      },
      "source": [
        "# Лабораторная работа №1. \n",
        "\n",
        "Данная лабораторная работа состоит из нескольких блоков. В каждом блоке вам предлагается произвести некоторые манипуляции с данными и сделать некоторые выводы.\n",
        "* Задавать вопросы можно и нужно.\n",
        "* Списывать не нужно. Работы, которые были списаны обнуляются.\n",
        "* Блоки выполняются последовательно и оцениваются отдельно."
      ]
    },
    {
      "cell_type": "markdown",
      "metadata": {
        "id": "Am9AXMw6f77M",
        "colab_type": "text"
      },
      "source": [
        "__Вторая часть задания про градиентный бустинг и третья про SVM ждут вас в соседних ноутбуках.__"
      ]
    },
    {
      "cell_type": "markdown",
      "metadata": {
        "nbgrader": {
          "grade": false,
          "grade_id": "cell-512ba712fc0fc065",
          "locked": true,
          "schema_version": 2,
          "solution": false
        },
        "id": "tu_xWKQ6f77c",
        "colab_type": "text"
      },
      "source": [
        "## Часть 1. Работа с моделями и ансамблями моделей в задачи классификации."
      ]
    },
    {
      "cell_type": "markdown",
      "metadata": {
        "nbgrader": {
          "grade": false,
          "grade_id": "cell-b656a4266174b009",
          "locked": true,
          "schema_version": 2,
          "solution": false
        },
        "id": "mZDePi1uf77k",
        "colab_type": "text"
      },
      "source": [
        "### 1. Чтение данных.\n",
        "Воспользуемся [датасетом](https://archive.ics.uci.edu/ml/datasets/Statlog+%28Vehicle+Silhouettes%29), в котором описываются различные автомобили. Будем решать задачу многоклассовой ($k=4$) классификации.\n",
        "Для удобства, датасет уже преобразован в удобный формат."
      ]
    },
    {
      "cell_type": "code",
      "metadata": {
        "nbgrader": {
          "grade": false,
          "grade_id": "cell-eebac6bfdf73d0bc",
          "locked": true,
          "schema_version": 2,
          "solution": false
        },
        "id": "XHltWl1wf77r",
        "colab_type": "code",
        "colab": {
          "base_uri": "https://localhost:8080/",
          "height": 72
        },
        "outputId": "cd7f9f9c-0684-4d40-ebfa-00f6ab92bf92"
      },
      "source": [
        "import pandas as pd\n",
        "import numpy as np\n",
        "from sklearn.model_selection import train_test_split\n",
        "import seaborn as sns\n",
        "import matplotlib.pyplot as plt\n",
        "from sklearn.preprocessing import StandardScaler\n",
        "from sklearn.linear_model import LogisticRegression\n",
        "from sklearn.pipeline import Pipeline\n",
        "from sklearn.model_selection import GridSearchCV\n",
        "\n",
        "\n",
        "\n",
        "data_ = pd.read_csv('car_data.csv', delimiter=',', header=None)\n",
        "\n",
        "dataset = pd.read_csv('car_data.csv', delimiter=',', header=None).values\n",
        "data = dataset[:, :-1].astype(int)\n",
        "target = dataset[:, -1]\n",
        "\n",
        "print(data.shape, target.shape)\n",
        "\n",
        "X_train, X_test, y_train, y_test = train_test_split(data, target, test_size=0.35)\n",
        "print(X_train.shape, y_train.shape, X_test.shape, y_test.shape)\n"
      ],
      "execution_count": null,
      "outputs": [
        {
          "output_type": "stream",
          "text": [
            "(846, 19) (846,)\n",
            "(549, 19) (549,) (297, 19) (297,)\n"
          ],
          "name": "stdout"
        }
      ]
    },
    {
      "cell_type": "markdown",
      "metadata": {
        "nbgrader": {
          "grade": false,
          "grade_id": "cell-88b1a0f688568f2c",
          "locked": true,
          "schema_version": 2,
          "solution": false
        },
        "id": "VNB_ox2ef78M",
        "colab_type": "text"
      },
      "source": [
        "Для первичного анализа может быть полезна библиотека `pandas`. Преобразуем `train` выборку в `pd.DataFrame`."
      ]
    },
    {
      "cell_type": "code",
      "metadata": {
        "id": "vB156IJ6f78S",
        "colab_type": "code",
        "colab": {
          "base_uri": "https://localhost:8080/",
          "height": 540
        },
        "outputId": "bbffae56-c5f7-4108-b1bb-08768e3a97bf"
      },
      "source": [
        "X_train_pd = pd.DataFrame(X_train)\n",
        "\n",
        "# First 15 rows of our dataset.\n",
        "X_train_pd.head(15)"
      ],
      "execution_count": null,
      "outputs": [
        {
          "output_type": "execute_result",
          "data": {
            "text/html": [
              "<div>\n",
              "<style scoped>\n",
              "    .dataframe tbody tr th:only-of-type {\n",
              "        vertical-align: middle;\n",
              "    }\n",
              "\n",
              "    .dataframe tbody tr th {\n",
              "        vertical-align: top;\n",
              "    }\n",
              "\n",
              "    .dataframe thead th {\n",
              "        text-align: right;\n",
              "    }\n",
              "</style>\n",
              "<table border=\"1\" class=\"dataframe\">\n",
              "  <thead>\n",
              "    <tr style=\"text-align: right;\">\n",
              "      <th></th>\n",
              "      <th>0</th>\n",
              "      <th>1</th>\n",
              "      <th>2</th>\n",
              "      <th>3</th>\n",
              "      <th>4</th>\n",
              "      <th>5</th>\n",
              "      <th>6</th>\n",
              "      <th>7</th>\n",
              "      <th>8</th>\n",
              "      <th>9</th>\n",
              "      <th>10</th>\n",
              "      <th>11</th>\n",
              "      <th>12</th>\n",
              "      <th>13</th>\n",
              "      <th>14</th>\n",
              "      <th>15</th>\n",
              "      <th>16</th>\n",
              "      <th>17</th>\n",
              "      <th>18</th>\n",
              "    </tr>\n",
              "  </thead>\n",
              "  <tbody>\n",
              "    <tr>\n",
              "      <th>0</th>\n",
              "      <td>182</td>\n",
              "      <td>91</td>\n",
              "      <td>42</td>\n",
              "      <td>66</td>\n",
              "      <td>169</td>\n",
              "      <td>66</td>\n",
              "      <td>7</td>\n",
              "      <td>145</td>\n",
              "      <td>44</td>\n",
              "      <td>19</td>\n",
              "      <td>140</td>\n",
              "      <td>169</td>\n",
              "      <td>325</td>\n",
              "      <td>159</td>\n",
              "      <td>67</td>\n",
              "      <td>4</td>\n",
              "      <td>0</td>\n",
              "      <td>201</td>\n",
              "      <td>207</td>\n",
              "    </tr>\n",
              "    <tr>\n",
              "      <th>1</th>\n",
              "      <td>684</td>\n",
              "      <td>99</td>\n",
              "      <td>38</td>\n",
              "      <td>74</td>\n",
              "      <td>184</td>\n",
              "      <td>66</td>\n",
              "      <td>6</td>\n",
              "      <td>164</td>\n",
              "      <td>39</td>\n",
              "      <td>20</td>\n",
              "      <td>131</td>\n",
              "      <td>193</td>\n",
              "      <td>414</td>\n",
              "      <td>137</td>\n",
              "      <td>71</td>\n",
              "      <td>2</td>\n",
              "      <td>22</td>\n",
              "      <td>200</td>\n",
              "      <td>202</td>\n",
              "    </tr>\n",
              "    <tr>\n",
              "      <th>2</th>\n",
              "      <td>140</td>\n",
              "      <td>90</td>\n",
              "      <td>37</td>\n",
              "      <td>80</td>\n",
              "      <td>171</td>\n",
              "      <td>58</td>\n",
              "      <td>9</td>\n",
              "      <td>157</td>\n",
              "      <td>42</td>\n",
              "      <td>20</td>\n",
              "      <td>132</td>\n",
              "      <td>172</td>\n",
              "      <td>373</td>\n",
              "      <td>115</td>\n",
              "      <td>60</td>\n",
              "      <td>3</td>\n",
              "      <td>18</td>\n",
              "      <td>201</td>\n",
              "      <td>209</td>\n",
              "    </tr>\n",
              "    <tr>\n",
              "      <th>3</th>\n",
              "      <td>116</td>\n",
              "      <td>100</td>\n",
              "      <td>45</td>\n",
              "      <td>100</td>\n",
              "      <td>209</td>\n",
              "      <td>65</td>\n",
              "      <td>8</td>\n",
              "      <td>201</td>\n",
              "      <td>32</td>\n",
              "      <td>23</td>\n",
              "      <td>147</td>\n",
              "      <td>231</td>\n",
              "      <td>611</td>\n",
              "      <td>189</td>\n",
              "      <td>72</td>\n",
              "      <td>5</td>\n",
              "      <td>5</td>\n",
              "      <td>189</td>\n",
              "      <td>195</td>\n",
              "    </tr>\n",
              "    <tr>\n",
              "      <th>4</th>\n",
              "      <td>3</td>\n",
              "      <td>93</td>\n",
              "      <td>41</td>\n",
              "      <td>82</td>\n",
              "      <td>159</td>\n",
              "      <td>63</td>\n",
              "      <td>9</td>\n",
              "      <td>144</td>\n",
              "      <td>46</td>\n",
              "      <td>19</td>\n",
              "      <td>143</td>\n",
              "      <td>160</td>\n",
              "      <td>309</td>\n",
              "      <td>127</td>\n",
              "      <td>63</td>\n",
              "      <td>6</td>\n",
              "      <td>10</td>\n",
              "      <td>199</td>\n",
              "      <td>207</td>\n",
              "    </tr>\n",
              "    <tr>\n",
              "      <th>5</th>\n",
              "      <td>804</td>\n",
              "      <td>104</td>\n",
              "      <td>52</td>\n",
              "      <td>101</td>\n",
              "      <td>206</td>\n",
              "      <td>62</td>\n",
              "      <td>10</td>\n",
              "      <td>198</td>\n",
              "      <td>33</td>\n",
              "      <td>23</td>\n",
              "      <td>161</td>\n",
              "      <td>207</td>\n",
              "      <td>587</td>\n",
              "      <td>204</td>\n",
              "      <td>64</td>\n",
              "      <td>2</td>\n",
              "      <td>5</td>\n",
              "      <td>195</td>\n",
              "      <td>204</td>\n",
              "    </tr>\n",
              "    <tr>\n",
              "      <th>6</th>\n",
              "      <td>653</td>\n",
              "      <td>97</td>\n",
              "      <td>41</td>\n",
              "      <td>92</td>\n",
              "      <td>197</td>\n",
              "      <td>63</td>\n",
              "      <td>10</td>\n",
              "      <td>179</td>\n",
              "      <td>37</td>\n",
              "      <td>21</td>\n",
              "      <td>140</td>\n",
              "      <td>197</td>\n",
              "      <td>481</td>\n",
              "      <td>136</td>\n",
              "      <td>63</td>\n",
              "      <td>4</td>\n",
              "      <td>3</td>\n",
              "      <td>197</td>\n",
              "      <td>204</td>\n",
              "    </tr>\n",
              "    <tr>\n",
              "      <th>7</th>\n",
              "      <td>367</td>\n",
              "      <td>82</td>\n",
              "      <td>37</td>\n",
              "      <td>59</td>\n",
              "      <td>134</td>\n",
              "      <td>63</td>\n",
              "      <td>7</td>\n",
              "      <td>135</td>\n",
              "      <td>51</td>\n",
              "      <td>18</td>\n",
              "      <td>128</td>\n",
              "      <td>151</td>\n",
              "      <td>264</td>\n",
              "      <td>143</td>\n",
              "      <td>82</td>\n",
              "      <td>11</td>\n",
              "      <td>24</td>\n",
              "      <td>179</td>\n",
              "      <td>185</td>\n",
              "    </tr>\n",
              "    <tr>\n",
              "      <th>8</th>\n",
              "      <td>356</td>\n",
              "      <td>91</td>\n",
              "      <td>45</td>\n",
              "      <td>76</td>\n",
              "      <td>171</td>\n",
              "      <td>69</td>\n",
              "      <td>7</td>\n",
              "      <td>150</td>\n",
              "      <td>44</td>\n",
              "      <td>19</td>\n",
              "      <td>144</td>\n",
              "      <td>170</td>\n",
              "      <td>340</td>\n",
              "      <td>179</td>\n",
              "      <td>69</td>\n",
              "      <td>12</td>\n",
              "      <td>1</td>\n",
              "      <td>195</td>\n",
              "      <td>201</td>\n",
              "    </tr>\n",
              "    <tr>\n",
              "      <th>9</th>\n",
              "      <td>763</td>\n",
              "      <td>102</td>\n",
              "      <td>52</td>\n",
              "      <td>98</td>\n",
              "      <td>225</td>\n",
              "      <td>71</td>\n",
              "      <td>10</td>\n",
              "      <td>214</td>\n",
              "      <td>31</td>\n",
              "      <td>24</td>\n",
              "      <td>164</td>\n",
              "      <td>228</td>\n",
              "      <td>682</td>\n",
              "      <td>199</td>\n",
              "      <td>71</td>\n",
              "      <td>0</td>\n",
              "      <td>16</td>\n",
              "      <td>187</td>\n",
              "      <td>196</td>\n",
              "    </tr>\n",
              "    <tr>\n",
              "      <th>10</th>\n",
              "      <td>682</td>\n",
              "      <td>90</td>\n",
              "      <td>46</td>\n",
              "      <td>73</td>\n",
              "      <td>137</td>\n",
              "      <td>58</td>\n",
              "      <td>11</td>\n",
              "      <td>161</td>\n",
              "      <td>43</td>\n",
              "      <td>20</td>\n",
              "      <td>158</td>\n",
              "      <td>170</td>\n",
              "      <td>373</td>\n",
              "      <td>186</td>\n",
              "      <td>76</td>\n",
              "      <td>0</td>\n",
              "      <td>9</td>\n",
              "      <td>182</td>\n",
              "      <td>193</td>\n",
              "    </tr>\n",
              "    <tr>\n",
              "      <th>11</th>\n",
              "      <td>263</td>\n",
              "      <td>89</td>\n",
              "      <td>35</td>\n",
              "      <td>70</td>\n",
              "      <td>138</td>\n",
              "      <td>58</td>\n",
              "      <td>7</td>\n",
              "      <td>126</td>\n",
              "      <td>53</td>\n",
              "      <td>17</td>\n",
              "      <td>128</td>\n",
              "      <td>147</td>\n",
              "      <td>237</td>\n",
              "      <td>112</td>\n",
              "      <td>64</td>\n",
              "      <td>4</td>\n",
              "      <td>19</td>\n",
              "      <td>199</td>\n",
              "      <td>207</td>\n",
              "    </tr>\n",
              "    <tr>\n",
              "      <th>12</th>\n",
              "      <td>324</td>\n",
              "      <td>94</td>\n",
              "      <td>38</td>\n",
              "      <td>88</td>\n",
              "      <td>179</td>\n",
              "      <td>60</td>\n",
              "      <td>7</td>\n",
              "      <td>170</td>\n",
              "      <td>39</td>\n",
              "      <td>21</td>\n",
              "      <td>131</td>\n",
              "      <td>188</td>\n",
              "      <td>435</td>\n",
              "      <td>144</td>\n",
              "      <td>66</td>\n",
              "      <td>2</td>\n",
              "      <td>28</td>\n",
              "      <td>195</td>\n",
              "      <td>204</td>\n",
              "    </tr>\n",
              "    <tr>\n",
              "      <th>13</th>\n",
              "      <td>769</td>\n",
              "      <td>91</td>\n",
              "      <td>36</td>\n",
              "      <td>83</td>\n",
              "      <td>162</td>\n",
              "      <td>61</td>\n",
              "      <td>8</td>\n",
              "      <td>142</td>\n",
              "      <td>47</td>\n",
              "      <td>19</td>\n",
              "      <td>128</td>\n",
              "      <td>163</td>\n",
              "      <td>298</td>\n",
              "      <td>137</td>\n",
              "      <td>63</td>\n",
              "      <td>0</td>\n",
              "      <td>31</td>\n",
              "      <td>193</td>\n",
              "      <td>200</td>\n",
              "    </tr>\n",
              "    <tr>\n",
              "      <th>14</th>\n",
              "      <td>1</td>\n",
              "      <td>91</td>\n",
              "      <td>41</td>\n",
              "      <td>84</td>\n",
              "      <td>141</td>\n",
              "      <td>57</td>\n",
              "      <td>9</td>\n",
              "      <td>149</td>\n",
              "      <td>45</td>\n",
              "      <td>19</td>\n",
              "      <td>143</td>\n",
              "      <td>170</td>\n",
              "      <td>330</td>\n",
              "      <td>158</td>\n",
              "      <td>72</td>\n",
              "      <td>9</td>\n",
              "      <td>14</td>\n",
              "      <td>189</td>\n",
              "      <td>199</td>\n",
              "    </tr>\n",
              "  </tbody>\n",
              "</table>\n",
              "</div>"
            ],
            "text/plain": [
              "     0    1   2    3    4   5   6    7   ...   11   12   13  14  15  16   17   18\n",
              "0   182   91  42   66  169  66   7  145  ...  169  325  159  67   4   0  201  207\n",
              "1   684   99  38   74  184  66   6  164  ...  193  414  137  71   2  22  200  202\n",
              "2   140   90  37   80  171  58   9  157  ...  172  373  115  60   3  18  201  209\n",
              "3   116  100  45  100  209  65   8  201  ...  231  611  189  72   5   5  189  195\n",
              "4     3   93  41   82  159  63   9  144  ...  160  309  127  63   6  10  199  207\n",
              "5   804  104  52  101  206  62  10  198  ...  207  587  204  64   2   5  195  204\n",
              "6   653   97  41   92  197  63  10  179  ...  197  481  136  63   4   3  197  204\n",
              "7   367   82  37   59  134  63   7  135  ...  151  264  143  82  11  24  179  185\n",
              "8   356   91  45   76  171  69   7  150  ...  170  340  179  69  12   1  195  201\n",
              "9   763  102  52   98  225  71  10  214  ...  228  682  199  71   0  16  187  196\n",
              "10  682   90  46   73  137  58  11  161  ...  170  373  186  76   0   9  182  193\n",
              "11  263   89  35   70  138  58   7  126  ...  147  237  112  64   4  19  199  207\n",
              "12  324   94  38   88  179  60   7  170  ...  188  435  144  66   2  28  195  204\n",
              "13  769   91  36   83  162  61   8  142  ...  163  298  137  63   0  31  193  200\n",
              "14    1   91  41   84  141  57   9  149  ...  170  330  158  72   9  14  189  199\n",
              "\n",
              "[15 rows x 19 columns]"
            ]
          },
          "metadata": {
            "tags": []
          },
          "execution_count": 43
        }
      ]
    },
    {
      "cell_type": "markdown",
      "metadata": {
        "nbgrader": {
          "grade": false,
          "grade_id": "cell-98e7d91d77d65fcf",
          "locked": true,
          "schema_version": 2,
          "solution": false
        },
        "id": "7XXktpwYf78k",
        "colab_type": "text"
      },
      "source": [
        "Воспользовавшись методами `describe` и `info` можно получить полезную информацию о датасете."
      ]
    },
    {
      "cell_type": "code",
      "metadata": {
        "id": "YHofpPekf78q",
        "colab_type": "code",
        "colab": {
          "base_uri": "https://localhost:8080/",
          "height": 320
        },
        "outputId": "ee038aeb-8f87-45a3-8659-1e9e484900be"
      },
      "source": [
        "X_train_pd.describe()"
      ],
      "execution_count": null,
      "outputs": [
        {
          "output_type": "execute_result",
          "data": {
            "text/html": [
              "<div>\n",
              "<style scoped>\n",
              "    .dataframe tbody tr th:only-of-type {\n",
              "        vertical-align: middle;\n",
              "    }\n",
              "\n",
              "    .dataframe tbody tr th {\n",
              "        vertical-align: top;\n",
              "    }\n",
              "\n",
              "    .dataframe thead th {\n",
              "        text-align: right;\n",
              "    }\n",
              "</style>\n",
              "<table border=\"1\" class=\"dataframe\">\n",
              "  <thead>\n",
              "    <tr style=\"text-align: right;\">\n",
              "      <th></th>\n",
              "      <th>0</th>\n",
              "      <th>1</th>\n",
              "      <th>2</th>\n",
              "      <th>3</th>\n",
              "      <th>4</th>\n",
              "      <th>5</th>\n",
              "      <th>6</th>\n",
              "      <th>7</th>\n",
              "      <th>8</th>\n",
              "      <th>9</th>\n",
              "      <th>10</th>\n",
              "      <th>11</th>\n",
              "      <th>12</th>\n",
              "      <th>13</th>\n",
              "      <th>14</th>\n",
              "      <th>15</th>\n",
              "      <th>16</th>\n",
              "      <th>17</th>\n",
              "      <th>18</th>\n",
              "    </tr>\n",
              "  </thead>\n",
              "  <tbody>\n",
              "    <tr>\n",
              "      <th>count</th>\n",
              "      <td>549.000000</td>\n",
              "      <td>549.000000</td>\n",
              "      <td>549.000000</td>\n",
              "      <td>549.000000</td>\n",
              "      <td>549.000000</td>\n",
              "      <td>549.000000</td>\n",
              "      <td>549.000000</td>\n",
              "      <td>549.000000</td>\n",
              "      <td>549.000000</td>\n",
              "      <td>549.000000</td>\n",
              "      <td>549.000000</td>\n",
              "      <td>549.000000</td>\n",
              "      <td>549.000000</td>\n",
              "      <td>549.000000</td>\n",
              "      <td>549.000000</td>\n",
              "      <td>549.000000</td>\n",
              "      <td>549.000000</td>\n",
              "      <td>549.000000</td>\n",
              "      <td>549.000000</td>\n",
              "    </tr>\n",
              "    <tr>\n",
              "      <th>mean</th>\n",
              "      <td>421.338798</td>\n",
              "      <td>93.628415</td>\n",
              "      <td>44.825137</td>\n",
              "      <td>82.174863</td>\n",
              "      <td>169.641166</td>\n",
              "      <td>61.841530</td>\n",
              "      <td>8.648452</td>\n",
              "      <td>168.679417</td>\n",
              "      <td>40.903461</td>\n",
              "      <td>20.559199</td>\n",
              "      <td>147.879781</td>\n",
              "      <td>188.768670</td>\n",
              "      <td>438.741348</td>\n",
              "      <td>174.238616</td>\n",
              "      <td>72.151184</td>\n",
              "      <td>6.413479</td>\n",
              "      <td>12.670310</td>\n",
              "      <td>189.256831</td>\n",
              "      <td>195.910747</td>\n",
              "    </tr>\n",
              "    <tr>\n",
              "      <th>std</th>\n",
              "      <td>242.358029</td>\n",
              "      <td>8.108097</td>\n",
              "      <td>6.156892</td>\n",
              "      <td>15.381713</td>\n",
              "      <td>33.945811</td>\n",
              "      <td>8.552459</td>\n",
              "      <td>4.817310</td>\n",
              "      <td>32.702027</td>\n",
              "      <td>7.617915</td>\n",
              "      <td>2.550700</td>\n",
              "      <td>14.354611</td>\n",
              "      <td>31.053275</td>\n",
              "      <td>173.730333</td>\n",
              "      <td>32.430716</td>\n",
              "      <td>7.600717</td>\n",
              "      <td>4.896211</td>\n",
              "      <td>8.859541</td>\n",
              "      <td>6.114597</td>\n",
              "      <td>7.421441</td>\n",
              "    </tr>\n",
              "    <tr>\n",
              "      <th>min</th>\n",
              "      <td>0.000000</td>\n",
              "      <td>76.000000</td>\n",
              "      <td>34.000000</td>\n",
              "      <td>49.000000</td>\n",
              "      <td>105.000000</td>\n",
              "      <td>47.000000</td>\n",
              "      <td>3.000000</td>\n",
              "      <td>114.000000</td>\n",
              "      <td>26.000000</td>\n",
              "      <td>17.000000</td>\n",
              "      <td>118.000000</td>\n",
              "      <td>134.000000</td>\n",
              "      <td>194.000000</td>\n",
              "      <td>109.000000</td>\n",
              "      <td>60.000000</td>\n",
              "      <td>0.000000</td>\n",
              "      <td>0.000000</td>\n",
              "      <td>177.000000</td>\n",
              "      <td>181.000000</td>\n",
              "    </tr>\n",
              "    <tr>\n",
              "      <th>25%</th>\n",
              "      <td>211.000000</td>\n",
              "      <td>88.000000</td>\n",
              "      <td>40.000000</td>\n",
              "      <td>70.000000</td>\n",
              "      <td>141.000000</td>\n",
              "      <td>57.000000</td>\n",
              "      <td>7.000000</td>\n",
              "      <td>146.000000</td>\n",
              "      <td>33.000000</td>\n",
              "      <td>19.000000</td>\n",
              "      <td>137.000000</td>\n",
              "      <td>167.000000</td>\n",
              "      <td>318.000000</td>\n",
              "      <td>149.000000</td>\n",
              "      <td>67.000000</td>\n",
              "      <td>2.000000</td>\n",
              "      <td>6.000000</td>\n",
              "      <td>185.000000</td>\n",
              "      <td>191.000000</td>\n",
              "    </tr>\n",
              "    <tr>\n",
              "      <th>50%</th>\n",
              "      <td>426.000000</td>\n",
              "      <td>92.000000</td>\n",
              "      <td>44.000000</td>\n",
              "      <td>79.000000</td>\n",
              "      <td>166.000000</td>\n",
              "      <td>61.000000</td>\n",
              "      <td>8.000000</td>\n",
              "      <td>157.000000</td>\n",
              "      <td>43.000000</td>\n",
              "      <td>20.000000</td>\n",
              "      <td>146.000000</td>\n",
              "      <td>178.000000</td>\n",
              "      <td>363.000000</td>\n",
              "      <td>173.000000</td>\n",
              "      <td>71.000000</td>\n",
              "      <td>6.000000</td>\n",
              "      <td>11.000000</td>\n",
              "      <td>189.000000</td>\n",
              "      <td>197.000000</td>\n",
              "    </tr>\n",
              "    <tr>\n",
              "      <th>75%</th>\n",
              "      <td>629.000000</td>\n",
              "      <td>100.000000</td>\n",
              "      <td>50.000000</td>\n",
              "      <td>98.000000</td>\n",
              "      <td>195.000000</td>\n",
              "      <td>65.000000</td>\n",
              "      <td>10.000000</td>\n",
              "      <td>199.000000</td>\n",
              "      <td>46.000000</td>\n",
              "      <td>23.000000</td>\n",
              "      <td>159.000000</td>\n",
              "      <td>217.000000</td>\n",
              "      <td>595.000000</td>\n",
              "      <td>198.000000</td>\n",
              "      <td>75.000000</td>\n",
              "      <td>10.000000</td>\n",
              "      <td>19.000000</td>\n",
              "      <td>193.000000</td>\n",
              "      <td>201.000000</td>\n",
              "    </tr>\n",
              "    <tr>\n",
              "      <th>max</th>\n",
              "      <td>845.000000</td>\n",
              "      <td>119.000000</td>\n",
              "      <td>58.000000</td>\n",
              "      <td>110.000000</td>\n",
              "      <td>333.000000</td>\n",
              "      <td>138.000000</td>\n",
              "      <td>55.000000</td>\n",
              "      <td>262.000000</td>\n",
              "      <td>58.000000</td>\n",
              "      <td>28.000000</td>\n",
              "      <td>182.000000</td>\n",
              "      <td>320.000000</td>\n",
              "      <td>998.000000</td>\n",
              "      <td>262.000000</td>\n",
              "      <td>135.000000</td>\n",
              "      <td>22.000000</td>\n",
              "      <td>41.000000</td>\n",
              "      <td>206.000000</td>\n",
              "      <td>211.000000</td>\n",
              "    </tr>\n",
              "  </tbody>\n",
              "</table>\n",
              "</div>"
            ],
            "text/plain": [
              "               0           1           2   ...          16          17          18\n",
              "count  549.000000  549.000000  549.000000  ...  549.000000  549.000000  549.000000\n",
              "mean   421.338798   93.628415   44.825137  ...   12.670310  189.256831  195.910747\n",
              "std    242.358029    8.108097    6.156892  ...    8.859541    6.114597    7.421441\n",
              "min      0.000000   76.000000   34.000000  ...    0.000000  177.000000  181.000000\n",
              "25%    211.000000   88.000000   40.000000  ...    6.000000  185.000000  191.000000\n",
              "50%    426.000000   92.000000   44.000000  ...   11.000000  189.000000  197.000000\n",
              "75%    629.000000  100.000000   50.000000  ...   19.000000  193.000000  201.000000\n",
              "max    845.000000  119.000000   58.000000  ...   41.000000  206.000000  211.000000\n",
              "\n",
              "[8 rows x 19 columns]"
            ]
          },
          "metadata": {
            "tags": []
          },
          "execution_count": 44
        }
      ]
    },
    {
      "cell_type": "code",
      "metadata": {
        "id": "e4Ardwpif79B",
        "colab_type": "code",
        "colab": {
          "base_uri": "https://localhost:8080/",
          "height": 454
        },
        "outputId": "c83702ab-a571-4b66-9d16-890d63cd0eb6"
      },
      "source": [
        "X_train_pd.info()"
      ],
      "execution_count": null,
      "outputs": [
        {
          "output_type": "stream",
          "text": [
            "<class 'pandas.core.frame.DataFrame'>\n",
            "RangeIndex: 549 entries, 0 to 548\n",
            "Data columns (total 19 columns):\n",
            "0     549 non-null int64\n",
            "1     549 non-null int64\n",
            "2     549 non-null int64\n",
            "3     549 non-null int64\n",
            "4     549 non-null int64\n",
            "5     549 non-null int64\n",
            "6     549 non-null int64\n",
            "7     549 non-null int64\n",
            "8     549 non-null int64\n",
            "9     549 non-null int64\n",
            "10    549 non-null int64\n",
            "11    549 non-null int64\n",
            "12    549 non-null int64\n",
            "13    549 non-null int64\n",
            "14    549 non-null int64\n",
            "15    549 non-null int64\n",
            "16    549 non-null int64\n",
            "17    549 non-null int64\n",
            "18    549 non-null int64\n",
            "dtypes: int64(19)\n",
            "memory usage: 81.6 KB\n"
          ],
          "name": "stdout"
        }
      ]
    },
    {
      "cell_type": "code",
      "metadata": {
        "id": "BMJEYr5qFMOT",
        "colab_type": "code",
        "colab": {
          "base_uri": "https://localhost:8080/",
          "height": 644
        },
        "outputId": "53abf0d9-235c-4682-873d-f653617ba273"
      },
      "source": [
        "y_test"
      ],
      "execution_count": null,
      "outputs": [
        {
          "output_type": "execute_result",
          "data": {
            "text/plain": [
              "array(['bus', 'saab', 'saab', 'bus', 'bus', 'van', 'opel', 'saab', 'opel',\n",
              "       'saab', 'van', 'bus', 'van', 'van', 'van', 'van', 'opel', 'van',\n",
              "       'bus', 'van', 'opel', 'van', 'opel', 'opel', 'opel', 'saab',\n",
              "       'saab', 'saab', 'bus', 'bus', 'opel', 'bus', 'saab', 'bus', 'bus',\n",
              "       'van', 'van', 'van', 'opel', 'opel', 'saab', 'opel', 'bus', 'saab',\n",
              "       'opel', 'opel', 'saab', 'saab', 'opel', 'van', 'bus', 'saab',\n",
              "       'saab', 'van', 'opel', 'saab', 'bus', 'bus', 'bus', 'opel', 'saab',\n",
              "       'bus', 'opel', 'bus', 'van', 'bus', 'saab', 'bus', 'bus', 'van',\n",
              "       'van', 'bus', 'bus', 'opel', 'bus', 'saab', 'opel', 'bus', 'bus',\n",
              "       'saab', 'opel', 'bus', 'van', 'saab', 'opel', 'opel', 'bus',\n",
              "       'saab', 'van', 'opel', 'opel', 'saab', 'opel', 'van', 'saab',\n",
              "       'saab', 'bus', 'van', 'opel', 'saab', 'saab', 'bus', 'saab', 'bus',\n",
              "       'van', 'opel', 'saab', 'bus', 'bus', 'saab', 'van', 'saab', 'opel',\n",
              "       'bus', 'saab', 'bus', 'saab', 'opel', 'opel', 'opel', 'saab',\n",
              "       'van', 'bus', 'opel', 'bus', 'saab', 'van', 'opel', 'opel', 'opel',\n",
              "       'van', 'bus', 'bus', 'opel', 'van', 'opel', 'opel', 'saab', 'opel',\n",
              "       'van', 'opel', 'saab', 'bus', 'bus', 'van', 'opel', 'van', 'bus',\n",
              "       'bus', 'van', 'opel', 'saab', 'bus', 'saab', 'bus', 'saab', 'opel',\n",
              "       'saab', 'saab', 'van', 'saab', 'opel', 'opel', 'van', 'van',\n",
              "       'opel', 'opel', 'bus', 'saab', 'opel', 'van', 'van', 'bus', 'van',\n",
              "       'bus', 'opel', 'van', 'opel', 'van', 'saab', 'van', 'van', 'opel',\n",
              "       'van', 'saab', 'van', 'bus', 'opel', 'van', 'van', 'opel', 'van',\n",
              "       'opel', 'saab', 'saab', 'saab', 'opel', 'saab', 'saab', 'van',\n",
              "       'opel', 'bus', 'saab', 'opel', 'bus', 'saab', 'saab', 'bus',\n",
              "       'saab', 'saab', 'saab', 'van', 'bus', 'van', 'bus', 'bus', 'bus',\n",
              "       'van', 'saab', 'saab', 'bus', 'saab', 'saab', 'opel', 'bus', 'van',\n",
              "       'van', 'saab', 'bus', 'opel', 'van', 'saab', 'opel', 'saab',\n",
              "       'opel', 'bus', 'bus', 'van', 'bus', 'saab', 'saab', 'van', 'bus',\n",
              "       'opel', 'van', 'van', 'saab', 'bus', 'bus', 'bus', 'bus', 'saab',\n",
              "       'bus', 'bus', 'bus', 'saab', 'bus', 'saab', 'opel', 'van', 'van',\n",
              "       'saab', 'van', 'saab', 'saab', 'bus', 'bus', 'van', 'van', 'opel',\n",
              "       'van', 'saab', 'saab', 'bus', 'saab', 'saab', 'bus', 'opel', 'van',\n",
              "       'bus', 'saab', 'bus', 'van', 'saab', 'opel', 'van', 'van', 'van',\n",
              "       'van', 'bus', 'van', 'van', 'bus', 'van', 'van', 'bus', 'bus'],\n",
              "      dtype=object)"
            ]
          },
          "metadata": {
            "tags": []
          },
          "execution_count": 46
        }
      ]
    },
    {
      "cell_type": "code",
      "metadata": {
        "id": "QaPMoplngN5z",
        "colab_type": "code",
        "colab": {
          "base_uri": "https://localhost:8080/",
          "height": 55
        },
        "outputId": "c7025899-3cac-420b-e814-762c2f809a7a"
      },
      "source": [
        "print ('Number of NaN:', X_train_pd.isnull().sum().sum())"
      ],
      "execution_count": null,
      "outputs": [
        {
          "output_type": "stream",
          "text": [
            "Number of NaN: 0\n"
          ],
          "name": "stdout"
        }
      ]
    },
    {
      "cell_type": "markdown",
      "metadata": {
        "nbgrader": {
          "grade": false,
          "grade_id": "cell-be844269be69c387",
          "locked": true,
          "schema_version": 2,
          "solution": false
        },
        "id": "emqLZTpEf79W",
        "colab_type": "text"
      },
      "source": [
        "### 2. Работа с данными, построение модели, анализ ошибки.\n",
        "Выполните следующие манипуляции с данными:"
      ]
    },
    {
      "cell_type": "markdown",
      "metadata": {
        "id": "NctS5byGf79i",
        "colab_type": "text"
      },
      "source": [
        "#### 2.0. Предобработка данных.\n",
        "* Произведите необходимые (по вашему мнению) манипуляции с данными и объясните их."
      ]
    },
    {
      "cell_type": "markdown",
      "metadata": {
        "id": "veNtWHm4gdq-",
        "colab_type": "text"
      },
      "source": [
        "1.   Все признаки только количесвтенные, категориальных нет (видно из описания датасета).\n",
        "2.   Заменим метки на численные.\n",
        "3.   Построим корреляционную матрицу.\n",
        "\n"
      ]
    },
    {
      "cell_type": "code",
      "metadata": {
        "id": "ibVQa2rXFkum",
        "colab_type": "code",
        "colab": {}
      },
      "source": [
        "y_train[y_train == 'saab'] = 0\n",
        "y_train[y_train == 'van'] = 1\n",
        "y_train[y_train == 'opel'] = 2\n",
        "y_train[y_train == 'bus'] = 3\n",
        "\n",
        "y_test[y_test == 'saab'] = 0\n",
        "y_test[y_test == 'van'] = 1\n",
        "y_test[y_test == 'opel'] = 2\n",
        "y_test[y_test == 'bus'] = 3\n",
        "\n",
        "y_test = y_test.astype('int')\n",
        "y_train = y_train.astype('int')"
      ],
      "execution_count": null,
      "outputs": []
    },
    {
      "cell_type": "code",
      "metadata": {
        "id": "P2bP4fWpF0qI",
        "colab_type": "code",
        "colab": {
          "base_uri": "https://localhost:8080/",
          "height": 471
        },
        "outputId": "d4c10c71-ecc7-4361-d365-788a4f8938ba"
      },
      "source": [
        "y_train"
      ],
      "execution_count": null,
      "outputs": [
        {
          "output_type": "execute_result",
          "data": {
            "text/plain": [
              "array([3, 3, 0, 2, 1, 2, 2, 0, 3, 2, 1, 1, 0, 0, 1, 3, 2, 1, 3, 0, 3, 0,\n",
              "       2, 2, 2, 1, 0, 2, 0, 0, 0, 2, 3, 2, 1, 1, 1, 2, 2, 2, 3, 2, 3, 3,\n",
              "       3, 1, 0, 3, 2, 0, 3, 3, 3, 1, 2, 2, 3, 1, 0, 2, 2, 3, 3, 0, 2, 2,\n",
              "       0, 0, 3, 0, 1, 1, 0, 1, 2, 0, 0, 1, 3, 3, 2, 1, 2, 3, 1, 3, 1, 0,\n",
              "       2, 1, 0, 3, 2, 3, 3, 0, 0, 2, 3, 1, 0, 1, 1, 1, 1, 2, 2, 0, 2, 1,\n",
              "       0, 1, 0, 1, 2, 3, 3, 2, 2, 2, 3, 2, 1, 0, 3, 0, 2, 0, 2, 3, 2, 1,\n",
              "       0, 3, 3, 1, 3, 0, 2, 0, 3, 1, 0, 0, 0, 1, 1, 3, 3, 3, 0, 0, 0, 1,\n",
              "       2, 1, 0, 2, 1, 0, 2, 1, 2, 1, 0, 3, 3, 1, 1, 2, 3, 0, 1, 0, 2, 0,\n",
              "       3, 3, 2, 0, 2, 0, 1, 1, 1, 1, 3, 0, 2, 0, 2, 1, 1, 3, 0, 3, 2, 1,\n",
              "       2, 0, 2, 2, 0, 3, 1, 2, 2, 3, 1, 2, 3, 2, 2, 0, 3, 3, 2, 3, 2, 0,\n",
              "       0, 1, 3, 1, 2, 3, 1, 1, 0, 2, 2, 2, 1, 2, 1, 3, 0, 2, 1, 3, 1, 3,\n",
              "       3, 1, 2, 2, 3, 1, 2, 0, 2, 1, 2, 1, 0, 3, 2, 2, 1, 1, 1, 2, 3, 2,\n",
              "       0, 3, 2, 3, 0, 3, 3, 2, 2, 1, 1, 1, 1, 1, 0, 2, 2, 1, 3, 1, 3, 2,\n",
              "       2, 2, 0, 2, 1, 0, 2, 0, 3, 3, 0, 3, 0, 3, 1, 2, 2, 1, 2, 0, 3, 1,\n",
              "       0, 2, 2, 3, 2, 3, 2, 2, 1, 2, 1, 0, 2, 1, 0, 3, 0, 1, 2, 2, 2, 1,\n",
              "       2, 0, 3, 1, 0, 3, 3, 3, 2, 3, 0, 2, 2, 0, 2, 1, 0, 2, 1, 0, 0, 0,\n",
              "       1, 1, 1, 0, 0, 0, 2, 0, 3, 1, 3, 2, 0, 3, 3, 3, 3, 3, 0, 3, 0, 2,\n",
              "       0, 3, 3, 1, 3, 3, 3, 2, 0, 0, 0, 1, 0, 2, 3, 2, 3, 2, 2, 2, 0, 3,\n",
              "       3, 1, 3, 3, 3, 3, 0, 0, 0, 3, 0, 1, 2, 1, 2, 3, 2, 1, 2, 1, 1, 3,\n",
              "       0, 1, 0, 1, 3, 1, 1, 3, 2, 0, 3, 1, 1, 3, 0, 3, 0, 0, 0, 0, 2, 1,\n",
              "       0, 2, 3, 3, 0, 1, 0, 3, 3, 1, 1, 3, 0, 3, 0, 2, 1, 3, 0, 0, 0, 2,\n",
              "       0, 2, 1, 3, 3, 0, 0, 0, 3, 0, 0, 1, 2, 3, 1, 1, 3, 3, 2, 1, 0, 2,\n",
              "       1, 3, 2, 0, 3, 2, 2, 0, 2, 3, 0, 2, 2, 1, 3, 2, 1, 1, 0, 2, 0, 3,\n",
              "       1, 2, 0, 2, 2, 1, 2, 2, 0, 0, 3, 3, 2, 2, 0, 1, 1, 3, 2, 2, 1, 3,\n",
              "       0, 0, 0, 2, 0, 0, 2, 3, 1, 3, 1, 1, 0, 0, 0, 0, 3, 1, 3, 3, 3])"
            ]
          },
          "metadata": {
            "tags": []
          },
          "execution_count": 49
        }
      ]
    },
    {
      "cell_type": "code",
      "metadata": {
        "nbgrader": {
          "grade": true,
          "grade_id": "cell-a1514aa189a49fca",
          "locked": false,
          "points": 15,
          "schema_version": 2,
          "solution": true
        },
        "id": "6wvdFeimf79m",
        "colab_type": "code",
        "colab": {
          "base_uri": "https://localhost:8080/",
          "height": 905
        },
        "outputId": "ada27820-02a5-4ed3-90cd-4129ebe0c566"
      },
      "source": [
        "corr_matrix = data_.corr()\n",
        "plt.figure(figsize = (17, 15))\n",
        "sns.heatmap(corr_matrix,  cmap=\"bwr\")"
      ],
      "execution_count": null,
      "outputs": [
        {
          "output_type": "execute_result",
          "data": {
            "text/plain": [
              "<matplotlib.axes._subplots.AxesSubplot at 0x7f5d256fc630>"
            ]
          },
          "metadata": {
            "tags": []
          },
          "execution_count": 50
        },
        {
          "output_type": "display_data",
          "data": {
            "image/png": "[encoded data removed]",
            "text/plain": [
              "<Figure size 1224x1080 with 2 Axes>"
            ]
          },
          "metadata": {
            "tags": []
          }
        }
      ]
    },
    {
      "cell_type": "markdown",
      "metadata": {
        "id": "kHEPoBzg2RBe",
        "colab_type": "text"
      },
      "source": [
        "*        По корреляционной матрице видно, что у нас много скореллированных признаков, что позволит нам использовать методы понижения размерности, без сильной потери в качестве предсказания.\n",
        "\n",
        "\n",
        "*         Отмаштабируем признаки, т.к. при регуляризации лучше иметь отскэйленные признаки, потому что она штрафует модели за большие веса. Сделаем это в пайплайне.\n",
        "\n",
        "\n",
        "\n",
        "\n",
        "\n",
        "\n"
      ]
    },
    {
      "cell_type": "markdown",
      "metadata": {
        "id": "bQDpa91_f79-",
        "colab_type": "text"
      },
      "source": [
        "#### 2.1. Базовая логистическая регрессия.\n",
        "* Подберите оптимальные параметры логистической регресии с помощью кросс-валидации на train-датасете (е переусердствуйте с подбором, в данной работе не стоит задача найти самую оптимальную модель. Небольшого grid/random search'а хватит).\n",
        "\n",
        "* Постройте график ROC-кривой для данного классификатора (`sklearn.metrics.roc_curve`), оцените точность классификации и f1-score. "
      ]
    },
    {
      "cell_type": "code",
      "metadata": {
        "nbgrader": {
          "grade": true,
          "grade_id": "cell-1dd5ad5d0845cbbb",
          "locked": false,
          "points": 5,
          "schema_version": 2,
          "solution": true
        },
        "id": "K8ujykSzf7-G",
        "colab_type": "code",
        "colab": {
          "base_uri": "https://localhost:8080/",
          "height": 55
        },
        "outputId": "be7feaf4-1f10-4ada-a0c0-3268063b6745"
      },
      "source": [
        "lr_clf = LogisticRegression(multi_class = 'multinomial', solver = 'saga', max_iter = 5000, n_jobs = -1)\n",
        "scaler = StandardScaler()\n",
        "\n",
        "pipeline = Pipeline(steps = [('scaling', scaler), ('regression', lr_clf)])\n",
        "\n",
        "pipeline.get_params().keys()"
      ],
      "execution_count": null,
      "outputs": [
        {
          "output_type": "execute_result",
          "data": {
            "text/plain": [
              "dict_keys(['memory', 'steps', 'verbose', 'scaling', 'regression', 'scaling__copy', 'scaling__with_mean', 'scaling__with_std', 'regression__C', 'regression__class_weight', 'regression__dual', 'regression__fit_intercept', 'regression__intercept_scaling', 'regression__l1_ratio', 'regression__max_iter', 'regression__multi_class', 'regression__n_jobs', 'regression__penalty', 'regression__random_state', 'regression__solver', 'regression__tol', 'regression__verbose', 'regression__warm_start'])"
            ]
          },
          "metadata": {
            "tags": []
          },
          "execution_count": 51
        }
      ]
    },
    {
      "cell_type": "code",
      "metadata": {
        "id": "2PXNOO8rgwcP",
        "colab_type": "code",
        "colab": {
          "base_uri": "https://localhost:8080/",
          "height": 471
        },
        "outputId": "b73e24f1-a67f-4bbb-8901-8b2b725702a0"
      },
      "source": [
        "parameters_grid = {\n",
        "    'regression__C' : np.linspace(0.01, 5, 20),\n",
        "    'regression__penalty' : ['l1', 'l2']\n",
        "}\n",
        "\n",
        "grid_cv = GridSearchCV(pipeline, parameters_grid, scoring = 'accuracy', n_jobs = -1, cv = 3)\n",
        "\n",
        "grid_cv.fit(X_train, y_train)"
      ],
      "execution_count": null,
      "outputs": [
        {
          "output_type": "execute_result",
          "data": {
            "text/plain": [
              "GridSearchCV(cv=3, error_score='raise-deprecating',\n",
              "             estimator=Pipeline(memory=None,\n",
              "                                steps=[('scaling',\n",
              "                                        StandardScaler(copy=True,\n",
              "                                                       with_mean=True,\n",
              "                                                       with_std=True)),\n",
              "                                       ('regression',\n",
              "                                        LogisticRegression(C=1.0,\n",
              "                                                           class_weight=None,\n",
              "                                                           dual=False,\n",
              "                                                           fit_intercept=True,\n",
              "                                                           intercept_scaling=1,\n",
              "                                                           l1_ratio=None,\n",
              "                                                           max_iter=5000,\n",
              "                                                           multi_class='multinomial',\n",
              "                                                           n_jobs=-1,\n",
              "                                                           penalty='l2',\n",
              "                                                           random_stat...\n",
              "             param_grid={'regression__C': array([0.01      , 0.27263158, 0.53526316, 0.79789474, 1.06052632,\n",
              "       1.32315789, 1.58578947, 1.84842105, 2.11105263, 2.37368421,\n",
              "       2.63631579, 2.89894737, 3.16157895, 3.42421053, 3.68684211,\n",
              "       3.94947368, 4.21210526, 4.47473684, 4.73736842, 5.        ]),\n",
              "                         'regression__penalty': ['l1', 'l2']},\n",
              "             pre_dispatch='2*n_jobs', refit=True, return_train_score=False,\n",
              "             scoring='accuracy', verbose=0)"
            ]
          },
          "metadata": {
            "tags": []
          },
          "execution_count": 52
        }
      ]
    },
    {
      "cell_type": "code",
      "metadata": {
        "id": "oLSkaCDbg1nb",
        "colab_type": "code",
        "colab": {
          "base_uri": "https://localhost:8080/",
          "height": 72
        },
        "outputId": "9cdbfc4f-e13b-44ba-ac58-193be8b95841"
      },
      "source": [
        "print(grid_cv.best_score_)\n",
        "print(grid_cv.best_params_)"
      ],
      "execution_count": null,
      "outputs": [
        {
          "output_type": "stream",
          "text": [
            "0.7759562841530054\n",
            "{'regression__C': 3.6868421052631577, 'regression__penalty': 'l1'}\n"
          ],
          "name": "stdout"
        }
      ]
    },
    {
      "cell_type": "code",
      "metadata": {
        "id": "MrOY5IXA-tSx",
        "colab_type": "code",
        "colab": {}
      },
      "source": [
        "# code from https://scikit-learn.org/stable/auto_examples/model_selection/plot_roc.html \n",
        "\n",
        "from sklearn.metrics import roc_curve, auc, f1_score\n",
        "from sklearn.preprocessing import label_binarize\n",
        "from sklearn.multiclass import OneVsRestClassifier\n",
        "from scipy import interp\n",
        "from itertools import cycle\n",
        "\n",
        "\n",
        "\n",
        "\n",
        "def roc_plot(estimator, X_train, y_train, X_test, y_test, tree = None):\n",
        "  n_classes = 4\n",
        "  # Binarize the output\n",
        "  y_train_bin = label_binarize(y_train, classes=[0, 1, 2, 3])\n",
        "  y_test_bin = label_binarize(y_test, classes=[0, 1, 2, 3])\n",
        "\n",
        "\n",
        "  clf = OneVsRestClassifier(estimator)\n",
        "  \n",
        "  if tree != None:\n",
        "    y_score = clf.fit(X_train, y_train_bin).predict_proba(X_test)\n",
        "  else:\n",
        "    y_score = clf.fit(X_train, y_train_bin).decision_function(X_test)\n",
        "\n",
        "\n",
        "  fpr = dict()\n",
        "  tpr = dict()\n",
        "  roc_auc = dict()\n",
        "  for i in range(n_classes):\n",
        "      fpr[i], tpr[i], _ = roc_curve(y_test_bin[:, i], y_score[:, i])\n",
        "      roc_auc[i] = auc(fpr[i], tpr[i])\n",
        "\n",
        "\n",
        "  lw = 2\n",
        "\n",
        "    \n",
        "\n",
        "  # First aggregate all false positive rates\n",
        "  all_fpr = np.unique(np.concatenate([fpr[i] for i in range(n_classes)]))\n",
        "\n",
        "  # Then interpolate all ROC curves at this points\n",
        "  mean_tpr = np.zeros_like(all_fpr)\n",
        "  for i in range(n_classes):\n",
        "      mean_tpr += interp(all_fpr, fpr[i], tpr[i])\n",
        "\n",
        "  # Finally average it and compute AUC\n",
        "  mean_tpr /= n_classes\n",
        "\n",
        "\n",
        "  # Plot all ROC curves\n",
        "  plt.figure()\n",
        "\n",
        "  colors = cycle(['aqua', 'darkorange', 'cornflowerblue', 'darkgreen'])\n",
        "  for i, color in zip(range(n_classes), colors):\n",
        "     plt.plot(fpr[i], tpr[i], color=color, lw=lw,\n",
        "               label='ROC curve of class {0} (area = {1:0.2f})'\n",
        "               ''.format(i, roc_auc[i]))\n",
        "\n",
        "  plt.plot([0, 1], [0, 1], 'k--', lw=lw)\n",
        "  plt.xlim([0.0, 1.0])\n",
        "  plt.ylim([0.0, 1.05])\n",
        "  plt.xlabel('False Positive Rate')\n",
        "  plt.ylabel('True Positive Rate')\n",
        "  plt.title('Some extension of Receiver operating characteristic to multi-class')\n",
        "  plt.legend(loc=\"lower right\")\n",
        "  plt.show()"
      ],
      "execution_count": null,
      "outputs": []
    },
    {
      "cell_type": "code",
      "metadata": {
        "id": "fk2cmui2_Isl",
        "colab_type": "code",
        "colab": {
          "base_uri": "https://localhost:8080/",
          "height": 316
        },
        "outputId": "c67c19e5-0b29-4324-c864-8b17ce0f0294"
      },
      "source": [
        "roc_plot(grid_cv.best_estimator_, X_train, y_train, X_test, y_test)"
      ],
      "execution_count": null,
      "outputs": [
        {
          "output_type": "display_data",
          "data": {
            "image/png": "[encoded data removed]",
            "text/plain": [
              "<Figure size 432x288 with 1 Axes>"
            ]
          },
          "metadata": {
            "tags": []
          }
        }
      ]
    },
    {
      "cell_type": "code",
      "metadata": {
        "id": "AEM8cRkn5u4R",
        "colab_type": "code",
        "colab": {
          "base_uri": "https://localhost:8080/",
          "height": 90
        },
        "outputId": "6db7859c-8c8c-436f-dee1-10e9c6d6dc90"
      },
      "source": [
        "print('f1 - score(macro):', f1_score(y_test, grid_cv.best_estimator_.predict(X_test), average='macro')) \n",
        "print('f1 - score(micro):', f1_score(y_test, grid_cv.best_estimator_.predict(X_test), average='micro')) \n",
        "print('f1 - score(weighted):', f1_score(y_test, grid_cv.best_estimator_.predict(X_test), average='weighted')) "
      ],
      "execution_count": null,
      "outputs": [
        {
          "output_type": "stream",
          "text": [
            "f1 - score(macro): 0.8203735570670798\n",
            "f1 - score(micro): 0.8282828282828283\n",
            "f1 - score(weighted): 0.826631341525183\n"
          ],
          "name": "stdout"
        }
      ]
    },
    {
      "cell_type": "markdown",
      "metadata": {
        "id": "m7HYxAjFf7_U",
        "colab_type": "text"
      },
      "source": [
        "#### 2.2. Зависимость объясненной дисперсии от числа главных компонент.\n",
        "Воспользуемся методом главных компонент (PCA). \n",
        "\n",
        "Примените его к train-части данных.\n",
        "Постройте график зависимости объясненной дисперсии (explained variance ratio) от количества главных компонент."
      ]
    },
    {
      "cell_type": "markdown",
      "metadata": {
        "id": "NoeEkouf2wbM",
        "colab_type": "text"
      },
      "source": [
        "Перед PCA обязательно надо отмаштабировать признаки, чтобы алгоритм корректно выбирал самые важные компоненты."
      ]
    },
    {
      "cell_type": "code",
      "metadata": {
        "nbgrader": {
          "grade": true,
          "grade_id": "cell-c6c614740bce090e",
          "locked": false,
          "points": 10,
          "schema_version": 2,
          "solution": true
        },
        "id": "8Weg4ERqf7_Z",
        "colab_type": "code",
        "colab": {}
      },
      "source": [
        "from sklearn.decomposition import PCA\n",
        "\n",
        "n_components = range(2, 19)\n",
        "\n",
        "ratio = []\n",
        "\n",
        "scaler = StandardScaler()\n",
        "scaler.fit(X_train, y_train)\n",
        "\n",
        "X_train_scaled = scaler.transform(X_train)\n",
        "\n",
        "\n",
        "for n in n_components:\n",
        "  pca = PCA(n_components = n)\n",
        "  pca.fit(X_train_scaled) \n",
        "  ratio.append(np.sum(pca.explained_variance_ratio_))"
      ],
      "execution_count": null,
      "outputs": []
    },
    {
      "cell_type": "code",
      "metadata": {
        "id": "-IbZ-ZVHhDN_",
        "colab_type": "code",
        "colab": {
          "base_uri": "https://localhost:8080/",
          "height": 316
        },
        "outputId": "cec652d5-1cbd-4718-a158-d4f7dafb420e"
      },
      "source": [
        "plt.plot(ratio, n_components)\n",
        "plt.xlabel('number of components')\n",
        "plt.ylabel('explained variance ratio')\n",
        "plt.title('PCA')\n",
        "plt.show()"
      ],
      "execution_count": null,
      "outputs": [
        {
          "output_type": "display_data",
          "data": {
            "image/png": "[encoded data removed]",
            "text/plain": [
              "<Figure size 432x288 with 1 Axes>"
            ]
          },
          "metadata": {
            "tags": []
          }
        }
      ]
    },
    {
      "cell_type": "markdown",
      "metadata": {
        "nbgrader": {
          "grade": false,
          "grade_id": "cell-0c1fe666f52fe53c",
          "locked": true,
          "schema_version": 2,
          "solution": false
        },
        "id": "jhuSa5Rpf7_t",
        "colab_type": "text"
      },
      "source": [
        "#### 2.3. Преобразование с помощью PCA.\n",
        "Выберите определенное число компонент. Кратко опишите, чем обусловлен ваш выбор.\n",
        "\n",
        "Используя эти главные компоненты, преобразуйте train и test выборки (используя методы `fit` и `transform`)."
      ]
    },
    {
      "cell_type": "markdown",
      "metadata": {
        "id": "-yUphJJ03Dz5",
        "colab_type": "text"
      },
      "source": [
        "Возьмем $n = 14$ компонент, т.к. по графику видно, что с дальнейшим ростом качетво уже меняется не так быстро. При этом, мы уменьшили размерность задачи практически на $25\\%$, что должно ускорить время работы."
      ]
    },
    {
      "cell_type": "code",
      "metadata": {
        "nbgrader": {
          "grade": true,
          "grade_id": "cell-96ab18d96473ef71",
          "locked": false,
          "points": 5,
          "schema_version": 2,
          "solution": true
        },
        "id": "F2hKTG6pf7_0",
        "colab_type": "code",
        "colab": {}
      },
      "source": [
        "scaler = StandardScaler()\n",
        "scaler.fit(X_train, y_train)\n",
        "\n",
        "X_train_scaled = scaler.transform(X_train)\n",
        "X_test_scaled = scaler.transform(X_test)\n",
        "\n",
        "pca = PCA(n_components = 14)\n",
        "\n",
        "pca.fit(X_train_scaled)\n",
        "X_train_scaled_pca = pca.transform(X_train_scaled)\n",
        "X_test_scaled_pca = pca.transform(X_test_scaled)\n",
        "\n"
      ],
      "execution_count": null,
      "outputs": []
    },
    {
      "cell_type": "markdown",
      "metadata": {
        "nbgrader": {
          "grade": false,
          "grade_id": "cell-d28b58a35c94e988",
          "locked": true,
          "schema_version": 2,
          "solution": false
        },
        "id": "IQugaXrDf8AG",
        "colab_type": "text"
      },
      "source": [
        "#### 2.4. Логистическая регрессия над преобразованными данными.\n",
        "* Подберите оптимальные параметры логистической регресии с помощью кросс-валидации на преобразованном train-датасете.\n",
        "\n",
        "* Постройте график ROC-кривой для полученных классификаторов, оцените точность классификации и f1-score. "
      ]
    },
    {
      "cell_type": "code",
      "metadata": {
        "nbgrader": {
          "grade": true,
          "grade_id": "cell-12d53ea45258fa82",
          "locked": false,
          "points": 5,
          "schema_version": 2,
          "solution": true
        },
        "id": "CD012Nlff8AL",
        "colab_type": "code",
        "colab": {
          "base_uri": "https://localhost:8080/",
          "height": 298
        },
        "outputId": "bbf0c0b8-9219-4276-a9af-0593f4cd82bf"
      },
      "source": [
        "lr_clf = LogisticRegression(multi_class = 'multinomial', solver = 'saga', max_iter = 5000, n_jobs = -1)\n",
        "\n",
        "parameters_grid = {\n",
        "    'C' : np.linspace(0.01, 5, 10),\n",
        "    'penalty' : ['l1', 'l2']\n",
        "}\n",
        "\n",
        "grid_cv_pca = GridSearchCV(lr_clf, parameters_grid, scoring = 'accuracy', n_jobs = -1, cv = 3)\n",
        "\n",
        "grid_cv_pca.fit(X_train_scaled_pca, y_train)"
      ],
      "execution_count": null,
      "outputs": [
        {
          "output_type": "execute_result",
          "data": {
            "text/plain": [
              "GridSearchCV(cv=3, error_score='raise-deprecating',\n",
              "             estimator=LogisticRegression(C=1.0, class_weight=None, dual=False,\n",
              "                                          fit_intercept=True,\n",
              "                                          intercept_scaling=1, l1_ratio=None,\n",
              "                                          max_iter=5000,\n",
              "                                          multi_class='multinomial', n_jobs=-1,\n",
              "                                          penalty='l2', random_state=None,\n",
              "                                          solver='saga', tol=0.0001, verbose=0,\n",
              "                                          warm_start=False),\n",
              "             iid='warn', n_jobs=-1,\n",
              "             param_grid={'C': array([0.01      , 0.56444444, 1.11888889, 1.67333333, 2.22777778,\n",
              "       2.78222222, 3.33666667, 3.89111111, 4.44555556, 5.        ]),\n",
              "                         'penalty': ['l1', 'l2']},\n",
              "             pre_dispatch='2*n_jobs', refit=True, return_train_score=False,\n",
              "             scoring='accuracy', verbose=0)"
            ]
          },
          "metadata": {
            "tags": []
          },
          "execution_count": 62
        }
      ]
    },
    {
      "cell_type": "code",
      "metadata": {
        "id": "rQ6KgMTU5K-p",
        "colab_type": "code",
        "colab": {
          "base_uri": "https://localhost:8080/",
          "height": 72
        },
        "outputId": "1104e1be-cdd6-4cce-d94b-91f57a59ceed"
      },
      "source": [
        "print(grid_cv_pca.best_score_)\n",
        "print(grid_cv_pca.best_params_)"
      ],
      "execution_count": null,
      "outputs": [
        {
          "output_type": "stream",
          "text": [
            "0.7577413479052824\n",
            "{'C': 2.7822222222222224, 'penalty': 'l2'}\n"
          ],
          "name": "stdout"
        }
      ]
    },
    {
      "cell_type": "code",
      "metadata": {
        "id": "kG8SIILj_gjc",
        "colab_type": "code",
        "colab": {
          "base_uri": "https://localhost:8080/",
          "height": 316
        },
        "outputId": "8f6d6f53-1d16-4394-abc9-05b36282c51a"
      },
      "source": [
        "roc_plot(grid_cv_pca.best_estimator_, X_train_scaled_pca, y_train, X_test_scaled_pca, y_test)"
      ],
      "execution_count": null,
      "outputs": [
        {
          "output_type": "display_data",
          "data": {
            "image/png": "[encoded data removed]",
            "text/plain": [
              "<Figure size 432x288 with 1 Axes>"
            ]
          },
          "metadata": {
            "tags": []
          }
        }
      ]
    },
    {
      "cell_type": "code",
      "metadata": {
        "id": "68miv9J-79Wk",
        "colab_type": "code",
        "colab": {
          "base_uri": "https://localhost:8080/",
          "height": 90
        },
        "outputId": "868541e8-344e-4780-ebb3-4cf2c5a303f7"
      },
      "source": [
        "print('f1 - score(macro):', f1_score(y_test, grid_cv_pca.best_estimator_.predict(X_test_scaled_pca), average='macro')) \n",
        "print('f1 - score(micro):', f1_score(y_test, grid_cv_pca.best_estimator_.predict(X_test_scaled_pca), average='micro')) \n",
        "print('f1 - score(weighted):', f1_score(y_test, grid_cv_pca.best_estimator_.predict(X_test_scaled_pca), average='weighted')) "
      ],
      "execution_count": null,
      "outputs": [
        {
          "output_type": "stream",
          "text": [
            "f1 - score(macro): 0.7714759969755237\n",
            "f1 - score(micro): 0.7777777777777778\n",
            "f1 - score(weighted): 0.7763456626244554\n"
          ],
          "name": "stdout"
        }
      ]
    },
    {
      "cell_type": "markdown",
      "metadata": {
        "nbgrader": {
          "grade": false,
          "grade_id": "cell-4fbf16c64076e139",
          "locked": true,
          "schema_version": 2,
          "solution": false
        },
        "id": "778jgDdKf8AZ",
        "colab_type": "text"
      },
      "source": [
        "#### 2.5. Решающее дерево.\n",
        "Рассмотрим поведение решающего дерева на исходных и преобразованных данных. Будем варьировать лишь один параметр - максимальную глубину дерева. \n",
        "\n",
        "* С помощью кросс-валидации подберите оптимальный параметр `max_depth` и оцените на исходных и преобразованных данных те же метрики, что и выше."
      ]
    },
    {
      "cell_type": "code",
      "metadata": {
        "nbgrader": {
          "grade": true,
          "grade_id": "cell-748ed20b51c67fab",
          "locked": false,
          "points": 15,
          "schema_version": 2,
          "solution": true
        },
        "id": "EuH1sV3jf8Ae",
        "colab_type": "code",
        "colab": {}
      },
      "source": [
        "from sklearn.tree import DecisionTreeClassifier\n",
        "\n",
        "tree = DecisionTreeClassifier()\n",
        "parameters_grid = {\n",
        "    'max_depth' : range(2, 100),\n",
        "}\n",
        "\n",
        "grid_cv_tree = GridSearchCV(tree, parameters_grid, scoring = 'accuracy', n_jobs = -1, cv = 5)\n"
      ],
      "execution_count": null,
      "outputs": []
    },
    {
      "cell_type": "code",
      "metadata": {
        "id": "dhWw10fg_vkz",
        "colab_type": "code",
        "colab": {
          "base_uri": "https://localhost:8080/",
          "height": 454
        },
        "outputId": "9b74d2d8-9adb-4745-b651-2dae729c2939"
      },
      "source": [
        "print('preprocessing:')\n",
        "grid_cv_tree.fit(X_train_scaled_pca, y_train)\n",
        "print(grid_cv_tree.best_score_)\n",
        "print(grid_cv_tree.best_params_)\n",
        "\n",
        "roc_plot(grid_cv_tree.best_estimator_, X_train_scaled_pca, y_train, X_test_scaled_pca, y_test, tree = 1)\n",
        "\n",
        "print('f1 - score(macro):', f1_score(y_test, grid_cv_tree.best_estimator_.predict(X_test_scaled_pca), average='macro')) \n",
        "print('f1 - score(micro):', f1_score(y_test, grid_cv_tree.best_estimator_.predict(X_test_scaled_pca), average='micro')) \n",
        "print('f1 - score(weighted):', f1_score(y_test, grid_cv_tree.best_estimator_.predict(X_test_scaled_pca), average='weighted')) "
      ],
      "execution_count": null,
      "outputs": [
        {
          "output_type": "stream",
          "text": [
            "preprocessing:\n"
          ],
          "name": "stdout"
        },
        {
          "output_type": "stream",
          "text": [
            "/usr/local/lib/python3.6/dist-packages/sklearn/model_selection/_search.py:814: DeprecationWarning: The default of the `iid` parameter will change from True to False in version 0.22 and will be removed in 0.24. This will change numeric results when test-set sizes are unequal.\n",
            "  DeprecationWarning)\n"
          ],
          "name": "stderr"
        },
        {
          "output_type": "stream",
          "text": [
            "0.6593806921675774\n",
            "{'max_depth': 10}\n"
          ],
          "name": "stdout"
        },
        {
          "output_type": "display_data",
          "data": {
            "image/png": "[encoded data removed]",
            "text/plain": [
              "<Figure size 432x288 with 1 Axes>"
            ]
          },
          "metadata": {
            "tags": []
          }
        },
        {
          "output_type": "stream",
          "text": [
            "f1 - score(macro): 0.6623028477820063\n",
            "f1 - score(micro): 0.6666666666666666\n",
            "f1 - score(weighted): 0.6662496295011553\n"
          ],
          "name": "stdout"
        }
      ]
    },
    {
      "cell_type": "code",
      "metadata": {
        "id": "g-hb5hK4-fJq",
        "colab_type": "code",
        "colab": {
          "base_uri": "https://localhost:8080/",
          "height": 454
        },
        "outputId": "2b67aaa9-3f9c-403d-96b3-7f80171afbce"
      },
      "source": [
        "grid_cv_tree.fit(X_train, y_train)\n",
        "print('no preprocessing:')\n",
        "print(grid_cv_tree.best_score_)\n",
        "print(grid_cv_tree.best_params_)\n",
        "\n",
        "roc_plot(grid_cv_tree.best_estimator_, X_train, y_train, X_test, y_test, tree = 1)\n",
        "\n",
        "print('f1 - score(macro):', f1_score(y_test, grid_cv_tree.best_estimator_.predict(X_test), average='macro')) \n",
        "print('f1 - score(micro):', f1_score(y_test, grid_cv_tree.best_estimator_.predict(X_test), average='micro')) \n",
        "print('f1 - score(weighted):', f1_score(y_test, grid_cv_tree.best_estimator_.predict(X_test), average='weighted')) "
      ],
      "execution_count": null,
      "outputs": [
        {
          "output_type": "stream",
          "text": [
            "/usr/local/lib/python3.6/dist-packages/sklearn/model_selection/_search.py:814: DeprecationWarning: The default of the `iid` parameter will change from True to False in version 0.22 and will be removed in 0.24. This will change numeric results when test-set sizes are unequal.\n",
            "  DeprecationWarning)\n"
          ],
          "name": "stderr"
        },
        {
          "output_type": "stream",
          "text": [
            "no preprocessing:\n",
            "0.6812386156648452\n",
            "{'max_depth': 71}\n"
          ],
          "name": "stdout"
        },
        {
          "output_type": "display_data",
          "data": {
            "image/png": "[encoded data removed]",
            "text/plain": [
              "<Figure size 432x288 with 1 Axes>"
            ]
          },
          "metadata": {
            "tags": []
          }
        },
        {
          "output_type": "stream",
          "text": [
            "f1 - score(macro): 0.7022858796296296\n",
            "f1 - score(micro): 0.7070707070707071\n",
            "f1 - score(weighted): 0.708251496445941\n"
          ],
          "name": "stdout"
        }
      ]
    },
    {
      "cell_type": "markdown",
      "metadata": {
        "nbgrader": {
          "grade": false,
          "grade_id": "cell-9eadd4d8a03ae67a",
          "locked": true,
          "schema_version": 2,
          "solution": false
        },
        "id": "Pj25uhu0f8Aq",
        "colab_type": "text"
      },
      "source": [
        "#### 2.6. Bagging.\n",
        "Перейдем к ансамблям. \n",
        "\n",
        "Для построения ансамбля воспользуемся Bagging'ом с числом алгоритмов от 2 до 50. В качестве первого семейства базовых алгоримтов будем использовать линейные модели (т.е. логистическую регрессию), в качестве второго - решающие деревья. \n",
        "\n",
        "*Пояснение: Будем строить ансамбль только из моделей из одного семейства, т.е. логистическая регрессия не смешивается с решающими деревьями.*\n",
        "\n",
        "Для этого можно сгенерировать с помощью метода bootstrap 50 подвыборок из `train` выборки (того же размера, что и исходная), обучить логистическую регрессию и решающее дерево с оптимальными параметрами из предыдущего пункта на каждой из подвыборок и затем усреднить предсказания k моделей.\n",
        "\n",
        "*Hint: в sklearn может найтись подходящая функция, которая облегчит вам реализацию данного пункта.*\n",
        "\n",
        "* Постройте график качества классификации и f1-score на `train` и `test` датасетах в зависимости от числа алгоритмов, вошедших в ансамбль.\n",
        "\n",
        "* Проанализируйте график. Какое количество моделей стоит использовать? Как вы думаете, являются ли параметры решающего дерева, подобранные в предыдущем пункте оптимальными в данном случае?"
      ]
    },
    {
      "cell_type": "code",
      "metadata": {
        "nbgrader": {
          "grade": true,
          "grade_id": "cell-8fc95a2b206bdae1",
          "locked": false,
          "points": 35,
          "schema_version": 2,
          "solution": true
        },
        "id": "0hLrFiQ-f8At",
        "colab_type": "code",
        "colab": {}
      },
      "source": [
        "from sklearn.ensemble import BaggingClassifier\n",
        "\n",
        "f1_test_blr = []\n",
        "f1_train_blr = []\n",
        "\n",
        "for n in range(2, 50):\n",
        "  bag = BaggingClassifier(base_estimator = grid_cv.best_estimator_, n_estimators = n)\n",
        "  bag.fit(X_train, y_train)\n",
        "  scor_test = f1_score(y_test, bag.predict(X_test), average='micro')\n",
        "  #print('test: n = ' + str(n) + ' f1-score ' + str(scor_test))\n",
        "  scor_train = f1_score(y_train, bag.predict(X_train), average='micro')\n",
        "  #print('test: n = ' + str(n) + ' f1-score ' + str(scor_train)) \n",
        "  f1_test_blr.append(scor_test)\n",
        "  f1_train_blr.append(scor_train)"
      ],
      "execution_count": null,
      "outputs": []
    },
    {
      "cell_type": "code",
      "metadata": {
        "id": "CN_v6nOiQSXt",
        "colab_type": "code",
        "colab": {
          "base_uri": "https://localhost:8080/",
          "height": 316
        },
        "outputId": "d1dbae51-2736-4408-a382-25391be131c8"
      },
      "source": [
        "plt.plot(range(2, 50), f1_test_blr, label = 'test')\n",
        "plt.plot(range(2, 50), f1_train_blr, label = 'train')\n",
        "plt.xlabel('number of estimators')\n",
        "plt.ylabel('f1-score')\n",
        "plt.title('Bagging logistic regression')\n",
        "plt.legend()\n",
        "plt.show()"
      ],
      "execution_count": null,
      "outputs": [
        {
          "output_type": "display_data",
          "data": {
            "image/png": "[encoded data removed]",
            "text/plain": [
              "<Figure size 432x288 with 1 Axes>"
            ]
          },
          "metadata": {
            "tags": []
          }
        }
      ]
    },
    {
      "cell_type": "code",
      "metadata": {
        "id": "whoJHDE3RFEU",
        "colab_type": "code",
        "colab": {}
      },
      "source": [
        "from sklearn.ensemble import BaggingClassifier\n",
        "\n",
        "f1_test_bt = []\n",
        "f1_train_bt = []\n",
        "\n",
        "for n in range(2, 50):\n",
        "  bag = BaggingClassifier(base_estimator = grid_cv_tree.best_estimator_, n_estimators = n)\n",
        "  bag.fit(X_train, y_train)\n",
        "  scor_test = f1_score(y_test, bag.predict(X_test), average='micro')\n",
        "  print('test: n = ' + str(n) + ' f1-score ' + str(scor_test))\n",
        "  scor_train = f1_score(y_train, bag.predict(X_train), average='micro')\n",
        "  print('train: n = ' + str(n) + ' f1-score ' + str(scor_train)) \n",
        "  f1_test_bt.append(scor_test)\n",
        "  f1_train_bt.append(scor_train)"
      ],
      "execution_count": null,
      "outputs": []
    },
    {
      "cell_type": "code",
      "metadata": {
        "id": "ebLwXJV_RLVR",
        "colab_type": "code",
        "colab": {
          "base_uri": "https://localhost:8080/",
          "height": 316
        },
        "outputId": "24128bac-5674-4fd2-ac3b-adf7668a3fb5"
      },
      "source": [
        "plt.plot(range(2, 50), f1_test_bt, label = 'test')\n",
        "plt.plot(range(2, 50), f1_train_bt, label = 'train')\n",
        "plt.xlabel('number of estimators')\n",
        "plt.ylabel('f1-score')\n",
        "plt.legend()\n",
        "plt.title('Bagging trees')\n",
        "plt.show()"
      ],
      "execution_count": null,
      "outputs": [
        {
          "output_type": "display_data",
          "data": {
            "image/png": "[encoded data removed]",
            "text/plain": [
              "<Figure size 432x288 with 1 Axes>"
            ]
          },
          "metadata": {
            "tags": []
          }
        }
      ]
    },
    {
      "cell_type": "markdown",
      "metadata": {
        "id": "a1Nq384tTs76",
        "colab_type": "text"
      },
      "source": [
        "\n",
        "\n",
        "*   Стоит использовать такое число моделей, которое дает наилучший результат. Но при этом стоит учитывать, что время работы логистической регрессии растет с увелиением числа подвыборок, поэтому лучше взять $n$ поменьше, и тем самым найти баланс между временем работы и качетвом предсказания.\n",
        "*   Параметрам, полученным на кросс-валидации можно доверять. Все-таки мы их получили, изучив несколько подвыборок исходных данных, поэтому и для бэггинга эти параметры близки к оптимальным.\n",
        "\n"
      ]
    },
    {
      "cell_type": "markdown",
      "metadata": {
        "nbgrader": {
          "grade": false,
          "grade_id": "cell-241b7691ab44cbfb",
          "locked": true,
          "schema_version": 2,
          "solution": false
        },
        "id": "1udFVqWbf8A5",
        "colab_type": "text"
      },
      "source": [
        "#### 2.7. Random Forest.\n",
        "Теперь воспользуйтесь `sklearn`-реализацией алгоритма Random Forest. \n",
        "\n",
        "* Постройте аналогичные графики для него (изменяя число деревьев от 1 до 50). Остальные параметры можно оставить по умолчанию.\n",
        "\n",
        "* Проанализируйте полученные результаты. Каким получилось оптимальное число деревьев. Как оно соотносится с оптимальным числом деревьев и линейных моделей в bagging'е из предыдущего пункта?"
      ]
    },
    {
      "cell_type": "code",
      "metadata": {
        "nbgrader": {
          "grade": true,
          "grade_id": "cell-888755d0f3d91620",
          "locked": false,
          "points": 15,
          "schema_version": 2,
          "solution": true
        },
        "id": "l1U3Ys_cf8A8",
        "colab_type": "code",
        "colab": {}
      },
      "source": [
        "from sklearn.ensemble import RandomForestClassifier\n",
        "\n",
        "\n",
        "f1_test_rf =[]\n",
        "f1_train_rf = []\n",
        "\n",
        "for n in range(1, 51):\n",
        "  clf = RandomForestClassifier(n_estimators = n)\n",
        "  clf.fit(X_train, y_train)\n",
        "  scor_test = f1_score(y_test, clf.predict(X_test), average='micro')\n",
        "  #print('test: n = ' + str(n) + ' f1-score ' + str(scor_test))\n",
        "  scor_train = f1_score(y_train, clf.predict(X_train), average='micro')\n",
        "  #print('train: n = ' + str(n) + ' f1-score ' + str(scor_train)) \n",
        "  f1_test_rf.append(scor_test)\n",
        "  f1_train_rf.append(scor_train)\n",
        "  \n",
        "  "
      ],
      "execution_count": null,
      "outputs": []
    },
    {
      "cell_type": "code",
      "metadata": {
        "id": "T70eUfHEV2aG",
        "colab_type": "code",
        "colab": {
          "base_uri": "https://localhost:8080/",
          "height": 316
        },
        "outputId": "0c4e1335-c4a4-4b86-cb38-4bfffd79db80"
      },
      "source": [
        "plt.plot(range(1, 51), f1_test, label = 'test')\n",
        "plt.plot(range(1, 51), f1_train, label = 'train')\n",
        "plt.xlabel('number of estimators')\n",
        "plt.ylabel('f1-score')\n",
        "plt.title('Random forest')\n",
        "plt.legend()\n",
        "plt.show()"
      ],
      "execution_count": null,
      "outputs": [
        {
          "output_type": "display_data",
          "data": {
            "image/png": "[encoded data removed]",
            "text/plain": [
              "<Figure size 432x288 with 1 Axes>"
            ]
          },
          "metadata": {
            "tags": []
          }
        }
      ]
    },
    {
      "cell_type": "markdown",
      "metadata": {
        "nbgrader": {
          "grade": false,
          "grade_id": "cell-99191c0852538d4d",
          "locked": true,
          "schema_version": 2,
          "solution": false
        },
        "id": "IRFDLUE6f8BI",
        "colab_type": "text"
      },
      "source": [
        "#### 2.8. Кривая обучения.\n",
        "* Поделите обучающую выборку на 10 примерно равных частей. Обучите логистическую регрессию (с оптимальными параметрами), решающее дерево (аналогично), бэггинг над логистическими регрессиями и решающими деревьями (с выбранными параметрами) и RandomForest (из предыдущего пункта) на одной, двух, трех и т.д. частях.\n",
        "\n",
        "* Постройти график f1-score и accuracy на `train` и `test` датасетах в зависимости от размера обучающей выборки.\n",
        "\n",
        "* Проанализируйте полученный график. Можно ли сделать из него какие-либо выводы? Если да - кратко опишите их."
      ]
    },
    {
      "cell_type": "code",
      "metadata": {
        "id": "BCCzzSEuX5-n",
        "colab_type": "code",
        "colab": {}
      },
      "source": [
        "from sklearn.metrics import accuracy_score\n",
        "\n",
        "f1_test = []\n",
        "f1_train = []\n",
        "acc_test = []\n",
        "acc_train = []\n",
        "\n",
        "\n",
        "lr = grid_cv.best_estimator_\n",
        "tree = grid_cv_tree.best_estimator_\n",
        "bag_lr = BaggingClassifier(base_estimator = grid_cv.best_estimator_, n_estimators = np.argmax(f1_test_blr))\n",
        "bag_tr = BaggingClassifier(base_estimator = grid_cv_tree.best_estimator_, n_estimators = np.argmax(f1_test_bt))\n",
        "rf = RandomForestClassifier(n_estimators = np.argmax(f1_test_rf))\n",
        "\n",
        "clfs = [lr, tree, bag_lr, bag_tr, rf]\n",
        "\n",
        "train = []\n",
        "\n",
        "for clf in clfs:\n",
        "  for i in range(9):\n",
        "    X_split = X_train[: (i+1) * ceil(X_train.shape[0] / 10)]\n",
        "    y_split = y_train[: (i+1) * ceil(X_train.shape[0] / 10)]\n",
        "    clf.fit(X_split, y_split)\n",
        "    scor_test = f1_score(y_test, clf.predict(X_test), average='macro')\n",
        "    scor_train = f1_score(y_split, clf.predict(X_split), average='macro')\n",
        "    f1_test.append(scor_test)\n",
        "    f1_train.append(scor_train)\n",
        "    accuracy_test = accuracy_score(y_test, clf.predict(X_test))\n",
        "    accuracy_train = accuracy_score(y_split, clf.predict(X_split))\n",
        "    acc_test.append(accuracy_test)\n",
        "    acc_train.append(accuracy_train)\n",
        "    \n",
        "  clf.fit(X_train, y_train)\n",
        "  scor_test = f1_score(y_test, clf.predict(X_test), average='macro')\n",
        "  scor_train = f1_score(y_train, clf.predict(X_train), average='macro')\n",
        "  f1_test.append(scor_test)\n",
        "  f1_train.append(scor_train)\n",
        "  accuracy_test = accuracy_score(y_test, clf.predict(X_test))\n",
        "  accuracy_train = accuracy_score(y_train, clf.predict(X_train))\n",
        "  acc_test.append(accuracy_test)\n",
        "  acc_train.append(accuracy_train)  "
      ],
      "execution_count": null,
      "outputs": []
    },
    {
      "cell_type": "code",
      "metadata": {
        "id": "sXEH5PbVeAXk",
        "colab_type": "code",
        "colab": {
          "base_uri": "https://localhost:8080/",
          "height": 107
        },
        "outputId": "efcabe56-7595-4d9e-9ca9-05a3b750c328"
      },
      "source": [
        "print(f1_test)\n",
        "print(f1_train)\n",
        "print(acc_test)\n",
        "print(acc_train)"
      ],
      "execution_count": null,
      "outputs": [
        {
          "output_type": "stream",
          "text": [
            "[0.6551486636207592, 0.7651369481903834, 0.790061242109209, 0.8161536913256286, 0.8179840719146794, 0.8238516093601209, 0.8266268005840995, 0.8287610664257801, 0.8258328368369032, 0.8203735570670798, 0.5366127713212772, 0.5873914549263415, 0.6619820493409472, 0.6744520211754892, 0.6654130077818234, 0.6404355763248097, 0.6905316905316906, 0.694630492830458, 0.7322403241977942, 0.6906530001120536, 0.5545531370038412, 0.7116428164849868, 0.7704179943160216, 0.8218199629247376, 0.8027513399749922, 0.7717883615741676, 0.8209790096132801, 0.8206149820646638, 0.8077166452166452, 0.8203422110139871, 0.5707880923896056, 0.6690116075552559, 0.6997097526293218, 0.725982395107437, 0.7044198253437384, 0.727844735909252, 0.6968040598317078, 0.7137549052594143, 0.7239978451013229, 0.7283590209539194, 0.5897087055959549, 0.6856694941899237, 0.7231066037068736, 0.7127909397494535, 0.7337081506892827, 0.7258892511671914, 0.7101141339345348, 0.7160020622999261, 0.7458100718266252, 0.7471177944206882]\n",
            "[0.8510263929618769, 0.9110226559379102, 0.8607674124599621, 0.8511061319097194, 0.8614918835298974, 0.8291504031993993, 0.837464469507709, 0.8429717626839275, 0.8440028593004802, 0.8237936117729919, 1.0, 1.0, 1.0, 1.0, 1.0, 1.0, 1.0, 1.0, 1.0, 1.0, 0.8736256871564219, 0.8069685834037501, 0.8046885010995861, 0.8451465201465203, 0.8335437710437711, 0.8331524344473448, 0.829736217031299, 0.8590709779051733, 0.8257212053954366, 0.8249645368682124, 1.0, 0.9913561847988078, 0.9942528735632183, 0.9822534457068356, 1.0, 0.9940500899405009, 0.9974965749159298, 0.9977802659752097, 0.9980372839088067, 1.0, 0.9843597262952102, 1.0, 1.0, 1.0, 1.0, 1.0, 1.0, 1.0, 0.9978961511942436, 1.0]\n",
            "[0.6430976430976431, 0.7744107744107744, 0.797979797979798, 0.8215488215488216, 0.8249158249158249, 0.8282828282828283, 0.8316498316498316, 0.835016835016835, 0.8316498316498316, 0.8282828282828283, 0.5387205387205387, 0.6026936026936027, 0.6599326599326599, 0.6767676767676768, 0.6734006734006734, 0.6430976430976431, 0.6902356902356902, 0.6936026936026936, 0.7373737373737373, 0.696969696969697, 0.5387205387205387, 0.7171717171717171, 0.7811447811447811, 0.8249158249158249, 0.8080808080808081, 0.7744107744107744, 0.8282828282828283, 0.8249158249158249, 0.8148148148148148, 0.8282828282828283, 0.569023569023569, 0.6902356902356902, 0.7003367003367004, 0.7306397306397306, 0.7138047138047138, 0.7373737373737373, 0.7003367003367004, 0.7272727272727273, 0.7306397306397306, 0.7407407407407407, 0.5858585858585859, 0.7070707070707071, 0.7407407407407407, 0.7239057239057239, 0.7508417508417509, 0.7373737373737373, 0.7239057239057239, 0.7306397306397306, 0.7609427609427609, 0.7609427609427609]\n",
            "[0.8545454545454545, 0.9090909090909091, 0.8545454545454545, 0.8454545454545455, 0.8618181818181818, 0.8303030303030303, 0.8337662337662337, 0.8409090909090909, 0.8424242424242424, 0.819672131147541, 1.0, 1.0, 1.0, 1.0, 1.0, 1.0, 1.0, 1.0, 1.0, 1.0, 0.8727272727272727, 0.8090909090909091, 0.8, 0.8409090909090909, 0.8327272727272728, 0.8363636363636363, 0.825974025974026, 0.8568181818181818, 0.8242424242424242, 0.819672131147541, 1.0, 0.990909090909091, 0.9939393939393939, 0.9818181818181818, 1.0, 0.9939393939393939, 0.9974025974025974, 0.9977272727272727, 0.997979797979798, 1.0, 0.9818181818181818, 1.0, 1.0, 1.0, 1.0, 1.0, 1.0, 1.0, 0.997979797979798, 1.0]\n"
          ],
          "name": "stdout"
        }
      ]
    },
    {
      "cell_type": "code",
      "metadata": {
        "id": "uetPuwND9LQ1",
        "colab_type": "code",
        "colab": {
          "base_uri": "https://localhost:8080/",
          "height": 762
        },
        "outputId": "336fbc48-0033-4d40-c399-0d7f0ac3cdac"
      },
      "source": [
        "fig, axes = plt.subplots(5, 2, figsize=(15,10))\n",
        "fig.tight_layout()\n",
        "\n",
        "clfs_names = ['Logistic Regression', 'Decision Tree', 'Bagging Logistic Regression', 'Bagging Tree', 'Random Forest']\n",
        "\n",
        "for i in range(5):\n",
        "  axes[i, 0].set_title('f1 - score (macro): ' + str(clfs_names[i]))\n",
        "  axes[i, 0].plot(f1_test[10*i: 10*(i+1)], label = 'test')\n",
        "  axes[i, 0].plot(f1_train[10*i: 10*(i+1)], label = 'train')\n",
        "  axes[i, 0].legend()\n",
        "  axes[i, 1].set_title('Accuracy: ' + str(clfs_names[i]))\n",
        "  axes[i, 1].plot(acc_test[10*i: 10*(i+1)], label = 'test')\n",
        "  axes[i, 1].plot(acc_train[10*i: 10*(i+1)], label = 'train')\n",
        "  axes[i, 1].legend()"
      ],
      "execution_count": null,
      "outputs": [
        {
          "output_type": "display_data",
          "data": {
            "image/png": "[encoded data removed]",
            "text/plain": [
              "<Figure size 1080x720 with 10 Axes>"
            ]
          },
          "metadata": {
            "tags": []
          }
        }
      ]
    },
    {
      "cell_type": "markdown",
      "metadata": {
        "id": "A3KMhl8JI-lI",
        "colab_type": "text"
      },
      "source": [
        "\n",
        "\n",
        "*   f1-score (micro) и accuracy -- одно и то же, поэтому посмтроим f1-score (macro)\n",
        "*   Деревья и ансамбли с их участием плохо справляются с задачей, скорее всего данные плохо раделяются гиперплоскостями, параллельными осям координат\n",
        "*   Логистическа регрессия и бэггинг с ней лучше всего решают задачу."
      ]
    }
  ]
}